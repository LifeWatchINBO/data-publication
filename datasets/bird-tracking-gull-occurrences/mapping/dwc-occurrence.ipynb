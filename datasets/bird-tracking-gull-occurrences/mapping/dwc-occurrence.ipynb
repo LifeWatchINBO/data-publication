{
 "cells": [
  {
   "cell_type": "markdown",
   "metadata": {
    "run_control": {
     "frozen": false,
     "read_only": false
    }
   },
   "source": [
    "# ETL to Darwin Core"
   ]
  },
  {
   "cell_type": "markdown",
   "metadata": {},
   "source": [
    "In this notebook, the mapping from the Gull bird tracking to a Darwin Core standard. \n",
    "\n",
    "The starting point of this data-publication process is the output of the monthly running data pipeline/ETL of the raw logs towards an processed logs version as it is provided to the researchers. Technical setup explained [here](https://github.com/inbo/bird-tracking-aws) and processing steps available as R code [here](https://github.com/inbo/bird-tracking-etl). The outcome of this ETL is a `.CSV` and a `.sqlite` data output available (for registered users) at http://birdtracking-downloader.eu-west-1.elasticbeanstalk.com/. A download from the `sqlite` version of one of the outputs can be used here to convert it to a Darwin Core."
   ]
  },
  {
   "cell_type": "code",
   "execution_count": 2,
   "metadata": {
    "collapsed": true,
    "run_control": {
     "frozen": false,
     "read_only": false
    }
   },
   "outputs": [],
   "source": [
    "import os\n",
    "import gzip\n",
    "import shutil\n",
    "\n",
    "import pandas as pd"
   ]
  },
  {
   "cell_type": "code",
   "execution_count": 3,
   "metadata": {
    "collapsed": true,
    "run_control": {
     "frozen": false,
     "read_only": false
    }
   },
   "outputs": [],
   "source": [
    "path = '2017-03-02-processed-logs.db.gz'"
   ]
  },
  {
   "cell_type": "code",
   "execution_count": 4,
   "metadata": {
    "run_control": {
     "frozen": false,
     "read_only": false
    }
   },
   "outputs": [
    {
     "name": "stdout",
     "output_type": "stream",
     "text": [
      "sqlite file available for analysis\n"
     ]
    }
   ],
   "source": [
    "if os.path.isfile(path.rstrip('.gz')):\n",
    "    print(\"sqlite file available for analysis\")\n",
    "elif os.path.isfile(path):\n",
    "    with gzip.open(path, 'rb') as src, open(path.rstrip('.gz'), 'wb') as dest:\n",
    "            shutil.copyfileobj(src, dest)\n",
    "    os.remove(path)\n",
    "    print(\"sqlite file extracted from zip-folder\")\n",
    "else:\n",
    "    print(\"No sqlite or zip available, pleas provide file.\")"
   ]
  },
  {
   "cell_type": "code",
   "execution_count": 5,
   "metadata": {
    "collapsed": true,
    "run_control": {
     "frozen": false,
     "read_only": false
    }
   },
   "outputs": [],
   "source": [
    "from sqlalchemy import create_engine"
   ]
  },
  {
   "cell_type": "code",
   "execution_count": 6,
   "metadata": {
    "collapsed": true,
    "run_control": {
     "frozen": false,
     "read_only": false
    }
   },
   "outputs": [],
   "source": [
    "dbname = \"sqlite:///\" + path.rstrip('.gz')\n",
    "engine = create_engine(dbname)"
   ]
  },
  {
   "cell_type": "markdown",
   "metadata": {},
   "source": [
    "Extract Gull occurrences:"
   ]
  },
  {
   "cell_type": "code",
   "execution_count": 7,
   "metadata": {
    "run_control": {
     "frozen": false,
     "read_only": false
    }
   },
   "outputs": [],
   "source": [
    "data = pd.read_sql_query('SELECT * FROM processed_logs as pl WHERE species_code = \"lbbg\" or species_code = \"hg\" LIMIT 20000', engine)"
   ]
  },
  {
   "cell_type": "code",
   "execution_count": 8,
   "metadata": {},
   "outputs": [
    {
     "data": {
      "text/plain": [
       "(20000, 49)"
      ]
     },
     "execution_count": 8,
     "metadata": {},
     "output_type": "execute_result"
    }
   ],
   "source": [
    "data.shape"
   ]
  },
  {
   "cell_type": "code",
   "execution_count": 9,
   "metadata": {
    "run_control": {
     "frozen": false,
     "read_only": false
    }
   },
   "outputs": [
    {
     "data": {
      "text/plain": [
       "array(['lbbg'], dtype=object)"
      ]
     },
     "execution_count": 9,
     "metadata": {},
     "output_type": "execute_result"
    }
   ],
   "source": [
    "data[\"species_code\"].unique()"
   ]
  },
  {
   "cell_type": "code",
   "execution_count": 10,
   "metadata": {
    "run_control": {
     "frozen": false,
     "read_only": false
    }
   },
   "outputs": [
    {
     "data": {
      "text/plain": [
       "Index(['OGC_FID', 'project_leader', 'device_info_serial', 'bird_name',\n",
       "       'ring_code', 'colour_ring_code', 'species_code', 'scientific_name',\n",
       "       'catch_weight', 'sex', 'catch_location', 'tracking_started_at',\n",
       "       'tracking_ended_at', 'is_active', 'remarks', 'colony_latitude',\n",
       "       'colony_longitude', 'date_time', 'latitude', 'longitude', 'altitude',\n",
       "       'pressure', 'temperature', 'satellites_used', 'gps_fixtime',\n",
       "       'positiondop', 'h_accuracy', 'v_accuracy', 'x_speed', 'y_speed',\n",
       "       'z_speed', 'speed_accuracy', 'userflag', 'speed_3d', 'speed_2d',\n",
       "       'direction', 'altitude_agl', 'calc_year', 'calc_month', 'calc_hour',\n",
       "       'calc_time_diff', 'calc_distance_diff', 'calc_speed_2d',\n",
       "       'calc_distance_to_colony', 'calc_sunlight', 'calc_outlier',\n",
       "       'calc_corine_value', 'calc_corine_legend', 'the_geom'],\n",
       "      dtype='object')"
      ]
     },
     "execution_count": 10,
     "metadata": {},
     "output_type": "execute_result"
    }
   ],
   "source": [
    "data.columns"
   ]
  },
  {
   "cell_type": "code",
   "execution_count": 11,
   "metadata": {
    "collapsed": true,
    "run_control": {
     "frozen": false,
     "read_only": false
    }
   },
   "outputs": [],
   "source": [
    "sample_outcome = pd.read_csv(\"dwc-occurrence-100.csv\")"
   ]
  },
  {
   "cell_type": "code",
   "execution_count": 12,
   "metadata": {
    "run_control": {
     "frozen": false,
     "read_only": false
    }
   },
   "outputs": [
    {
     "data": {
      "text/html": [
       "<div>\n",
       "<table border=\"1\" class=\"dataframe\">\n",
       "  <thead>\n",
       "    <tr style=\"text-align: right;\">\n",
       "      <th></th>\n",
       "      <th>occurrenceid</th>\n",
       "      <th>type</th>\n",
       "      <th>modified</th>\n",
       "      <th>language</th>\n",
       "      <th>license</th>\n",
       "      <th>rightsholder</th>\n",
       "      <th>accessrights</th>\n",
       "      <th>datasetid</th>\n",
       "      <th>institutioncode</th>\n",
       "      <th>datasetname</th>\n",
       "      <th>...</th>\n",
       "      <th>phylum</th>\n",
       "      <th>class</th>\n",
       "      <th>_order</th>\n",
       "      <th>family</th>\n",
       "      <th>genus</th>\n",
       "      <th>specificepithet</th>\n",
       "      <th>taxonrank</th>\n",
       "      <th>scientificnameauthorship</th>\n",
       "      <th>vernacularname</th>\n",
       "      <th>nomenclaturalcode</th>\n",
       "    </tr>\n",
       "  </thead>\n",
       "  <tbody>\n",
       "    <tr>\n",
       "      <th>0</th>\n",
       "      <td>703:20130530182507</td>\n",
       "      <td>Event</td>\n",
       "      <td>2015-04-29T09:34:49Z</td>\n",
       "      <td>en</td>\n",
       "      <td>http://creativecommons.org/publicdomain/zero/1.0/</td>\n",
       "      <td>INBO</td>\n",
       "      <td>http://www.inbo.be/en/norms-for-data-use</td>\n",
       "      <td>http://doi.org/10.15468/02omly</td>\n",
       "      <td>INBO</td>\n",
       "      <td>Bird tracking - GPS tracking of Lesser Black-b...</td>\n",
       "      <td>...</td>\n",
       "      <td>Chordata</td>\n",
       "      <td>Aves</td>\n",
       "      <td>Charadriiformes</td>\n",
       "      <td>Laridae</td>\n",
       "      <td>Larus</td>\n",
       "      <td>fuscus</td>\n",
       "      <td>species</td>\n",
       "      <td>Linnaeus, 1758</td>\n",
       "      <td>Lesser Black-backed Gull</td>\n",
       "      <td>ICZN</td>\n",
       "    </tr>\n",
       "    <tr>\n",
       "      <th>1</th>\n",
       "      <td>703:20130530185523</td>\n",
       "      <td>Event</td>\n",
       "      <td>2015-04-29T09:34:49Z</td>\n",
       "      <td>en</td>\n",
       "      <td>http://creativecommons.org/publicdomain/zero/1.0/</td>\n",
       "      <td>INBO</td>\n",
       "      <td>http://www.inbo.be/en/norms-for-data-use</td>\n",
       "      <td>http://doi.org/10.15468/02omly</td>\n",
       "      <td>INBO</td>\n",
       "      <td>Bird tracking - GPS tracking of Lesser Black-b...</td>\n",
       "      <td>...</td>\n",
       "      <td>Chordata</td>\n",
       "      <td>Aves</td>\n",
       "      <td>Charadriiformes</td>\n",
       "      <td>Laridae</td>\n",
       "      <td>Larus</td>\n",
       "      <td>fuscus</td>\n",
       "      <td>species</td>\n",
       "      <td>Linnaeus, 1758</td>\n",
       "      <td>Lesser Black-backed Gull</td>\n",
       "      <td>ICZN</td>\n",
       "    </tr>\n",
       "    <tr>\n",
       "      <th>2</th>\n",
       "      <td>703:20130530192538</td>\n",
       "      <td>Event</td>\n",
       "      <td>2015-04-29T09:34:49Z</td>\n",
       "      <td>en</td>\n",
       "      <td>http://creativecommons.org/publicdomain/zero/1.0/</td>\n",
       "      <td>INBO</td>\n",
       "      <td>http://www.inbo.be/en/norms-for-data-use</td>\n",
       "      <td>http://doi.org/10.15468/02omly</td>\n",
       "      <td>INBO</td>\n",
       "      <td>Bird tracking - GPS tracking of Lesser Black-b...</td>\n",
       "      <td>...</td>\n",
       "      <td>Chordata</td>\n",
       "      <td>Aves</td>\n",
       "      <td>Charadriiformes</td>\n",
       "      <td>Laridae</td>\n",
       "      <td>Larus</td>\n",
       "      <td>fuscus</td>\n",
       "      <td>species</td>\n",
       "      <td>Linnaeus, 1758</td>\n",
       "      <td>Lesser Black-backed Gull</td>\n",
       "      <td>ICZN</td>\n",
       "    </tr>\n",
       "    <tr>\n",
       "      <th>3</th>\n",
       "      <td>703:20130530195536</td>\n",
       "      <td>Event</td>\n",
       "      <td>2015-04-29T09:34:49Z</td>\n",
       "      <td>en</td>\n",
       "      <td>http://creativecommons.org/publicdomain/zero/1.0/</td>\n",
       "      <td>INBO</td>\n",
       "      <td>http://www.inbo.be/en/norms-for-data-use</td>\n",
       "      <td>http://doi.org/10.15468/02omly</td>\n",
       "      <td>INBO</td>\n",
       "      <td>Bird tracking - GPS tracking of Lesser Black-b...</td>\n",
       "      <td>...</td>\n",
       "      <td>Chordata</td>\n",
       "      <td>Aves</td>\n",
       "      <td>Charadriiformes</td>\n",
       "      <td>Laridae</td>\n",
       "      <td>Larus</td>\n",
       "      <td>fuscus</td>\n",
       "      <td>species</td>\n",
       "      <td>Linnaeus, 1758</td>\n",
       "      <td>Lesser Black-backed Gull</td>\n",
       "      <td>ICZN</td>\n",
       "    </tr>\n",
       "    <tr>\n",
       "      <th>4</th>\n",
       "      <td>703:20130530202528</td>\n",
       "      <td>Event</td>\n",
       "      <td>2015-04-29T09:34:49Z</td>\n",
       "      <td>en</td>\n",
       "      <td>http://creativecommons.org/publicdomain/zero/1.0/</td>\n",
       "      <td>INBO</td>\n",
       "      <td>http://www.inbo.be/en/norms-for-data-use</td>\n",
       "      <td>http://doi.org/10.15468/02omly</td>\n",
       "      <td>INBO</td>\n",
       "      <td>Bird tracking - GPS tracking of Lesser Black-b...</td>\n",
       "      <td>...</td>\n",
       "      <td>Chordata</td>\n",
       "      <td>Aves</td>\n",
       "      <td>Charadriiformes</td>\n",
       "      <td>Laridae</td>\n",
       "      <td>Larus</td>\n",
       "      <td>fuscus</td>\n",
       "      <td>species</td>\n",
       "      <td>Linnaeus, 1758</td>\n",
       "      <td>Lesser Black-backed Gull</td>\n",
       "      <td>ICZN</td>\n",
       "    </tr>\n",
       "  </tbody>\n",
       "</table>\n",
       "<p>5 rows × 43 columns</p>\n",
       "</div>"
      ],
      "text/plain": [
       "         occurrenceid   type              modified language  \\\n",
       "0  703:20130530182507  Event  2015-04-29T09:34:49Z       en   \n",
       "1  703:20130530185523  Event  2015-04-29T09:34:49Z       en   \n",
       "2  703:20130530192538  Event  2015-04-29T09:34:49Z       en   \n",
       "3  703:20130530195536  Event  2015-04-29T09:34:49Z       en   \n",
       "4  703:20130530202528  Event  2015-04-29T09:34:49Z       en   \n",
       "\n",
       "                                             license rightsholder  \\\n",
       "0  http://creativecommons.org/publicdomain/zero/1.0/         INBO   \n",
       "1  http://creativecommons.org/publicdomain/zero/1.0/         INBO   \n",
       "2  http://creativecommons.org/publicdomain/zero/1.0/         INBO   \n",
       "3  http://creativecommons.org/publicdomain/zero/1.0/         INBO   \n",
       "4  http://creativecommons.org/publicdomain/zero/1.0/         INBO   \n",
       "\n",
       "                               accessrights                       datasetid  \\\n",
       "0  http://www.inbo.be/en/norms-for-data-use  http://doi.org/10.15468/02omly   \n",
       "1  http://www.inbo.be/en/norms-for-data-use  http://doi.org/10.15468/02omly   \n",
       "2  http://www.inbo.be/en/norms-for-data-use  http://doi.org/10.15468/02omly   \n",
       "3  http://www.inbo.be/en/norms-for-data-use  http://doi.org/10.15468/02omly   \n",
       "4  http://www.inbo.be/en/norms-for-data-use  http://doi.org/10.15468/02omly   \n",
       "\n",
       "  institutioncode                                        datasetname  \\\n",
       "0            INBO  Bird tracking - GPS tracking of Lesser Black-b...   \n",
       "1            INBO  Bird tracking - GPS tracking of Lesser Black-b...   \n",
       "2            INBO  Bird tracking - GPS tracking of Lesser Black-b...   \n",
       "3            INBO  Bird tracking - GPS tracking of Lesser Black-b...   \n",
       "4            INBO  Bird tracking - GPS tracking of Lesser Black-b...   \n",
       "\n",
       "         ...           phylum class           _order   family  genus  \\\n",
       "0        ...         Chordata  Aves  Charadriiformes  Laridae  Larus   \n",
       "1        ...         Chordata  Aves  Charadriiformes  Laridae  Larus   \n",
       "2        ...         Chordata  Aves  Charadriiformes  Laridae  Larus   \n",
       "3        ...         Chordata  Aves  Charadriiformes  Laridae  Larus   \n",
       "4        ...         Chordata  Aves  Charadriiformes  Laridae  Larus   \n",
       "\n",
       "  specificepithet taxonrank scientificnameauthorship  \\\n",
       "0          fuscus   species           Linnaeus, 1758   \n",
       "1          fuscus   species           Linnaeus, 1758   \n",
       "2          fuscus   species           Linnaeus, 1758   \n",
       "3          fuscus   species           Linnaeus, 1758   \n",
       "4          fuscus   species           Linnaeus, 1758   \n",
       "\n",
       "             vernacularname nomenclaturalcode  \n",
       "0  Lesser Black-backed Gull              ICZN  \n",
       "1  Lesser Black-backed Gull              ICZN  \n",
       "2  Lesser Black-backed Gull              ICZN  \n",
       "3  Lesser Black-backed Gull              ICZN  \n",
       "4  Lesser Black-backed Gull              ICZN  \n",
       "\n",
       "[5 rows x 43 columns]"
      ]
     },
     "execution_count": 12,
     "metadata": {},
     "output_type": "execute_result"
    }
   ],
   "source": [
    "sample_outcome.head()"
   ]
  },
  {
   "cell_type": "markdown",
   "metadata": {},
   "source": [
    "## Pythonic ETL"
   ]
  },
  {
   "cell_type": "code",
   "execution_count": 13,
   "metadata": {
    "run_control": {
     "frozen": false,
     "read_only": false
    }
   },
   "outputs": [
    {
     "data": {
      "text/plain": [
       "array(['Larus fuscus'], dtype=object)"
      ]
     },
     "execution_count": 13,
     "metadata": {},
     "output_type": "execute_result"
    }
   ],
   "source": [
    "data[\"scientific_name\"].unique()"
   ]
  },
  {
   "cell_type": "code",
   "execution_count": 14,
   "metadata": {
    "collapsed": true,
    "run_control": {
     "frozen": false,
     "read_only": false
    }
   },
   "outputs": [],
   "source": [
    "data[\"date_time\"] = pd.to_datetime(data[\"date_time\"])"
   ]
  },
  {
   "cell_type": "markdown",
   "metadata": {},
   "source": [
    "__Remark__: The dates are already inn UTC, so no time zone shifting is required:"
   ]
  },
  {
   "cell_type": "raw",
   "metadata": {},
   "source": [
    "t.device_info_serial || ':' || to_char(t.date_time at time zone 'UTC','YYYYMMDDHH24MISS') as occurrenceID,"
   ]
  },
  {
   "cell_type": "code",
   "execution_count": 15,
   "metadata": {
    "collapsed": true,
    "run_control": {
     "frozen": false,
     "read_only": false
    }
   },
   "outputs": [],
   "source": [
    "df_dwc = pd.DataFrame(data[\"device_info_serial\"].astype(str) + \":\" +  data[\"date_time\"].dt.strftime(\"%Y%M%d%H%M%S\"), columns=[\"occurrence_ID\"])"
   ]
  },
  {
   "cell_type": "raw",
   "metadata": {},
   "source": [
    "  'Event'::text as type,\n",
    "    'en'::text as language,\n",
    "  'http://creativecommons.org/publicdomain/zero/1.0/'::text as license,\n",
    "  'INBO'::text as rightsholder,\n",
    "  'http://www.inbo.be/en/norms-for-data-use'::text as accessRights,\n",
    "  'http://dataset.inbo.be/bird-tracking-wmh-occurrences'::text as datasetID,\n",
    "  'INBO'::text as institutionCode,\n",
    "  'Bird tracking - GPS tracking of Western Marsh Harriers breeding near the Belgium-Netherlands border'::text as datasetName,\n",
    "  'INBO'::text as ownerInstitutionCode,\n",
    "  'MachineObservation'::text as basisOfRecord,\n",
    "  'see metadata'::text as informationWithheld,"
   ]
  },
  {
   "cell_type": "code",
   "execution_count": 16,
   "metadata": {
    "collapsed": true,
    "run_control": {
     "frozen": false,
     "read_only": false
    }
   },
   "outputs": [],
   "source": [
    "df_dwc[\"type\"] = \"Event\"\n",
    "df_dwc[\"language\"] = \"en\"\n",
    "df_dwc[\"license\"] = \"http://creativecommons.org/publicdomain/zero/1.0/\"\n",
    "df_dwc[\"rightsholder\"] = \"INBO\"\n",
    "df_dwc[\"accessRights\"] = \"http://www.inbo.be/en/norms-for-data-use\"\n",
    "df_dwc[\"datasetID\"] = \"http://dataset.inbo.be/bird-tracking-wmh-occurrences\"\n",
    "df_dwc[\"institutionCode\"] = \"INBO\"\n",
    "df_dwc[\"datasetName\"] = \"Bird tracking - GPS tracking of Western Marsh Harriers breeding near the Belgium-Netherlands border\"\n",
    "df_dwc[\"ownerInstitutionCode\"] = \"INBO\"\n",
    "df_dwc[\"basisOfRecord\"] = \"MachineObservation\"\n",
    "df_dwc[\"informationWithheld\"] = \"see metadata\""
   ]
  },
  {
   "cell_type": "markdown",
   "metadata": {},
   "source": [
    "**ISSUE**: to_char(t.updated_at at time zone 'UTC','YYYY-MM-DD\"T\"HH24:MI:SS\"Z\"') as modified,  # updated_at is a CARTO thing..."
   ]
  },
  {
   "cell_type": "code",
   "execution_count": 17,
   "metadata": {
    "collapsed": true
   },
   "outputs": [],
   "source": [
    "import datetime"
   ]
  },
  {
   "cell_type": "code",
   "execution_count": 18,
   "metadata": {},
   "outputs": [],
   "source": [
    "df_dwc[\"modified\"] = datetime.datetime.now().strftime(\"%Y-%M-%dT%H:%M:%SZ\") # proposal is to use 'now', i.e. last run of the notebook..."
   ]
  },
  {
   "cell_type": "raw",
   "metadata": {},
   "source": [
    "  ('{\"device_info_serial\":' || t.device_info_serial)::text || '}' as dynamicProperties,\n",
    "  d.sex::text as sex,\n",
    "  'adult'::text as lifeStage,\n",
    "  d.ring_code::text as organismID,\n",
    "  d.bird_name::text as organismName,\n",
    "  'doi:10.1007/s10336-012-0908-1'::text as samplingProtocol,"
   ]
  },
  {
   "cell_type": "code",
   "execution_count": 19,
   "metadata": {
    "collapsed": true,
    "run_control": {
     "frozen": false,
     "read_only": false
    }
   },
   "outputs": [],
   "source": [
    "df_dwc[\"dynamicProperties\"] = \"{'device_info_serial':\" + data[\"device_info_serial\"].astype(str) + \"}\"\n",
    "df_dwc[\"sex\"] = data[\"sex\"]\n",
    "df_dwc[\"lifeStage\"] = \"adult\"\n",
    "df_dwc[\"organismID\"] = data[\"ring_code\"]\n",
    "df_dwc[\"organismName\"] = data[\"bird_name\"]\n",
    "df_dwc[\"samplingProtocol\"] = \"doi:10.1007/s10336-012-0908-1\""
   ]
  },
  {
   "cell_type": "raw",
   "metadata": {},
   "source": [
    "  case\n",
    "    when intervalinseconds >= 0 then ('{\"secondsSinceLastOccurrence\":' || intervalinseconds || '}')::text\n",
    "    else '{\"secondsSinceLastOccurrence\":}'::text\n",
    "  end as samplingEffort,"
   ]
  },
  {
   "cell_type": "code",
   "execution_count": 20,
   "metadata": {
    "collapsed": true,
    "run_control": {
     "frozen": false,
     "read_only": false
    }
   },
   "outputs": [],
   "source": [
    "def samplingeff(x):\n",
    "    if x > 0.:\n",
    "        return \"{'secondsSinceLastOccurrence':\" + str(round(x)) +  \"}\"\n",
    "    else:\n",
    "        return \"{'secondsSinceLastOccurrence':}\""
   ]
  },
  {
   "cell_type": "code",
   "execution_count": 21,
   "metadata": {
    "collapsed": true,
    "run_control": {
     "frozen": false,
     "read_only": false
    }
   },
   "outputs": [],
   "source": [
    "df_dwc[\"intervalinseconds\"] = data[\"date_time\"].diff(1).dt.seconds\n",
    "df_dwc[\"samplingEffort\"] = df_dwc[\"intervalinseconds\"].apply(samplingeff)\n",
    "df_dwc = df_dwc.drop(\"intervalinseconds\", axis=1)"
   ]
  },
  {
   "cell_type": "raw",
   "metadata": {},
   "source": [
    "  to_char(t.date_time at time zone 'UTC','YYYY-MM-DD\"T\"HH24:MI:SS\"Z\"') as eventDate,"
   ]
  },
  {
   "cell_type": "code",
   "execution_count": 22,
   "metadata": {},
   "outputs": [],
   "source": [
    "df_dwc[\"eventDate\"] = data[\"date_time\"].dt.strftime(\"%Y-%M-%dT%H:%M:%SZ\")"
   ]
  },
  {
   "cell_type": "raw",
   "metadata": {
    "collapsed": true,
    "run_control": {
     "frozen": false,
     "read_only": false
    }
   },
   "source": [
    "  0::numeric as minimumElevationInMeters,\n",
    "  t.altitude::numeric as minimumDistanceAboveSurfaceInMeters,\n",
    "  t.latitude::numeric as decimalLatitude,\n",
    "  t.longitude::numeric as decimalLongitude,\n",
    "  'WGS84'::text as geodeticDatum,"
   ]
  },
  {
   "cell_type": "code",
   "execution_count": 23,
   "metadata": {
    "collapsed": true,
    "run_control": {
     "frozen": false,
     "read_only": false
    }
   },
   "outputs": [],
   "source": [
    "df_dwc[\"minimumElevationInMeters\"] = \"0\"\n",
    "df_dwc[\"minimumDistanceAboveSurfaceInMeters\"] = data[\"altitude\"]\n",
    "df_dwc[\"decimalLatitude\"] = data[\"latitude\"]\n",
    "df_dwc[\"decimalLongitude\"] = data[\"longitude\"]\n",
    "df_dwc[\"geodeticDatum\"] = \"WGS84\""
   ]
  },
  {
   "cell_type": "raw",
   "metadata": {},
   "source": [
    "  case\n",
    "    when h_accuracy is not null then round(h_accuracy)::numeric\n",
    "    else 30::numeric\n",
    "  end as coordinateUncertaintyInMeters,"
   ]
  },
  {
   "cell_type": "code",
   "execution_count": 24,
   "metadata": {
    "collapsed": true,
    "run_control": {
     "frozen": false,
     "read_only": false
    }
   },
   "outputs": [],
   "source": [
    "df_dwc[\"coordinateUncertaintyInMeters\"] = round(data[\"h_accuracy\"].where(data[\"h_accuracy\"].notnull(), 30)).astype(int)"
   ]
  },
  {
   "cell_type": "raw",
   "metadata": {},
   "source": [
    "to_char(t.date_time at time zone 'UTC','YYYY-MM-DD\"T\"HH24:MI:SS\"Z\"') as georeferencedDate,"
   ]
  },
  {
   "cell_type": "code",
   "execution_count": 25,
   "metadata": {
    "collapsed": true,
    "run_control": {
     "frozen": false,
     "read_only": false
    }
   },
   "outputs": [],
   "source": [
    "df_dwc[\"georeferencedDate\"] = data[\"date_time\"].dt.strftime(\"%Y-%M-%dT%H:%M:%SZ\")"
   ]
  },
  {
   "cell_type": "raw",
   "metadata": {},
   "source": [
    "  'doi:10.1080/13658810412331280211'::text as georeferenceProtocol,\n",
    "  'GPS'::text as georeferenceSources,\n",
    "  'unverified'::text as georeferenceVerificationStatus,"
   ]
  },
  {
   "cell_type": "code",
   "execution_count": 26,
   "metadata": {
    "collapsed": true,
    "run_control": {
     "frozen": false,
     "read_only": false
    }
   },
   "outputs": [],
   "source": [
    "df_dwc[\"georeferenceProtocol\"] = 'doi:10.1080/13658810412331280211'\n",
    "df_dwc[\"georeferenceSources\"] = 'GPS'\n",
    "df_dwc[\"georeferenceVerificationStatus\"] = 'unverified'"
   ]
  },
  {
   "cell_type": "raw",
   "metadata": {},
   "source": [
    "  d.scientific_name::text as scientificName,\n",
    "  'Animalia'::text as kingdom,\n",
    "  'Chordata'::text as phylum,\n",
    "  'Aves'::text as class,\n",
    "  'Charadriiformes'::text as _order,\n",
    "  'Laridae'::text as family,"
   ]
  },
  {
   "cell_type": "code",
   "execution_count": 27,
   "metadata": {
    "collapsed": true,
    "run_control": {
     "frozen": false,
     "read_only": false
    }
   },
   "outputs": [],
   "source": [
    "df_dwc[\"scientificName\"] = data[\"scientific_name\"]\n",
    "df_dwc[\"kingdom\"] = 'Animalia'\n",
    "df_dwc[\"phylum\"] = 'Chordata'\n",
    "df_dwc[\"class\"] = 'Aves'\n",
    "df_dwc[\"order\"] = 'Charadriiformes'\n",
    "df_dwc[\"family\"] = 'Laridae'\n",
    "df_dwc[\"taxonRank\"] = 'species'"
   ]
  },
  {
   "cell_type": "raw",
   "metadata": {
    "collapsed": true,
    "run_control": {
     "frozen": false,
     "read_only": false
    }
   },
   "source": [
    "  split_part(d.scientific_name, ' ', 1)::text as genus,\n",
    "  split_part(d.scientific_name, ' ', 2)::text as specificEpithet"
   ]
  },
  {
   "cell_type": "code",
   "execution_count": 28,
   "metadata": {
    "collapsed": true
   },
   "outputs": [],
   "source": [
    "df_dwc[[\"genus\", \"specificEpithet\"]] = data[\"scientific_name\"].str.split().apply(pd.Series)"
   ]
  },
  {
   "cell_type": "raw",
   "metadata": {},
   "source": [
    "  case\n",
    "    when d.species_code = 'lbbg' then 'Linnaeus, 1758'\n",
    "    when d.species_code = 'hg' then 'Pontoppidan, 1763'\n",
    "  end::text as scientificNameAuthorship,\n",
    "  case\n",
    "    when d.species_code = 'lbbg' then 'Lesser Black-backed Gull'\n",
    "    when d.species_code = 'hg' then 'Herring Gull'\n",
    "  end::text as vernacularName,\n",
    "  'ICZN'::text as nomenclaturalCode"
   ]
  },
  {
   "cell_type": "code",
   "execution_count": 29,
   "metadata": {
    "collapsed": true
   },
   "outputs": [],
   "source": [
    "df_dwc[\"scientificNameAuthorship\"] = data[\"species_code\"].replace(to_replace=[\"lbbg\", \"hg\"], value=[\"Linnaeus, 1758\", \"Pontoppidan, 1763\"])\n",
    "df_dwc[\"vernacularName\"] = data[\"species_code\"].replace(to_replace=[\"lbbg\", \"hg\"], value=[\"Lesser Black-backed Gull\", \"Herring Gull\"])\n",
    "df_dwc[\"nomenclaturalCode\"] = \"ICZN\""
   ]
  },
  {
   "cell_type": "code",
   "execution_count": 30,
   "metadata": {},
   "outputs": [],
   "source": [
    "df_dwc = df_dwc.sort_values([\"occurrence_ID\", \"eventDate\"])"
   ]
  },
  {
   "cell_type": "code",
   "execution_count": 31,
   "metadata": {},
   "outputs": [
    {
     "data": {
      "text/html": [
       "<div>\n",
       "<table border=\"1\" class=\"dataframe\">\n",
       "  <thead>\n",
       "    <tr style=\"text-align: right;\">\n",
       "      <th></th>\n",
       "      <th>occurrence_ID</th>\n",
       "      <th>type</th>\n",
       "      <th>language</th>\n",
       "      <th>license</th>\n",
       "      <th>rightsholder</th>\n",
       "      <th>accessRights</th>\n",
       "      <th>datasetID</th>\n",
       "      <th>institutionCode</th>\n",
       "      <th>datasetName</th>\n",
       "      <th>ownerInstitutionCode</th>\n",
       "      <th>...</th>\n",
       "      <th>phylum</th>\n",
       "      <th>class</th>\n",
       "      <th>order</th>\n",
       "      <th>family</th>\n",
       "      <th>taxonRank</th>\n",
       "      <th>genus</th>\n",
       "      <th>specificEpithet</th>\n",
       "      <th>scientificNameAuthorship</th>\n",
       "      <th>vernacularName</th>\n",
       "      <th>nomenclaturalCode</th>\n",
       "    </tr>\n",
       "  </thead>\n",
       "  <tbody>\n",
       "    <tr>\n",
       "      <th>93</th>\n",
       "      <td>703:20130028220009</td>\n",
       "      <td>Event</td>\n",
       "      <td>en</td>\n",
       "      <td>http://creativecommons.org/publicdomain/zero/1.0/</td>\n",
       "      <td>INBO</td>\n",
       "      <td>http://www.inbo.be/en/norms-for-data-use</td>\n",
       "      <td>http://dataset.inbo.be/bird-tracking-wmh-occur...</td>\n",
       "      <td>INBO</td>\n",
       "      <td>Bird tracking - GPS tracking of Western Marsh ...</td>\n",
       "      <td>INBO</td>\n",
       "      <td>...</td>\n",
       "      <td>Chordata</td>\n",
       "      <td>Aves</td>\n",
       "      <td>Charadriiformes</td>\n",
       "      <td>Laridae</td>\n",
       "      <td>species</td>\n",
       "      <td>Larus</td>\n",
       "      <td>fuscus</td>\n",
       "      <td>Linnaeus, 1758</td>\n",
       "      <td>Lesser Black-backed Gull</td>\n",
       "      <td>ICZN</td>\n",
       "    </tr>\n",
       "    <tr>\n",
       "      <th>102</th>\n",
       "      <td>703:20130129030144</td>\n",
       "      <td>Event</td>\n",
       "      <td>en</td>\n",
       "      <td>http://creativecommons.org/publicdomain/zero/1.0/</td>\n",
       "      <td>INBO</td>\n",
       "      <td>http://www.inbo.be/en/norms-for-data-use</td>\n",
       "      <td>http://dataset.inbo.be/bird-tracking-wmh-occur...</td>\n",
       "      <td>INBO</td>\n",
       "      <td>Bird tracking - GPS tracking of Western Marsh ...</td>\n",
       "      <td>INBO</td>\n",
       "      <td>...</td>\n",
       "      <td>Chordata</td>\n",
       "      <td>Aves</td>\n",
       "      <td>Charadriiformes</td>\n",
       "      <td>Laridae</td>\n",
       "      <td>species</td>\n",
       "      <td>Larus</td>\n",
       "      <td>fuscus</td>\n",
       "      <td>Linnaeus, 1758</td>\n",
       "      <td>Lesser Black-backed Gull</td>\n",
       "      <td>ICZN</td>\n",
       "    </tr>\n",
       "    <tr>\n",
       "      <th>106</th>\n",
       "      <td>703:20130129040135</td>\n",
       "      <td>Event</td>\n",
       "      <td>en</td>\n",
       "      <td>http://creativecommons.org/publicdomain/zero/1.0/</td>\n",
       "      <td>INBO</td>\n",
       "      <td>http://www.inbo.be/en/norms-for-data-use</td>\n",
       "      <td>http://dataset.inbo.be/bird-tracking-wmh-occur...</td>\n",
       "      <td>INBO</td>\n",
       "      <td>Bird tracking - GPS tracking of Western Marsh ...</td>\n",
       "      <td>INBO</td>\n",
       "      <td>...</td>\n",
       "      <td>Chordata</td>\n",
       "      <td>Aves</td>\n",
       "      <td>Charadriiformes</td>\n",
       "      <td>Laridae</td>\n",
       "      <td>species</td>\n",
       "      <td>Larus</td>\n",
       "      <td>fuscus</td>\n",
       "      <td>Linnaeus, 1758</td>\n",
       "      <td>Lesser Black-backed Gull</td>\n",
       "      <td>ICZN</td>\n",
       "    </tr>\n",
       "    <tr>\n",
       "      <th>48</th>\n",
       "      <td>703:20130222060208</td>\n",
       "      <td>Event</td>\n",
       "      <td>en</td>\n",
       "      <td>http://creativecommons.org/publicdomain/zero/1.0/</td>\n",
       "      <td>INBO</td>\n",
       "      <td>http://www.inbo.be/en/norms-for-data-use</td>\n",
       "      <td>http://dataset.inbo.be/bird-tracking-wmh-occur...</td>\n",
       "      <td>INBO</td>\n",
       "      <td>Bird tracking - GPS tracking of Western Marsh ...</td>\n",
       "      <td>INBO</td>\n",
       "      <td>...</td>\n",
       "      <td>Chordata</td>\n",
       "      <td>Aves</td>\n",
       "      <td>Charadriiformes</td>\n",
       "      <td>Laridae</td>\n",
       "      <td>species</td>\n",
       "      <td>Larus</td>\n",
       "      <td>fuscus</td>\n",
       "      <td>Linnaeus, 1758</td>\n",
       "      <td>Lesser Black-backed Gull</td>\n",
       "      <td>ICZN</td>\n",
       "    </tr>\n",
       "    <tr>\n",
       "      <th>110</th>\n",
       "      <td>703:20130329050316</td>\n",
       "      <td>Event</td>\n",
       "      <td>en</td>\n",
       "      <td>http://creativecommons.org/publicdomain/zero/1.0/</td>\n",
       "      <td>INBO</td>\n",
       "      <td>http://www.inbo.be/en/norms-for-data-use</td>\n",
       "      <td>http://dataset.inbo.be/bird-tracking-wmh-occur...</td>\n",
       "      <td>INBO</td>\n",
       "      <td>Bird tracking - GPS tracking of Western Marsh ...</td>\n",
       "      <td>INBO</td>\n",
       "      <td>...</td>\n",
       "      <td>Chordata</td>\n",
       "      <td>Aves</td>\n",
       "      <td>Charadriiformes</td>\n",
       "      <td>Laridae</td>\n",
       "      <td>species</td>\n",
       "      <td>Larus</td>\n",
       "      <td>fuscus</td>\n",
       "      <td>Linnaeus, 1758</td>\n",
       "      <td>Lesser Black-backed Gull</td>\n",
       "      <td>ICZN</td>\n",
       "    </tr>\n",
       "  </tbody>\n",
       "</table>\n",
       "<p>5 rows × 43 columns</p>\n",
       "</div>"
      ],
      "text/plain": [
       "          occurrence_ID   type language  \\\n",
       "93   703:20130028220009  Event       en   \n",
       "102  703:20130129030144  Event       en   \n",
       "106  703:20130129040135  Event       en   \n",
       "48   703:20130222060208  Event       en   \n",
       "110  703:20130329050316  Event       en   \n",
       "\n",
       "                                               license rightsholder  \\\n",
       "93   http://creativecommons.org/publicdomain/zero/1.0/         INBO   \n",
       "102  http://creativecommons.org/publicdomain/zero/1.0/         INBO   \n",
       "106  http://creativecommons.org/publicdomain/zero/1.0/         INBO   \n",
       "48   http://creativecommons.org/publicdomain/zero/1.0/         INBO   \n",
       "110  http://creativecommons.org/publicdomain/zero/1.0/         INBO   \n",
       "\n",
       "                                 accessRights  \\\n",
       "93   http://www.inbo.be/en/norms-for-data-use   \n",
       "102  http://www.inbo.be/en/norms-for-data-use   \n",
       "106  http://www.inbo.be/en/norms-for-data-use   \n",
       "48   http://www.inbo.be/en/norms-for-data-use   \n",
       "110  http://www.inbo.be/en/norms-for-data-use   \n",
       "\n",
       "                                             datasetID institutionCode  \\\n",
       "93   http://dataset.inbo.be/bird-tracking-wmh-occur...            INBO   \n",
       "102  http://dataset.inbo.be/bird-tracking-wmh-occur...            INBO   \n",
       "106  http://dataset.inbo.be/bird-tracking-wmh-occur...            INBO   \n",
       "48   http://dataset.inbo.be/bird-tracking-wmh-occur...            INBO   \n",
       "110  http://dataset.inbo.be/bird-tracking-wmh-occur...            INBO   \n",
       "\n",
       "                                           datasetName ownerInstitutionCode  \\\n",
       "93   Bird tracking - GPS tracking of Western Marsh ...                 INBO   \n",
       "102  Bird tracking - GPS tracking of Western Marsh ...                 INBO   \n",
       "106  Bird tracking - GPS tracking of Western Marsh ...                 INBO   \n",
       "48   Bird tracking - GPS tracking of Western Marsh ...                 INBO   \n",
       "110  Bird tracking - GPS tracking of Western Marsh ...                 INBO   \n",
       "\n",
       "           ...           phylum class            order   family taxonRank  \\\n",
       "93         ...         Chordata  Aves  Charadriiformes  Laridae   species   \n",
       "102        ...         Chordata  Aves  Charadriiformes  Laridae   species   \n",
       "106        ...         Chordata  Aves  Charadriiformes  Laridae   species   \n",
       "48         ...         Chordata  Aves  Charadriiformes  Laridae   species   \n",
       "110        ...         Chordata  Aves  Charadriiformes  Laridae   species   \n",
       "\n",
       "     genus specificEpithet scientificNameAuthorship            vernacularName  \\\n",
       "93   Larus          fuscus           Linnaeus, 1758  Lesser Black-backed Gull   \n",
       "102  Larus          fuscus           Linnaeus, 1758  Lesser Black-backed Gull   \n",
       "106  Larus          fuscus           Linnaeus, 1758  Lesser Black-backed Gull   \n",
       "48   Larus          fuscus           Linnaeus, 1758  Lesser Black-backed Gull   \n",
       "110  Larus          fuscus           Linnaeus, 1758  Lesser Black-backed Gull   \n",
       "\n",
       "    nomenclaturalCode  \n",
       "93               ICZN  \n",
       "102              ICZN  \n",
       "106              ICZN  \n",
       "48               ICZN  \n",
       "110              ICZN  \n",
       "\n",
       "[5 rows x 43 columns]"
      ]
     },
     "execution_count": 31,
     "metadata": {},
     "output_type": "execute_result"
    }
   ],
   "source": [
    "df_dwc.head()"
   ]
  },
  {
   "cell_type": "code",
   "execution_count": null,
   "metadata": {
    "collapsed": true
   },
   "outputs": [],
   "source": []
  }
 ],
 "metadata": {
  "kernelspec": {
   "display_name": "Python 3",
   "language": "python",
   "name": "python3"
  },
  "language_info": {
   "codemirror_mode": {
    "name": "ipython",
    "version": 3
   },
   "file_extension": ".py",
   "mimetype": "text/x-python",
   "name": "python",
   "nbconvert_exporter": "python",
   "pygments_lexer": "ipython3",
   "version": "3.5.3"
  },
  "nav_menu": {},
  "toc": {
   "navigate_menu": true,
   "number_sections": true,
   "sideBar": true,
   "threshold": 6,
   "toc_cell": false,
   "toc_section_display": "block",
   "toc_window_display": false
  }
 },
 "nbformat": 4,
 "nbformat_minor": 2
}
