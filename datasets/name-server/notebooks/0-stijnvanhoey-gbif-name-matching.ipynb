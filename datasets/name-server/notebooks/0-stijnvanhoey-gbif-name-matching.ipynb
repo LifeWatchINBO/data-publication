{
 "cells": [
  {
   "cell_type": "code",
   "execution_count": 2,
   "metadata": {
    "collapsed": true
   },
   "outputs": [],
   "source": [
    "%matplotlib inline\n",
    "import numpy as np\n",
    "import pandas as pd\n",
    "import matplotlib.pyplot as plt"
   ]
  },
  {
   "cell_type": "code",
   "execution_count": 3,
   "metadata": {
    "collapsed": true
   },
   "outputs": [],
   "source": [
    "plt.style.use('seaborn-notebook')"
   ]
  },
  {
   "cell_type": "code",
   "execution_count": 5,
   "metadata": {
    "collapsed": false
   },
   "outputs": [],
   "source": [
    "import sys\n",
    "# ADAPT FILE PATH TO GET FUNCTIONALITIES\n",
    "sys.path.append(\"../../../../inbo-pyutils/gbif/gbif_name_match\")\n",
    "sys.path.append(\"../../../../inbo-pyutils/gbif/verify_synonyms/\")\n",
    "from gbif_species_name_match import (extract_species_information, \n",
    "                                     extract_gbif_species_names_info, \n",
    "                                     extract_gbif_accepted_key)\n",
    "from verify_synonyms import verify_synonym"
   ]
  },
  {
   "cell_type": "code",
   "execution_count": 6,
   "metadata": {
    "collapsed": false
   },
   "outputs": [
    {
     "ename": "ImportError",
     "evalue": "No module named 'aiohttp'",
     "output_type": "error",
     "traceback": [
      "\u001b[0;31m---------------------------------------------------------------------------\u001b[0m",
      "\u001b[0;31mImportError\u001b[0m                               Traceback (most recent call last)",
      "\u001b[0;32m<ipython-input-6-c834b8e1f77b>\u001b[0m in \u001b[0;36m<module>\u001b[0;34m()\u001b[0m\n\u001b[1;32m      1\u001b[0m \u001b[0;32mimport\u001b[0m \u001b[0masyncio\u001b[0m\u001b[0;34m\u001b[0m\u001b[0m\n\u001b[0;32m----> 2\u001b[0;31m \u001b[0;32mimport\u001b[0m \u001b[0maiohttp\u001b[0m\u001b[0;34m\u001b[0m\u001b[0m\n\u001b[0m\u001b[1;32m      3\u001b[0m \u001b[0;32mimport\u001b[0m \u001b[0mrequests\u001b[0m\u001b[0;34m\u001b[0m\u001b[0m\n",
      "\u001b[0;31mImportError\u001b[0m: No module named 'aiohttp'"
     ]
    }
   ],
   "source": [
    "import asyncio\n",
    "import aiohttp\n",
    "import requests"
   ]
  },
  {
   "cell_type": "markdown",
   "metadata": {},
   "source": [
    "# 1. Recorder unique scientific names derived from the nameserver"
   ]
  },
  {
   "cell_type": "markdown",
   "metadata": {},
   "source": [
    "## Summary"
   ]
  },
  {
   "cell_type": "markdown",
   "metadata": {},
   "source": [
    "In this section, the output of recorder unique names `recorder_sql_unique_names_output.csv` is matched with GBIF and the resulting matched file (with acceptedKeys for the derived SYNONYMS) is saved in the file `recorder_sql_unique_names_matched.csv`"
   ]
  },
  {
   "cell_type": "markdown",
   "metadata": {},
   "source": [
    "## Data preparation"
   ]
  },
  {
   "cell_type": "markdown",
   "metadata": {},
   "source": [
    "I extracted all unique species names from recorder (NBN-data) to make an overview of the species (for all surveys), using the query `recorder_sql_unique_names.sql`. After matching with GBIF, we can make a mapping in between 'recommended names' as defined by recorder and the accepted_keys from GBIF. If we manage to make this mapping, we can later on make an easy selection in both directions GBIF <-> Recorder."
   ]
  },
  {
   "cell_type": "markdown",
   "metadata": {},
   "source": [
    "First of all, extract the Recorder unique species names, by querying the NBN-database. for which the Query is stored in `SQL_unique_names.sql`:"
   ]
  },
  {
   "cell_type": "code",
   "execution_count": 1,
   "metadata": {
    "collapsed": false
   },
   "outputs": [
    {
     "ename": "NameError",
     "evalue": "name 'pd' is not defined",
     "output_type": "error",
     "traceback": [
      "\u001b[0;31m---------------------------------------------------------------------------\u001b[0m",
      "\u001b[0;31mNameError\u001b[0m                                 Traceback (most recent call last)",
      "\u001b[0;32m<ipython-input-1-88a241465d51>\u001b[0m in \u001b[0;36m<module>\u001b[0;34m()\u001b[0m\n\u001b[0;32m----> 1\u001b[0;31m \u001b[0mrecorder_names\u001b[0m \u001b[0;34m=\u001b[0m \u001b[0mpd\u001b[0m\u001b[0;34m.\u001b[0m\u001b[0mread_csv\u001b[0m\u001b[0;34m(\u001b[0m\u001b[0;34m\"../data/raw/unique_recommended_names.csv\"\u001b[0m\u001b[0;34m,\u001b[0m \u001b[0mdelimiter\u001b[0m\u001b[0;34m=\u001b[0m\u001b[0;34m'\\t'\u001b[0m\u001b[0;34m,\u001b[0m \u001b[0mdtype\u001b[0m\u001b[0;34m=\u001b[0m\u001b[0mobject\u001b[0m\u001b[0;34m)\u001b[0m\u001b[0;34m\u001b[0m\u001b[0m\n\u001b[0m",
      "\u001b[0;31mNameError\u001b[0m: name 'pd' is not defined"
     ]
    }
   ],
   "source": [
    "recorder_names = pd.read_csv(\"../data/raw/unique_recommended_names.csv\", delimiter='\\t', dtype=object)"
   ]
  },
  {
   "cell_type": "code",
   "execution_count": 145,
   "metadata": {
    "collapsed": false
   },
   "outputs": [
    {
     "data": {
      "text/html": [
       "<div>\n",
       "<table border=\"1\" class=\"dataframe\">\n",
       "  <thead>\n",
       "    <tr style=\"text-align: right;\">\n",
       "      <th></th>\n",
       "      <th>RECOMMENDED_TAXON_VERSION_KEY</th>\n",
       "      <th>scientificName</th>\n",
       "      <th>TAXON_GROUP_NAME</th>\n",
       "    </tr>\n",
       "  </thead>\n",
       "  <tbody>\n",
       "    <tr>\n",
       "      <th>0</th>\n",
       "      <td>NHMSYS0000456996</td>\n",
       "      <td>Caylusea</td>\n",
       "      <td>bloemplant</td>\n",
       "    </tr>\n",
       "    <tr>\n",
       "      <th>1</th>\n",
       "      <td>NHMSYS0000900079</td>\n",
       "      <td>Listrognathus mactator</td>\n",
       "      <td>insect - vliesvleugelige (Hymenoptera)</td>\n",
       "    </tr>\n",
       "    <tr>\n",
       "      <th>2</th>\n",
       "      <td>NBNSYS0100004462</td>\n",
       "      <td>Paratanytarsus dissimilis</td>\n",
       "      <td>insect - vlieg &amp; mug (Diptera)</td>\n",
       "    </tr>\n",
       "    <tr>\n",
       "      <th>3</th>\n",
       "      <td>NHMSYS0000603228</td>\n",
       "      <td>Gymnodinium colymbeticum</td>\n",
       "      <td>wier</td>\n",
       "    </tr>\n",
       "    <tr>\n",
       "      <th>4</th>\n",
       "      <td>NHMSYS0000875969</td>\n",
       "      <td>Formicinae</td>\n",
       "      <td>insect - vliesvleugelige (Hymenoptera)</td>\n",
       "    </tr>\n",
       "  </tbody>\n",
       "</table>\n",
       "</div>"
      ],
      "text/plain": [
       "  RECOMMENDED_TAXON_VERSION_KEY             scientificName  \\\n",
       "0              NHMSYS0000456996                   Caylusea   \n",
       "1              NHMSYS0000900079     Listrognathus mactator   \n",
       "2              NBNSYS0100004462  Paratanytarsus dissimilis   \n",
       "3              NHMSYS0000603228   Gymnodinium colymbeticum   \n",
       "4              NHMSYS0000875969                 Formicinae   \n",
       "\n",
       "                         TAXON_GROUP_NAME  \n",
       "0                              bloemplant  \n",
       "1  insect - vliesvleugelige (Hymenoptera)  \n",
       "2          insect - vlieg & mug (Diptera)  \n",
       "3                                    wier  \n",
       "4  insect - vliesvleugelige (Hymenoptera)  "
      ]
     },
     "execution_count": 145,
     "metadata": {},
     "output_type": "execute_result"
    }
   ],
   "source": [
    "recorder_names.head()"
   ]
  },
  {
   "cell_type": "code",
   "execution_count": 146,
   "metadata": {
    "collapsed": false
   },
   "outputs": [
    {
     "data": {
      "text/plain": [
       "144135"
      ]
     },
     "execution_count": 146,
     "metadata": {},
     "output_type": "execute_result"
    }
   ],
   "source": [
    "len(recorder_names)"
   ]
  },
  {
   "cell_type": "code",
   "execution_count": 147,
   "metadata": {
    "collapsed": false
   },
   "outputs": [
    {
     "data": {
      "text/html": [
       "<div>\n",
       "<table border=\"1\" class=\"dataframe\">\n",
       "  <thead>\n",
       "    <tr style=\"text-align: right;\">\n",
       "      <th></th>\n",
       "      <th>RECOMMENDED_TAXON_VERSION_KEY</th>\n",
       "      <th>scientificName</th>\n",
       "      <th>TAXON_GROUP_NAME</th>\n",
       "    </tr>\n",
       "  </thead>\n",
       "  <tbody>\n",
       "    <tr>\n",
       "      <th>6467</th>\n",
       "      <td>NHMSYS0001697203</td>\n",
       "      <td>Prokaryota</td>\n",
       "      <td>niet toegewezen</td>\n",
       "    </tr>\n",
       "    <tr>\n",
       "      <th>10559</th>\n",
       "      <td>NHMSYS0000841310</td>\n",
       "      <td>Arthropoda</td>\n",
       "      <td>niet toegewezen</td>\n",
       "    </tr>\n",
       "    <tr>\n",
       "      <th>37772</th>\n",
       "      <td>INBSYS0000012542</td>\n",
       "      <td>Procyon lotor</td>\n",
       "      <td>niet toegewezen</td>\n",
       "    </tr>\n",
       "    <tr>\n",
       "      <th>38067</th>\n",
       "      <td>NHMSYS0000841034</td>\n",
       "      <td>Lepidoptera</td>\n",
       "      <td>niet toegewezen</td>\n",
       "    </tr>\n",
       "    <tr>\n",
       "      <th>42688</th>\n",
       "      <td>NBNSYS0000160353</td>\n",
       "      <td>Lycopodiopsida</td>\n",
       "      <td>niet toegewezen</td>\n",
       "    </tr>\n",
       "    <tr>\n",
       "      <th>65550</th>\n",
       "      <td>NHMSYS0000842161</td>\n",
       "      <td>Protista</td>\n",
       "      <td>niet toegewezen</td>\n",
       "    </tr>\n",
       "    <tr>\n",
       "      <th>70145</th>\n",
       "      <td>NBNSYS0000172125</td>\n",
       "      <td>Bryophyta</td>\n",
       "      <td>niet toegewezen</td>\n",
       "    </tr>\n",
       "    <tr>\n",
       "      <th>79432</th>\n",
       "      <td>NHMSYS0000841378</td>\n",
       "      <td>Pisces</td>\n",
       "      <td>niet toegewezen</td>\n",
       "    </tr>\n",
       "    <tr>\n",
       "      <th>92240</th>\n",
       "      <td>NHMSYS0000841351</td>\n",
       "      <td>Insecta</td>\n",
       "      <td>niet toegewezen</td>\n",
       "    </tr>\n",
       "    <tr>\n",
       "      <th>101203</th>\n",
       "      <td>NHMSYS0001747258</td>\n",
       "      <td>Lycopodiophyta</td>\n",
       "      <td>niet toegewezen</td>\n",
       "    </tr>\n",
       "    <tr>\n",
       "      <th>102896</th>\n",
       "      <td>NHMSYS0000376165</td>\n",
       "      <td>Carnivora</td>\n",
       "      <td>niet toegewezen</td>\n",
       "    </tr>\n",
       "    <tr>\n",
       "      <th>103741</th>\n",
       "      <td>NBNSYS0000160581</td>\n",
       "      <td>Order uncertain</td>\n",
       "      <td>niet toegewezen</td>\n",
       "    </tr>\n",
       "    <tr>\n",
       "      <th>109623</th>\n",
       "      <td>NBNSYS0000159411</td>\n",
       "      <td>Arachnida</td>\n",
       "      <td>niet toegewezen</td>\n",
       "    </tr>\n",
       "    <tr>\n",
       "      <th>112874</th>\n",
       "      <td>NBNSYS0000160231</td>\n",
       "      <td>Insecta</td>\n",
       "      <td>niet toegewezen</td>\n",
       "    </tr>\n",
       "    <tr>\n",
       "      <th>124678</th>\n",
       "      <td>INBSYS0000012552</td>\n",
       "      <td>Procyonidae</td>\n",
       "      <td>niet toegewezen</td>\n",
       "    </tr>\n",
       "    <tr>\n",
       "      <th>125381</th>\n",
       "      <td>NBNSYS0000174484</td>\n",
       "      <td>Chelicerata</td>\n",
       "      <td>niet toegewezen</td>\n",
       "    </tr>\n",
       "    <tr>\n",
       "      <th>139314</th>\n",
       "      <td>NBNSYS0000175876</td>\n",
       "      <td>Incertae sedis</td>\n",
       "      <td>niet toegewezen</td>\n",
       "    </tr>\n",
       "    <tr>\n",
       "      <th>139341</th>\n",
       "      <td>INBSYS0000012554</td>\n",
       "      <td>Procyon</td>\n",
       "      <td>niet toegewezen</td>\n",
       "    </tr>\n",
       "  </tbody>\n",
       "</table>\n",
       "</div>"
      ],
      "text/plain": [
       "       RECOMMENDED_TAXON_VERSION_KEY   scientificName TAXON_GROUP_NAME\n",
       "6467                NHMSYS0001697203       Prokaryota  niet toegewezen\n",
       "10559               NHMSYS0000841310       Arthropoda  niet toegewezen\n",
       "37772               INBSYS0000012542    Procyon lotor  niet toegewezen\n",
       "38067               NHMSYS0000841034      Lepidoptera  niet toegewezen\n",
       "42688               NBNSYS0000160353   Lycopodiopsida  niet toegewezen\n",
       "65550               NHMSYS0000842161         Protista  niet toegewezen\n",
       "70145               NBNSYS0000172125        Bryophyta  niet toegewezen\n",
       "79432               NHMSYS0000841378           Pisces  niet toegewezen\n",
       "92240               NHMSYS0000841351          Insecta  niet toegewezen\n",
       "101203              NHMSYS0001747258   Lycopodiophyta  niet toegewezen\n",
       "102896              NHMSYS0000376165        Carnivora  niet toegewezen\n",
       "103741              NBNSYS0000160581  Order uncertain  niet toegewezen\n",
       "109623              NBNSYS0000159411        Arachnida  niet toegewezen\n",
       "112874              NBNSYS0000160231          Insecta  niet toegewezen\n",
       "124678              INBSYS0000012552      Procyonidae  niet toegewezen\n",
       "125381              NBNSYS0000174484      Chelicerata  niet toegewezen\n",
       "139314              NBNSYS0000175876   Incertae sedis  niet toegewezen\n",
       "139341              INBSYS0000012554          Procyon  niet toegewezen"
      ]
     },
     "execution_count": 147,
     "metadata": {},
     "output_type": "execute_result"
    }
   ],
   "source": [
    "recorder_names[recorder_names['TAXON_GROUP_NAME'] == 'niet toegewezen']"
   ]
  },
  {
   "cell_type": "code",
   "execution_count": 148,
   "metadata": {
    "collapsed": false
   },
   "outputs": [
    {
     "data": {
      "text/plain": [
       "array(['bloemplant', 'insect - vliesvleugelige (Hymenoptera)',\n",
       "       'insect - vlieg & mug (Diptera)', 'wier', 'diatomee',\n",
       "       'pseudoschorpioen (Pseudoscorpiones)', 'raderdiertje (Rotifera)',\n",
       "       'springstaart (Collembola)', 'insect - kever (Coleoptera)',\n",
       "       'levermos', 'foraminifeer', 'rondworm (Nematoda)', 'zwam',\n",
       "       'lintworm (Cestoda)', 'ringworm', 'amfibie', 'mollusk (Mollusca)',\n",
       "       'insect - nachtvlinder', 'bacterie', 'neteldier (=cnidarian)',\n",
       "       'insect - vlo (Siphonaptera)', 'schaaldier', 'fungoide',\n",
       "       'insect - trips (Thysanoptera)', 'buikhaarworm (Gastrotricha)',\n",
       "       'insect - wants, cicade, bladluis (Hemiptera)', 'mijt (Acari)',\n",
       "       'vogel', 'zuigworm (Trematoda)', 'beenvis (Actinopterygii)',\n",
       "       'insect - dagvlinder', 'miljoenpoot', 'korstmos', 'spin (Araneae)',\n",
       "       'mos', 'kraakbeenvis  (Chondrichthyes)', 'platworm (Turbellaria)',\n",
       "       'varen', 'slurfworm (Kinorhyncha)', 'insect - haft (Ephemeroptera)',\n",
       "       'ribkwal (Ctenophora)', 'landzoogdier', 'slijmzwam', 'conifeer',\n",
       "       'reptiel', 'spons (Porifera)', 'slurfworm (Echiura)',\n",
       "       'insect - libel (Odonata)', 'zeespin (Pycnogonida)',\n",
       "       'mosdiertje (Bryozoa)', 'spuitworm (Sipuncula)',\n",
       "       'insect - kokerjuffer (Trichoptera)',\n",
       "       'insect - gaasvlieg (Neuroptera)', 'stekelhuidige',\n",
       "       'insect - houtluis (Psocoptera)',\n",
       "       'insect - waaiervleugelige (Strepsiptera)', 'kelkworm (Entoprocta)',\n",
       "       'kranswier', 'beerdiertje (Tardigrada)',\n",
       "       'brachiopood (Brachiopoda)', 'baardworm (Pogonophora)',\n",
       "       'snoerworm (Nemertinea)', 'insect - oorworm (Dermaptera)',\n",
       "       'insect - steenvlieg (Plecoptera)', 'manteldiertje (Urochordata)',\n",
       "       'zeezoogdier', 'insect - luis (Phthiraptera)',\n",
       "       'insect - sprinkhaan & krekel (Orthoptera)',\n",
       "       'kaakworm (Gnathostomulida)', 'tweestaart (Diplura)', 'pauropood',\n",
       "       'oerinsect (Protura)', 'loricifeer', 'duizendpoot',\n",
       "       'insect - schorpioenvlieg (Mecoptera)', 'wolfsklauw',\n",
       "       'paardenhaarworm (Nematomorpha)',\n",
       "       'insect - kakkerlak (Dictyoptera)', 'priapulid',\n",
       "       'insect - zilvervis (Thysanura)', 'niet toegewezen', 'hauwmos',\n",
       "       'eikelworm (Hemichordata)', 'hooiwagen (Opiliones)',\n",
       "       'middendiertje (Mesozoa)', 'pijlworm (Chaetognatha)',\n",
       "       'insect - rotsspringer (Archaeognatha)', 'ginkgo',\n",
       "       'parasitaire nematode (Nematoda)', 'dwergpotige (Symphyla)',\n",
       "       'rondbek (Agnatha)', 'biesvaren',\n",
       "       'insect - kameelhalsvlieg (Raphidioptera)',\n",
       "       'hoefijzerworm (Phoronida)', 'insect - wandelende tak (Phasmida)',\n",
       "       'lipklever (Cycliophora)', 'paardenstaart',\n",
       "       'insect - elzenvlieg (Megaloptera)', 'schorpioen',\n",
       "       'oerdiertje (Protozoa)', 'insect - bidsprinkhaan (Mantodea)',\n",
       "       'virus', 'ectoparasitaire platworm', 'ongedetermineerd', nan], dtype=object)"
      ]
     },
     "execution_count": 148,
     "metadata": {},
     "output_type": "execute_result"
    }
   ],
   "source": [
    "recorder_names['TAXON_GROUP_NAME'].unique()"
   ]
  },
  {
   "cell_type": "markdown",
   "metadata": {},
   "source": [
    "We introduce a mapping in between the INFORMAL GROUP defined by recorder and the kingdom we're dealing with:"
   ]
  },
  {
   "cell_type": "code",
   "execution_count": 149,
   "metadata": {
    "collapsed": false
   },
   "outputs": [],
   "source": [
    "mapping_kingdom = {'insect - kever (Coleoptera)' : 'Animalia',\n",
    "                   'conifeer' : 'Plantae', \n",
    "                   'beenvis (Actinopterygii)' : 'Animalia', \n",
    "                   'vogel' : 'Animalia', \n",
    "                   'insect - nachtvlinder' : 'Animalia', \n",
    "                   'bloemplant' : 'Plantae',\n",
    "                   'spin (Araneae)' : 'Animalia',\n",
    "                   'insect - vlieg & mug (Diptera)' : 'Animalia', \n",
    "                   'diatomee' : 'Plantae',\n",
    "                   'mollusk (Mollusca)' : 'Animalia',\n",
    "                   'insect - dagvlinder' : 'Animalia', \n",
    "                   'insect - kokerjuffer (Trichoptera)' : 'Animalia',\n",
    "                   'ringworm' : 'Animalia',\n",
    "                   'mos' : 'Plantae',\n",
    "                   'insect - wants, cicade, bladluis (Hemiptera)' : 'Animalia', \n",
    "                   'mijt (Acari)' : 'Animalia', \n",
    "                   'varen' : 'Plantae', \n",
    "                   'schaaldier' : 'Animalia', \n",
    "                   'landzoogdier' : 'Animalia', \n",
    "                   'kranswier' : 'Plantae',\n",
    "                   'insect - sprinkhaan & krekel (Orthoptera)' : 'Animalia', \n",
    "                   'korstmos' : 'Plantae',\n",
    "                   'platworm (Turbellaria)' : 'Animalia',\n",
    "                   'insect - libel (Odonata)' : 'Animalia', \n",
    "                   'wier' : 'Plantae', 'paardenstaart' : 'Plantae',\n",
    "                   'niet toegewezen': None, \n",
    "                   'levermos' : 'Plantae', \n",
    "                   'tweestaart (Diplura)' : 'Animalia',\n",
    "                   'rondbek (Agnatha)' : 'Animalia', \n",
    "                   'duizendpoot' : 'Animalia', \n",
    "                   'wolfsklauw' : 'Plantae', \n",
    "                   'amfibie' : 'Animalia', \n",
    "                   'bacterie' : 'Bacteria',\n",
    "                   'insect - nachtvlinder' : 'Animalia',\n",
    "                   'reptiel' : 'Animalia',\n",
    "                   'insect - vliesvleugelige (Hymenoptera)' : 'Animalia',\n",
    "                   'zwam' : 'Fungi',\n",
    "                   'kraakbeenvis  (Chondrichthyes)' : 'Animalia',\n",
    "                   'rondworm (Nematoda)' : 'Animalia',\n",
    "                   'virus' : 'Viruses',\n",
    "                   'insect - steenvlieg (Plecoptera)' : 'Animalia',\n",
    "                   'zeezoogdier' : 'Animalia',\n",
    "                   'ginkgo' : 'Plantae',\n",
    "                   'parasitaire nematode (Nematoda)' : 'Animalia',\n",
    "                   'zuigworm (Trematoda)' : 'Animalia',\n",
    "                   'biesvaren' : 'Plantae',\n",
    "                   'neteldier (=cnidarian)' : 'Animalia',\n",
    "                   'insect - trips (Thysanoptera)'  : 'Animalia',\n",
    "                   'oerdiertje (Protozoa)' : 'Protozoa',\n",
    "                   'hauwmos' : 'Plantae',\n",
    "                   'lintworm (Cestoda)' : 'Animalia',\n",
    "                   'manteldiertje (Urochordata)' : 'Animalia',\n",
    "                   'stekelhuidige' : 'Animalia',\n",
    "                   'ectoparasitaire platworm' : 'Animalia',\n",
    "                   'ribkwal (Ctenophora)' : 'Animalia',\n",
    "                   'mosdiertje (Bryozoa)' : 'Animalia',\n",
    "                   'pseudoschorpioen (Pseudoscorpiones)' : 'Animalia',\n",
    "                   'raderdiertje (Rotifera)' : 'Animalia',\n",
    "                   'springstaart (Collembola)' : 'Animalia',\n",
    "                   'foraminifeer' : 'Protozoa',\n",
    "                   'insect - vlo (Siphonaptera)' : 'Animalia',\n",
    "                   'fungoide' : 'Fungi', \n",
    "                   'buikhaarworm (Gastrotricha)' : 'Animalia',\n",
    "                   'miljoenpoot' : 'Animalia',\n",
    "                   'slurfworm (Kinorhyncha)' : 'Animalia',\n",
    "                   'insect - haft (Ephemeroptera)' : 'Animalia',\n",
    "                   'slijmzwam' : 'Protozoa',\n",
    "                   'spons (Porifera)' : 'Animalia',\n",
    "                   'slurfworm (Echiura)' : 'Animalia',\n",
    "                   'zeespin (Pycnogonida)' : 'Animalia',\n",
    "                   'spuitworm (Sipuncula)' : 'Animalia',\n",
    "                   'insect - gaasvlieg (Neuroptera)' : 'Animalia',\n",
    "                   'insect - houtluis (Psocoptera)' : 'Animalia',\n",
    "                   'insect - waaiervleugelige (Strepsiptera)' : 'Animalia',\n",
    "                   'kelkworm (Entoprocta)' : 'Animalia',\n",
    "                   'beerdiertje (Tardigrada)' : 'Animalia',\n",
    "                   'brachiopood (Brachiopoda)' : 'Animalia',\n",
    "                   'baardworm (Pogonophora)' : 'Animalia',\n",
    "                   'snoerworm (Nemertinea)' : 'Animalia',\n",
    "                   'insect - oorworm (Dermaptera)' : 'Animalia',\n",
    "                   'insect - luis (Phthiraptera)' : 'Animalia',\n",
    "                   'kaakworm (Gnathostomulida)' : 'Animalia',\n",
    "                   'pauropood' : 'Animalia',\n",
    "                   'oerinsect (Protura)' : 'Animalia',\n",
    "                   'loricifeer' : 'Animalia',\n",
    "                   'insect - schorpioenvlieg (Mecoptera)' : 'Animalia',\n",
    "                   'paardenhaarworm (Nematomorpha)' : 'Animalia',\n",
    "                   'insect - kakkerlak (Dictyoptera)' : 'Animalia',\n",
    "                   'priapulid' : 'Animalia',\n",
    "                   'insect - zilvervis (Thysanura)' : 'Animalia',\n",
    "                   'eikelworm (Hemichordata)' : 'Animalia',\n",
    "                   'hooiwagen (Opiliones)' : 'Animalia',\n",
    "                   'middendiertje (Mesozoa)' : 'Animalia',\n",
    "                   'pijlworm (Chaetognatha)' : 'Animalia',\n",
    "                   'insect - rotsspringer (Archaeognatha)' : 'Animalia',\n",
    "                   'dwergpotige (Symphyla)' : 'Animalia',\n",
    "                   'insect - kameelhalsvlieg (Raphidioptera)' : 'Animalia',\n",
    "                   'hoefijzerworm (Phoronida)' : 'Animalia',\n",
    "                   'insect - wandelende tak (Phasmida)' : 'Animalia',\n",
    "                   'lipklever (Cycliophora)' : 'Animalia',\n",
    "                   'insect - elzenvlieg (Megaloptera)' : 'Animalia',\n",
    "                   'schorpioen' : 'Animalia',\n",
    "                   'insect - bidsprinkhaan (Mantodea)' : 'Animalia',\n",
    "                   'ongedetermineerd' : None,\n",
    "                   np.nan : None\n",
    "                    }"
   ]
  },
  {
   "cell_type": "code",
   "execution_count": 150,
   "metadata": {
    "collapsed": false
   },
   "outputs": [],
   "source": [
    "recorder_names['kingdom'] = recorder_names['TAXON_GROUP_NAME'].replace(mapping_kingdom)"
   ]
  },
  {
   "cell_type": "code",
   "execution_count": 151,
   "metadata": {
    "collapsed": false
   },
   "outputs": [
    {
     "data": {
      "text/plain": [
       "array(['Plantae', 'Animalia', 'Protozoa', 'Fungi', 'Bacteria', None,\n",
       "       'Viruses'], dtype=object)"
      ]
     },
     "execution_count": 151,
     "metadata": {},
     "output_type": "execute_result"
    }
   ],
   "source": [
    "recorder_names[\"kingdom\"].unique()"
   ]
  },
  {
   "cell_type": "code",
   "execution_count": 152,
   "metadata": {
    "collapsed": false
   },
   "outputs": [
    {
     "data": {
      "text/plain": [
       "144135"
      ]
     },
     "execution_count": 152,
     "metadata": {},
     "output_type": "execute_result"
    }
   ],
   "source": [
    "len(recorder_names)"
   ]
  },
  {
   "cell_type": "code",
   "execution_count": 153,
   "metadata": {
    "collapsed": false
   },
   "outputs": [
    {
     "data": {
      "text/html": [
       "<div>\n",
       "<table border=\"1\" class=\"dataframe\">\n",
       "  <thead>\n",
       "    <tr style=\"text-align: right;\">\n",
       "      <th></th>\n",
       "      <th>RECOMMENDED_TAXON_VERSION_KEY</th>\n",
       "      <th>scientificName</th>\n",
       "      <th>TAXON_GROUP_NAME</th>\n",
       "      <th>kingdom</th>\n",
       "    </tr>\n",
       "  </thead>\n",
       "  <tbody>\n",
       "    <tr>\n",
       "      <th>0</th>\n",
       "      <td>NHMSYS0000456996</td>\n",
       "      <td>Caylusea</td>\n",
       "      <td>bloemplant</td>\n",
       "      <td>Plantae</td>\n",
       "    </tr>\n",
       "    <tr>\n",
       "      <th>1</th>\n",
       "      <td>NHMSYS0000900079</td>\n",
       "      <td>Listrognathus mactator</td>\n",
       "      <td>insect - vliesvleugelige (Hymenoptera)</td>\n",
       "      <td>Animalia</td>\n",
       "    </tr>\n",
       "    <tr>\n",
       "      <th>2</th>\n",
       "      <td>NBNSYS0100004462</td>\n",
       "      <td>Paratanytarsus dissimilis</td>\n",
       "      <td>insect - vlieg &amp; mug (Diptera)</td>\n",
       "      <td>Animalia</td>\n",
       "    </tr>\n",
       "    <tr>\n",
       "      <th>3</th>\n",
       "      <td>NHMSYS0000603228</td>\n",
       "      <td>Gymnodinium colymbeticum</td>\n",
       "      <td>wier</td>\n",
       "      <td>Plantae</td>\n",
       "    </tr>\n",
       "    <tr>\n",
       "      <th>4</th>\n",
       "      <td>NHMSYS0000875969</td>\n",
       "      <td>Formicinae</td>\n",
       "      <td>insect - vliesvleugelige (Hymenoptera)</td>\n",
       "      <td>Animalia</td>\n",
       "    </tr>\n",
       "  </tbody>\n",
       "</table>\n",
       "</div>"
      ],
      "text/plain": [
       "  RECOMMENDED_TAXON_VERSION_KEY             scientificName  \\\n",
       "0              NHMSYS0000456996                   Caylusea   \n",
       "1              NHMSYS0000900079     Listrognathus mactator   \n",
       "2              NBNSYS0100004462  Paratanytarsus dissimilis   \n",
       "3              NHMSYS0000603228   Gymnodinium colymbeticum   \n",
       "4              NHMSYS0000875969                 Formicinae   \n",
       "\n",
       "                         TAXON_GROUP_NAME   kingdom  \n",
       "0                              bloemplant   Plantae  \n",
       "1  insect - vliesvleugelige (Hymenoptera)  Animalia  \n",
       "2          insect - vlieg & mug (Diptera)  Animalia  \n",
       "3                                    wier   Plantae  \n",
       "4  insect - vliesvleugelige (Hymenoptera)  Animalia  "
      ]
     },
     "execution_count": 153,
     "metadata": {},
     "output_type": "execute_result"
    }
   ],
   "source": [
    "recorder_names.head()"
   ]
  },
  {
   "cell_type": "markdown",
   "metadata": {
    "collapsed": true
   },
   "source": [
    "## Asynchronuous performing the requests"
   ]
  },
  {
   "cell_type": "markdown",
   "metadata": {},
   "source": [
    "As we went to request 144135 different names to the GBIF backbone, a asyncronious requesting should be possible in order to shorten the time to retrieve the results:"
   ]
  },
  {
   "cell_type": "markdown",
   "metadata": {},
   "source": [
    "### Minimal working example"
   ]
  },
  {
   "cell_type": "markdown",
   "metadata": {},
   "source": [
    "The concept of an asyncronious request of the API as example:"
   ]
  },
  {
   "cell_type": "code",
   "execution_count": 154,
   "metadata": {
    "collapsed": false
   },
   "outputs": [],
   "source": [
    "class Collector():\n",
    "    def __init__(self):\n",
    "        self.data = {}\n",
    "\n",
    "    async def fetch(self, session, name, kingdom, idx):\n",
    "        parameters = {'verbose': False, 'strict': True, 'name' : name, 'kingdom': kingdom}\n",
    "        async with client.get('http://api.gbif.org/v1/species/match', params=parameters) as resp:\n",
    "            if resp.status != 200:\n",
    "                print(await resp.reason)\n",
    "            else:\n",
    "                #print(await resp.json())\n",
    "                self.data[idx] = await resp.json()"
   ]
  },
  {
   "cell_type": "code",
   "execution_count": 155,
   "metadata": {
    "collapsed": true
   },
   "outputs": [],
   "source": [
    "testcase = recorder_names.iloc[:100,:]"
   ]
  },
  {
   "cell_type": "code",
   "execution_count": 156,
   "metadata": {
    "collapsed": false
   },
   "outputs": [],
   "source": [
    "names = testcase[\"scientificName\"].values.tolist()\n",
    "kingdoms = testcase[\"kingdom\"].values.tolist()\n",
    "inbo_idx = testcase[\"RECOMMENDED_TAXON_VERSION_KEY\"].values.tolist()"
   ]
  },
  {
   "cell_type": "code",
   "execution_count": 157,
   "metadata": {
    "collapsed": false
   },
   "outputs": [],
   "source": [
    "test = Collector()\n",
    "with aiohttp.ClientSession() as client:\n",
    "    asyncio.get_event_loop().run_until_complete(asyncio.gather(\n",
    "            *[test.fetch(client, name, kingdom, idx) for name, kingdom, idx in zip(names, kingdoms, inbo_idx)], \n",
    "            return_exceptions=True))"
   ]
  },
  {
   "cell_type": "code",
   "execution_count": 158,
   "metadata": {
    "collapsed": false
   },
   "outputs": [
    {
     "data": {
      "text/plain": [
       "100"
      ]
     },
     "execution_count": 158,
     "metadata": {},
     "output_type": "execute_result"
    }
   ],
   "source": [
    "len(test.data)"
   ]
  },
  {
   "cell_type": "markdown",
   "metadata": {},
   "source": [
    "Just a single example:"
   ]
  },
  {
   "cell_type": "code",
   "execution_count": 159,
   "metadata": {
    "collapsed": false
   },
   "outputs": [
    {
     "data": {
      "text/plain": [
       "{'canonicalName': 'Bolbitius conocephalus',\n",
       " 'class': 'Agaricomycetes',\n",
       " 'classKey': 186,\n",
       " 'confidence': 100,\n",
       " 'family': 'Bolbitiaceae',\n",
       " 'familyKey': 8440,\n",
       " 'genus': 'Galerella',\n",
       " 'genusKey': 8617918,\n",
       " 'kingdom': 'Fungi',\n",
       " 'kingdomKey': 5,\n",
       " 'matchType': 'EXACT',\n",
       " 'order': 'Agaricales',\n",
       " 'orderKey': 1499,\n",
       " 'phylum': 'Basidiomycota',\n",
       " 'phylumKey': 34,\n",
       " 'rank': 'SPECIES',\n",
       " 'scientificName': 'Bolbitius conocephalus (Bull.) Fr., 1874',\n",
       " 'species': 'Galerella conocephala',\n",
       " 'speciesKey': 5449507,\n",
       " 'status': 'SYNONYM',\n",
       " 'synonym': True,\n",
       " 'usageKey': 2529985}"
      ]
     },
     "execution_count": 159,
     "metadata": {},
     "output_type": "execute_result"
    }
   ],
   "source": [
    "test.data['BMSSYS0000002618']"
   ]
  },
  {
   "cell_type": "markdown",
   "metadata": {},
   "source": [
    "### Chunked version execution"
   ]
  },
  {
   "cell_type": "markdown",
   "metadata": {},
   "source": [
    "Let's try it in chunks of around 100 requests in batches of 50000:"
   ]
  },
  {
   "cell_type": "code",
   "execution_count": 160,
   "metadata": {
    "collapsed": false
   },
   "outputs": [
    {
     "data": {
      "text/plain": [
       "144135"
      ]
     },
     "execution_count": 160,
     "metadata": {},
     "output_type": "execute_result"
    }
   ],
   "source": [
    "len(recorder_names)"
   ]
  },
  {
   "cell_type": "code",
   "execution_count": 161,
   "metadata": {
    "collapsed": true
   },
   "outputs": [],
   "source": [
    "import time"
   ]
  },
  {
   "cell_type": "markdown",
   "metadata": {},
   "source": [
    "I made the following cells in raw-text to exclude them from running the whole sequence again when just running the notebook, the result of the sequence of runs is loaded as a variable: `recorder_matched` in the next code cell"
   ]
  },
  {
   "cell_type": "raw",
   "metadata": {},
   "source": [
    "chunksize = 100\n",
    "batchstart = 0\n",
    "batchsize = 50000\n",
    "\n",
    "data_collect = {}\n",
    "for i in range(batchstart, batchstart + batchsize, chunksize): \n",
    "    current_case = recorder_names.iloc[i:i+chunksize, :] \n",
    "    names = current_case[\"scientificName\"]\n",
    "    kingdoms = current_case[\"kingdom\"]\n",
    "    inbo_idx = current_case[\"RECOMMENDED_TAXON_VERSION_KEY\"]\n",
    "\n",
    "    temp = Collector()\n",
    "    with aiohttp.ClientSession() as client:\n",
    "        asyncio.get_event_loop().run_until_complete(asyncio.wait(\n",
    "                [temp.fetch(client, name, kingdom, idx) for name, kingdom, idx in zip(names, kingdoms, inbo_idx)]))\n",
    "\n",
    "    #    if len(temp.data) < chunksize:\n",
    "    print(len(temp.data))\n",
    "    data_collect.update(temp.data)\n",
    "\n",
    "run_part = pd.DataFrame(data_collect).transpose()\n",
    "run_part.to_csv(\"\".join([\"recorder_\", str(batchstart), \"_till_\", str(batchsize), \".csv\"]))   "
   ]
  },
  {
   "cell_type": "raw",
   "metadata": {
    "collapsed": false
   },
   "source": [
    "chunksize = 100\n",
    "batchstart = 50000\n",
    "batchsize = 50000\n",
    "\n",
    "data_collect = {}\n",
    "for i in range(batchstart, batchstart + batchsize, chunksize): \n",
    "    current_case = recorder_names.iloc[i:i+chunksize, :] \n",
    "    names = current_case[\"scientificName\"]\n",
    "    kingdoms = current_case[\"kingdom\"]\n",
    "    inbo_idx = current_case[\"RECOMMENDED_TAXON_VERSION_KEY\"]\n",
    "\n",
    "    temp = Collector()\n",
    "    with aiohttp.ClientSession() as client:\n",
    "        asyncio.get_event_loop().run_until_complete(asyncio.wait(\n",
    "                [temp.fetch(client, name, kingdom, idx) for name, kingdom, idx in zip(names, kingdoms, inbo_idx)]))\n",
    "\n",
    "    #    if len(temp.data) < chunksize:\n",
    "    print(len(temp.data))\n",
    "    data_collect.update(temp.data)\n",
    "\n",
    "run_part = pd.DataFrame(data_collect).transpose()\n",
    "run_part.to_csv(\"\".join([\"recorder_\", str(batchstart), \"_till_\", str(batchsize), \".csv\"]))   "
   ]
  },
  {
   "cell_type": "raw",
   "metadata": {
    "collapsed": false
   },
   "source": [
    "chunksize = 100\n",
    "batchstart = 100000\n",
    "batchsize = 44136\n",
    "\n",
    "data_collect = {}\n",
    "for i in range(batchstart, batchstart + batchsize, chunksize): \n",
    "    current_case = recorder_names.iloc[i:i+chunksize, :] \n",
    "    names = current_case[\"scientificName\"]\n",
    "    kingdoms = current_case[\"kingdom\"]\n",
    "    inbo_idx = current_case[\"RECOMMENDED_TAXON_VERSION_KEY\"]\n",
    "\n",
    "    temp = Collector()\n",
    "    with aiohttp.ClientSession() as client:\n",
    "        asyncio.get_event_loop().run_until_complete(asyncio.wait(\n",
    "                [temp.fetch(client, name, kingdom, idx) for name, kingdom, idx in zip(names, kingdoms, inbo_idx)]))\n",
    "\n",
    "    #    if len(temp.data) < chunksize:\n",
    "    print(len(temp.data))\n",
    "    data_collect.update(temp.data)\n",
    "\n",
    "run_part = pd.DataFrame(data_collect).transpose()\n",
    "run_part.to_csv(\"\".join([\"recorder_\", str(batchstart), \"_till_\", str(batchsize), \".csv\"]))   "
   ]
  },
  {
   "cell_type": "raw",
   "metadata": {},
   "source": [
    "Combining the three batches:"
   ]
  },
  {
   "cell_type": "raw",
   "metadata": {
    "collapsed": true
   },
   "source": [
    "results1 = pd.read_csv(\"recorder_0_till_50000.csv\", dtype=object)\n",
    "results2 = pd.read_csv(\"recorder_50000_till_50000.csv\", dtype=object)\n",
    "results3 = pd.read_csv(\"recorder_100000_till_44136.csv\", dtype=object)"
   ]
  },
  {
   "cell_type": "raw",
   "metadata": {
    "collapsed": true
   },
   "source": [
    "result = pd.concat((results1, results2, results3))"
   ]
  },
  {
   "cell_type": "raw",
   "metadata": {
    "collapsed": false
   },
   "source": [
    "len(result)"
   ]
  },
  {
   "cell_type": "markdown",
   "metadata": {},
   "source": [
    "Not missing that much requests anymore, since we're less than 144135 requests"
   ]
  },
  {
   "cell_type": "markdown",
   "metadata": {},
   "source": [
    "### Retrying the missing requests "
   ]
  },
  {
   "cell_type": "markdown",
   "metadata": {},
   "source": [
    "Some requests just went wrong, let's redo this set of around 100 failures.."
   ]
  },
  {
   "cell_type": "raw",
   "metadata": {
    "collapsed": false
   },
   "source": [
    "compare = pd.merge(recorder_names, result, left_on=\"RECOMMENDED_TAXON_VERSION_KEY\", right_on=\"Unnamed: 0\", how='left')"
   ]
  },
  {
   "cell_type": "raw",
   "metadata": {
    "collapsed": true
   },
   "source": [
    "toredo = compare[compare[\"Unnamed: 0\"].isnull()][[\"RECOMMENDED_TAXON_VERSION_KEY\", \"scientificName_x\", \"kingdom_x\"]]"
   ]
  },
  {
   "cell_type": "raw",
   "metadata": {
    "collapsed": false
   },
   "source": [
    "toredo.head(10)"
   ]
  },
  {
   "cell_type": "raw",
   "metadata": {
    "collapsed": false
   },
   "source": [
    "support_redo = {}\n",
    "for idx, row in toredo.iterrows():\n",
    "    support_redo[row[\"RECOMMENDED_TAXON_VERSION_KEY\"]] = extract_gbif_species_names_info(row[\"scientificName_x\"], row[\"kingdom_x\"])\n",
    "    \n",
    "    "
   ]
  },
  {
   "cell_type": "raw",
   "metadata": {
    "collapsed": false
   },
   "source": [
    "redo_df = pd.DataFrame(support_redo).transpose()"
   ]
  },
  {
   "cell_type": "raw",
   "metadata": {
    "collapsed": false
   },
   "source": [
    "redo_df = redo_df.reset_index()\n",
    "redo_df = redo_df.rename(columns={\"index\" : \"Unnamed: 0\"})"
   ]
  },
  {
   "cell_type": "raw",
   "metadata": {
    "collapsed": false
   },
   "source": [
    "recorder_matched = pd.concat((redo_df, result))"
   ]
  },
  {
   "cell_type": "markdown",
   "metadata": {},
   "source": [
    "Reading in the matches names from the last performed matching"
   ]
  },
  {
   "cell_type": "markdown",
   "metadata": {
    "collapsed": true
   },
   "source": [
    "### getting the acceptedKey when the status is not accepted but SYNONYM"
   ]
  },
  {
   "cell_type": "raw",
   "metadata": {
    "collapsed": true
   },
   "source": [
    "recorder_matched[\"acceptedKey\"] = recorder_matched[\"usageKey\"]\n",
    "recorder_matched[\"acceptedScientificName\"] = recorder_matched[\"scientificName\"]"
   ]
  },
  {
   "cell_type": "raw",
   "metadata": {
    "collapsed": true
   },
   "source": [
    "for idx, row in recorder_matched.iterrows():\n",
    "    if row[\"synonym\"] == 'True':\n",
    "        if row[\"acceptedKey\"] == row[\"usageKey\"]: \n",
    "            #print(row[\"usageKey\"], row[\"acceptedKey\"]) \n",
    "            base_string = \"http://api.gbif.org/v1/species/\"\n",
    "            request = ''.join((base_string, str(int(row[\"usageKey\"]))))\n",
    "            message = requests.get(_escape_spaces(request)).json()\n",
    "            try:\n",
    "                row[\"acceptedKey\"] = message[\"acceptedKey\"]\n",
    "                row[\"acceptedScientificName\"] = message[\"accepted\"]\n",
    "            except:\n",
    "                print(message)\n",
    "                row[\"acceptedKey\"] = None\n",
    "                row[\"acceptedScientificName\"] = None"
   ]
  },
  {
   "cell_type": "raw",
   "metadata": {
    "collapsed": false
   },
   "source": [
    "recorder_matched = recorder_matched.reset_index()\n",
    "recorder_matched = recorder_matched.drop(\"Unnamed: 0\", axis=1)\n",
    "recorder_matched = recorder_matched.set_index(\"Unnamed: 0.1\")"
   ]
  },
  {
   "cell_type": "raw",
   "metadata": {},
   "source": [
    "recorder_matched.to_csv(\"../data/interim/recorder_sql_unique_names_matched.csv\", dtype=object)"
   ]
  },
  {
   "cell_type": "markdown",
   "metadata": {},
   "source": [
    "## Checking the matched result"
   ]
  },
  {
   "cell_type": "code",
   "execution_count": 162,
   "metadata": {
    "collapsed": false
   },
   "outputs": [],
   "source": [
    "recorder_matched = pd.read_csv(\"../data/interim/recorder_sql_unique_names_matched.csv\", dtype=object)"
   ]
  },
  {
   "cell_type": "code",
   "execution_count": 163,
   "metadata": {
    "collapsed": false
   },
   "outputs": [],
   "source": [
    "recorder_matched = recorder_matched.rename(columns={\"Unnamed: 0.1\": \"INBO_identifier\"})"
   ]
  },
  {
   "cell_type": "code",
   "execution_count": 164,
   "metadata": {
    "collapsed": false
   },
   "outputs": [
    {
     "data": {
      "text/html": [
       "<div>\n",
       "<table border=\"1\" class=\"dataframe\">\n",
       "  <thead>\n",
       "    <tr style=\"text-align: right;\">\n",
       "      <th></th>\n",
       "      <th>INBO_identifier</th>\n",
       "      <th>canonicalName</th>\n",
       "      <th>class</th>\n",
       "      <th>classKey</th>\n",
       "      <th>confidence</th>\n",
       "      <th>family</th>\n",
       "      <th>familyKey</th>\n",
       "      <th>genus</th>\n",
       "      <th>genusKey</th>\n",
       "      <th>kingdom</th>\n",
       "      <th>...</th>\n",
       "      <th>phylumKey</th>\n",
       "      <th>rank</th>\n",
       "      <th>scientificName</th>\n",
       "      <th>species</th>\n",
       "      <th>speciesKey</th>\n",
       "      <th>status</th>\n",
       "      <th>synonym</th>\n",
       "      <th>usageKey</th>\n",
       "      <th>acceptedKey</th>\n",
       "      <th>acceptedScientificName</th>\n",
       "    </tr>\n",
       "  </thead>\n",
       "  <tbody>\n",
       "    <tr>\n",
       "      <th>0</th>\n",
       "      <td>INBSYS0000005533</td>\n",
       "      <td>Cotoneaster villosulus</td>\n",
       "      <td>Magnoliopsida</td>\n",
       "      <td>220</td>\n",
       "      <td>100</td>\n",
       "      <td>Rosaceae</td>\n",
       "      <td>5015</td>\n",
       "      <td>Cotoneaster</td>\n",
       "      <td>3025563</td>\n",
       "      <td>Plantae</td>\n",
       "      <td>...</td>\n",
       "      <td>7707728</td>\n",
       "      <td>SPECIES</td>\n",
       "      <td>Cotoneaster villosulus (Rehder &amp; E.H. Wilson) ...</td>\n",
       "      <td>Cotoneaster acutifolius</td>\n",
       "      <td>3025770</td>\n",
       "      <td>SYNONYM</td>\n",
       "      <td>True</td>\n",
       "      <td>3025564</td>\n",
       "      <td>3025565</td>\n",
       "      <td>Cotoneaster acutifolius var. villosulus Rehd. ...</td>\n",
       "    </tr>\n",
       "    <tr>\n",
       "      <th>1</th>\n",
       "      <td>NBNSYS0000019326</td>\n",
       "      <td>NaN</td>\n",
       "      <td>NaN</td>\n",
       "      <td>NaN</td>\n",
       "      <td>100</td>\n",
       "      <td>NaN</td>\n",
       "      <td>NaN</td>\n",
       "      <td>NaN</td>\n",
       "      <td>NaN</td>\n",
       "      <td>NaN</td>\n",
       "      <td>...</td>\n",
       "      <td>NaN</td>\n",
       "      <td>NaN</td>\n",
       "      <td>NaN</td>\n",
       "      <td>NaN</td>\n",
       "      <td>NaN</td>\n",
       "      <td>NaN</td>\n",
       "      <td>False</td>\n",
       "      <td>NaN</td>\n",
       "      <td>NaN</td>\n",
       "      <td>NaN</td>\n",
       "    </tr>\n",
       "    <tr>\n",
       "      <th>2</th>\n",
       "      <td>NBNSYS0000022430</td>\n",
       "      <td>Leuctra hippopus</td>\n",
       "      <td>Insecta</td>\n",
       "      <td>216</td>\n",
       "      <td>100</td>\n",
       "      <td>Leuctridae</td>\n",
       "      <td>2998</td>\n",
       "      <td>Leuctra</td>\n",
       "      <td>2001760</td>\n",
       "      <td>Animalia</td>\n",
       "      <td>...</td>\n",
       "      <td>54</td>\n",
       "      <td>SPECIES</td>\n",
       "      <td>Leuctra hippopus Kempny, 1899</td>\n",
       "      <td>Leuctra hippopus</td>\n",
       "      <td>2001976</td>\n",
       "      <td>ACCEPTED</td>\n",
       "      <td>False</td>\n",
       "      <td>2001976</td>\n",
       "      <td>2001976</td>\n",
       "      <td>Leuctra hippopus Kempny, 1899</td>\n",
       "    </tr>\n",
       "    <tr>\n",
       "      <th>3</th>\n",
       "      <td>NBNSYS0200001885</td>\n",
       "      <td>Axonopus compressus</td>\n",
       "      <td>Liliopsida</td>\n",
       "      <td>196</td>\n",
       "      <td>100</td>\n",
       "      <td>Poaceae</td>\n",
       "      <td>3073</td>\n",
       "      <td>Mesosetum</td>\n",
       "      <td>4113460</td>\n",
       "      <td>Plantae</td>\n",
       "      <td>...</td>\n",
       "      <td>7707728</td>\n",
       "      <td>SPECIES</td>\n",
       "      <td>Axonopus compressus (Sw.) P.Beauv.</td>\n",
       "      <td>Mesosetum compressum</td>\n",
       "      <td>4114391</td>\n",
       "      <td>SYNONYM</td>\n",
       "      <td>True</td>\n",
       "      <td>2705924</td>\n",
       "      <td>4114391</td>\n",
       "      <td>Mesosetum compressum Swallen</td>\n",
       "    </tr>\n",
       "    <tr>\n",
       "      <th>4</th>\n",
       "      <td>NHMSYS0001480349</td>\n",
       "      <td>Dasyscyphus relicinus</td>\n",
       "      <td>Leotiomycetes</td>\n",
       "      <td>179</td>\n",
       "      <td>100</td>\n",
       "      <td>Lachnaceae</td>\n",
       "      <td>3295205</td>\n",
       "      <td>Lachnum</td>\n",
       "      <td>2581043</td>\n",
       "      <td>Fungi</td>\n",
       "      <td>...</td>\n",
       "      <td>95</td>\n",
       "      <td>SPECIES</td>\n",
       "      <td>Dasyscyphus relicinus (Fr.) Boud.</td>\n",
       "      <td>Lachnum relicinum</td>\n",
       "      <td>3489190</td>\n",
       "      <td>SYNONYM</td>\n",
       "      <td>True</td>\n",
       "      <td>3281874</td>\n",
       "      <td>3489190</td>\n",
       "      <td>Lachnum relicinum (Fr.) P. Karst., 1871</td>\n",
       "    </tr>\n",
       "  </tbody>\n",
       "</table>\n",
       "<p>5 rows × 26 columns</p>\n",
       "</div>"
      ],
      "text/plain": [
       "    INBO_identifier           canonicalName          class classKey  \\\n",
       "0  INBSYS0000005533  Cotoneaster villosulus  Magnoliopsida      220   \n",
       "1  NBNSYS0000019326                     NaN            NaN      NaN   \n",
       "2  NBNSYS0000022430        Leuctra hippopus        Insecta      216   \n",
       "3  NBNSYS0200001885     Axonopus compressus     Liliopsida      196   \n",
       "4  NHMSYS0001480349   Dasyscyphus relicinus  Leotiomycetes      179   \n",
       "\n",
       "  confidence      family familyKey        genus genusKey   kingdom  \\\n",
       "0        100    Rosaceae      5015  Cotoneaster  3025563   Plantae   \n",
       "1        100         NaN       NaN          NaN      NaN       NaN   \n",
       "2        100  Leuctridae      2998      Leuctra  2001760  Animalia   \n",
       "3        100     Poaceae      3073    Mesosetum  4113460   Plantae   \n",
       "4        100  Lachnaceae   3295205      Lachnum  2581043     Fungi   \n",
       "\n",
       "                         ...                         phylumKey     rank  \\\n",
       "0                        ...                           7707728  SPECIES   \n",
       "1                        ...                               NaN      NaN   \n",
       "2                        ...                                54  SPECIES   \n",
       "3                        ...                           7707728  SPECIES   \n",
       "4                        ...                                95  SPECIES   \n",
       "\n",
       "                                      scientificName                  species  \\\n",
       "0  Cotoneaster villosulus (Rehder & E.H. Wilson) ...  Cotoneaster acutifolius   \n",
       "1                                                NaN                      NaN   \n",
       "2                      Leuctra hippopus Kempny, 1899         Leuctra hippopus   \n",
       "3                 Axonopus compressus (Sw.) P.Beauv.     Mesosetum compressum   \n",
       "4                  Dasyscyphus relicinus (Fr.) Boud.        Lachnum relicinum   \n",
       "\n",
       "  speciesKey    status synonym usageKey acceptedKey  \\\n",
       "0    3025770   SYNONYM    True  3025564     3025565   \n",
       "1        NaN       NaN   False      NaN         NaN   \n",
       "2    2001976  ACCEPTED   False  2001976     2001976   \n",
       "3    4114391   SYNONYM    True  2705924     4114391   \n",
       "4    3489190   SYNONYM    True  3281874     3489190   \n",
       "\n",
       "                              acceptedScientificName  \n",
       "0  Cotoneaster acutifolius var. villosulus Rehd. ...  \n",
       "1                                                NaN  \n",
       "2                      Leuctra hippopus Kempny, 1899  \n",
       "3                       Mesosetum compressum Swallen  \n",
       "4            Lachnum relicinum (Fr.) P. Karst., 1871  \n",
       "\n",
       "[5 rows x 26 columns]"
      ]
     },
     "execution_count": 164,
     "metadata": {},
     "output_type": "execute_result"
    }
   ],
   "source": [
    "recorder_matched.head()"
   ]
  },
  {
   "cell_type": "markdown",
   "metadata": {},
   "source": [
    "Some summary information:"
   ]
  },
  {
   "cell_type": "code",
   "execution_count": 165,
   "metadata": {
    "collapsed": false
   },
   "outputs": [
    {
     "data": {
      "text/plain": [
       "Index(['INBO_identifier', 'canonicalName', 'class', 'classKey', 'confidence',\n",
       "       'family', 'familyKey', 'genus', 'genusKey', 'kingdom', 'kingdomKey',\n",
       "       'matchType', 'note', 'order', 'orderKey', 'phylum', 'phylumKey', 'rank',\n",
       "       'scientificName', 'species', 'speciesKey', 'status', 'synonym',\n",
       "       'usageKey', 'acceptedKey', 'acceptedScientificName'],\n",
       "      dtype='object')"
      ]
     },
     "execution_count": 165,
     "metadata": {},
     "output_type": "execute_result"
    }
   ],
   "source": [
    "recorder_matched.columns"
   ]
  },
  {
   "cell_type": "code",
   "execution_count": 166,
   "metadata": {
    "collapsed": false
   },
   "outputs": [
    {
     "data": {
      "text/plain": [
       "144135"
      ]
     },
     "execution_count": 166,
     "metadata": {},
     "output_type": "execute_result"
    }
   ],
   "source": [
    "recorder_matched[\"matchType\"].count()"
   ]
  },
  {
   "cell_type": "code",
   "execution_count": 167,
   "metadata": {
    "collapsed": false
   },
   "outputs": [
    {
     "data": {
      "text/plain": [
       "<matplotlib.axes._subplots.AxesSubplot at 0x7fda0034c828>"
      ]
     },
     "execution_count": 167,
     "metadata": {},
     "output_type": "execute_result"
    },
    {
     "data": {
      "image/png": "[encoded data removed]",
      "text/plain": [
       "<matplotlib.figure.Figure at 0x7fda0034cd68>"
      ]
     },
     "metadata": {},
     "output_type": "display_data"
    }
   ],
   "source": [
    "recorder_matched.groupby((\"matchType\")).count()[\"confidence\"].plot(kind=\"barh\")"
   ]
  },
  {
   "cell_type": "code",
   "execution_count": 168,
   "metadata": {
    "collapsed": false
   },
   "outputs": [
    {
     "data": {
      "text/plain": [
       "<matplotlib.axes._subplots.AxesSubplot at 0x7fda0035e860>"
      ]
     },
     "execution_count": 168,
     "metadata": {},
     "output_type": "execute_result"
    },
    {
     "data": {
      "image/png": "[encoded data removed]",
      "text/plain": [
       "<matplotlib.figure.Figure at 0x7fda00312ef0>"
      ]
     },
     "metadata": {},
     "output_type": "display_data"
    }
   ],
   "source": [
    "recorder_matched.groupby((\"status\")).count()[\"canonicalName\"].plot(kind=\"barh\")"
   ]
  },
  {
   "cell_type": "markdown",
   "metadata": {},
   "source": [
    "Other 39000 are NONE..."
   ]
  },
  {
   "cell_type": "markdown",
   "metadata": {},
   "source": [
    "#### Different reasons for failed answer in the note:"
   ]
  },
  {
   "cell_type": "markdown",
   "metadata": {},
   "source": [
    "*Multiple equal matches for...* added by the name"
   ]
  },
  {
   "cell_type": "code",
   "execution_count": 169,
   "metadata": {
    "collapsed": false
   },
   "outputs": [
    {
     "data": {
      "text/plain": [
       "19818"
      ]
     },
     "execution_count": 169,
     "metadata": {},
     "output_type": "execute_result"
    }
   ],
   "source": [
    "sum(recorder_matched[\"note\"].str.contains(\"too little\").dropna())"
   ]
  },
  {
   "cell_type": "markdown",
   "metadata": {},
   "source": [
    "*No match because of too little confidence*"
   ]
  },
  {
   "cell_type": "code",
   "execution_count": 170,
   "metadata": {
    "collapsed": false
   },
   "outputs": [
    {
     "data": {
      "text/plain": [
       "988"
      ]
     },
     "execution_count": 170,
     "metadata": {},
     "output_type": "execute_result"
    }
   ],
   "source": [
    "sum(recorder_matched[\"note\"].str.contains(\"Multiple equal matches\").dropna())"
   ]
  },
  {
   "cell_type": "markdown",
   "metadata": {},
   "source": [
    "*N synonym homonyms* (with N = 2, 3,...) -> When SYNONYM is found"
   ]
  },
  {
   "cell_type": "code",
   "execution_count": 171,
   "metadata": {
    "collapsed": false
   },
   "outputs": [
    {
     "data": {
      "text/plain": [
       "1344"
      ]
     },
     "execution_count": 171,
     "metadata": {},
     "output_type": "execute_result"
    }
   ],
   "source": [
    "sum(recorder_matched[\"note\"].str.contains(\"synonym homonyms\").dropna())"
   ]
  },
  {
   "cell_type": "code",
   "execution_count": 172,
   "metadata": {
    "collapsed": false
   },
   "outputs": [
    {
     "data": {
      "text/plain": [
       "Index(['INBO_identifier', 'canonicalName', 'class', 'classKey', 'confidence',\n",
       "       'family', 'familyKey', 'genus', 'genusKey', 'kingdom', 'kingdomKey',\n",
       "       'matchType', 'note', 'order', 'orderKey', 'phylum', 'phylumKey', 'rank',\n",
       "       'scientificName', 'species', 'speciesKey', 'status', 'synonym',\n",
       "       'usageKey', 'acceptedKey', 'acceptedScientificName'],\n",
       "      dtype='object')"
      ]
     },
     "execution_count": 172,
     "metadata": {},
     "output_type": "execute_result"
    }
   ],
   "source": [
    "recorder_matched.columns"
   ]
  },
  {
   "cell_type": "code",
   "execution_count": 173,
   "metadata": {
    "collapsed": false
   },
   "outputs": [
    {
     "data": {
      "text/html": [
       "<div>\n",
       "<table border=\"1\" class=\"dataframe\">\n",
       "  <thead>\n",
       "    <tr style=\"text-align: right;\">\n",
       "      <th></th>\n",
       "      <th>INBO_identifier</th>\n",
       "      <th>canonicalName</th>\n",
       "      <th>class</th>\n",
       "      <th>classKey</th>\n",
       "      <th>confidence</th>\n",
       "      <th>family</th>\n",
       "      <th>familyKey</th>\n",
       "      <th>genus</th>\n",
       "      <th>genusKey</th>\n",
       "      <th>kingdom</th>\n",
       "      <th>...</th>\n",
       "      <th>phylumKey</th>\n",
       "      <th>rank</th>\n",
       "      <th>scientificName</th>\n",
       "      <th>species</th>\n",
       "      <th>speciesKey</th>\n",
       "      <th>status</th>\n",
       "      <th>synonym</th>\n",
       "      <th>usageKey</th>\n",
       "      <th>acceptedKey</th>\n",
       "      <th>acceptedScientificName</th>\n",
       "    </tr>\n",
       "  </thead>\n",
       "  <tbody>\n",
       "    <tr>\n",
       "      <th>0</th>\n",
       "      <td>INBSYS0000005533</td>\n",
       "      <td>Cotoneaster villosulus</td>\n",
       "      <td>Magnoliopsida</td>\n",
       "      <td>220</td>\n",
       "      <td>100</td>\n",
       "      <td>Rosaceae</td>\n",
       "      <td>5015</td>\n",
       "      <td>Cotoneaster</td>\n",
       "      <td>3025563</td>\n",
       "      <td>Plantae</td>\n",
       "      <td>...</td>\n",
       "      <td>7707728</td>\n",
       "      <td>SPECIES</td>\n",
       "      <td>Cotoneaster villosulus (Rehder &amp; E.H. Wilson) ...</td>\n",
       "      <td>Cotoneaster acutifolius</td>\n",
       "      <td>3025770</td>\n",
       "      <td>SYNONYM</td>\n",
       "      <td>True</td>\n",
       "      <td>3025564</td>\n",
       "      <td>3025565</td>\n",
       "      <td>Cotoneaster acutifolius var. villosulus Rehd. ...</td>\n",
       "    </tr>\n",
       "    <tr>\n",
       "      <th>1</th>\n",
       "      <td>NBNSYS0000019326</td>\n",
       "      <td>NaN</td>\n",
       "      <td>NaN</td>\n",
       "      <td>NaN</td>\n",
       "      <td>100</td>\n",
       "      <td>NaN</td>\n",
       "      <td>NaN</td>\n",
       "      <td>NaN</td>\n",
       "      <td>NaN</td>\n",
       "      <td>NaN</td>\n",
       "      <td>...</td>\n",
       "      <td>NaN</td>\n",
       "      <td>NaN</td>\n",
       "      <td>NaN</td>\n",
       "      <td>NaN</td>\n",
       "      <td>NaN</td>\n",
       "      <td>NaN</td>\n",
       "      <td>False</td>\n",
       "      <td>NaN</td>\n",
       "      <td>NaN</td>\n",
       "      <td>NaN</td>\n",
       "    </tr>\n",
       "    <tr>\n",
       "      <th>2</th>\n",
       "      <td>NBNSYS0000022430</td>\n",
       "      <td>Leuctra hippopus</td>\n",
       "      <td>Insecta</td>\n",
       "      <td>216</td>\n",
       "      <td>100</td>\n",
       "      <td>Leuctridae</td>\n",
       "      <td>2998</td>\n",
       "      <td>Leuctra</td>\n",
       "      <td>2001760</td>\n",
       "      <td>Animalia</td>\n",
       "      <td>...</td>\n",
       "      <td>54</td>\n",
       "      <td>SPECIES</td>\n",
       "      <td>Leuctra hippopus Kempny, 1899</td>\n",
       "      <td>Leuctra hippopus</td>\n",
       "      <td>2001976</td>\n",
       "      <td>ACCEPTED</td>\n",
       "      <td>False</td>\n",
       "      <td>2001976</td>\n",
       "      <td>2001976</td>\n",
       "      <td>Leuctra hippopus Kempny, 1899</td>\n",
       "    </tr>\n",
       "    <tr>\n",
       "      <th>3</th>\n",
       "      <td>NBNSYS0200001885</td>\n",
       "      <td>Axonopus compressus</td>\n",
       "      <td>Liliopsida</td>\n",
       "      <td>196</td>\n",
       "      <td>100</td>\n",
       "      <td>Poaceae</td>\n",
       "      <td>3073</td>\n",
       "      <td>Mesosetum</td>\n",
       "      <td>4113460</td>\n",
       "      <td>Plantae</td>\n",
       "      <td>...</td>\n",
       "      <td>7707728</td>\n",
       "      <td>SPECIES</td>\n",
       "      <td>Axonopus compressus (Sw.) P.Beauv.</td>\n",
       "      <td>Mesosetum compressum</td>\n",
       "      <td>4114391</td>\n",
       "      <td>SYNONYM</td>\n",
       "      <td>True</td>\n",
       "      <td>2705924</td>\n",
       "      <td>4114391</td>\n",
       "      <td>Mesosetum compressum Swallen</td>\n",
       "    </tr>\n",
       "    <tr>\n",
       "      <th>4</th>\n",
       "      <td>NHMSYS0001480349</td>\n",
       "      <td>Dasyscyphus relicinus</td>\n",
       "      <td>Leotiomycetes</td>\n",
       "      <td>179</td>\n",
       "      <td>100</td>\n",
       "      <td>Lachnaceae</td>\n",
       "      <td>3295205</td>\n",
       "      <td>Lachnum</td>\n",
       "      <td>2581043</td>\n",
       "      <td>Fungi</td>\n",
       "      <td>...</td>\n",
       "      <td>95</td>\n",
       "      <td>SPECIES</td>\n",
       "      <td>Dasyscyphus relicinus (Fr.) Boud.</td>\n",
       "      <td>Lachnum relicinum</td>\n",
       "      <td>3489190</td>\n",
       "      <td>SYNONYM</td>\n",
       "      <td>True</td>\n",
       "      <td>3281874</td>\n",
       "      <td>3489190</td>\n",
       "      <td>Lachnum relicinum (Fr.) P. Karst., 1871</td>\n",
       "    </tr>\n",
       "  </tbody>\n",
       "</table>\n",
       "<p>5 rows × 26 columns</p>\n",
       "</div>"
      ],
      "text/plain": [
       "    INBO_identifier           canonicalName          class classKey  \\\n",
       "0  INBSYS0000005533  Cotoneaster villosulus  Magnoliopsida      220   \n",
       "1  NBNSYS0000019326                     NaN            NaN      NaN   \n",
       "2  NBNSYS0000022430        Leuctra hippopus        Insecta      216   \n",
       "3  NBNSYS0200001885     Axonopus compressus     Liliopsida      196   \n",
       "4  NHMSYS0001480349   Dasyscyphus relicinus  Leotiomycetes      179   \n",
       "\n",
       "  confidence      family familyKey        genus genusKey   kingdom  \\\n",
       "0        100    Rosaceae      5015  Cotoneaster  3025563   Plantae   \n",
       "1        100         NaN       NaN          NaN      NaN       NaN   \n",
       "2        100  Leuctridae      2998      Leuctra  2001760  Animalia   \n",
       "3        100     Poaceae      3073    Mesosetum  4113460   Plantae   \n",
       "4        100  Lachnaceae   3295205      Lachnum  2581043     Fungi   \n",
       "\n",
       "                         ...                         phylumKey     rank  \\\n",
       "0                        ...                           7707728  SPECIES   \n",
       "1                        ...                               NaN      NaN   \n",
       "2                        ...                                54  SPECIES   \n",
       "3                        ...                           7707728  SPECIES   \n",
       "4                        ...                                95  SPECIES   \n",
       "\n",
       "                                      scientificName                  species  \\\n",
       "0  Cotoneaster villosulus (Rehder & E.H. Wilson) ...  Cotoneaster acutifolius   \n",
       "1                                                NaN                      NaN   \n",
       "2                      Leuctra hippopus Kempny, 1899         Leuctra hippopus   \n",
       "3                 Axonopus compressus (Sw.) P.Beauv.     Mesosetum compressum   \n",
       "4                  Dasyscyphus relicinus (Fr.) Boud.        Lachnum relicinum   \n",
       "\n",
       "  speciesKey    status synonym usageKey acceptedKey  \\\n",
       "0    3025770   SYNONYM    True  3025564     3025565   \n",
       "1        NaN       NaN   False      NaN         NaN   \n",
       "2    2001976  ACCEPTED   False  2001976     2001976   \n",
       "3    4114391   SYNONYM    True  2705924     4114391   \n",
       "4    3489190   SYNONYM    True  3281874     3489190   \n",
       "\n",
       "                              acceptedScientificName  \n",
       "0  Cotoneaster acutifolius var. villosulus Rehd. ...  \n",
       "1                                                NaN  \n",
       "2                      Leuctra hippopus Kempny, 1899  \n",
       "3                       Mesosetum compressum Swallen  \n",
       "4            Lachnum relicinum (Fr.) P. Karst., 1871  \n",
       "\n",
       "[5 rows x 26 columns]"
      ]
     },
     "execution_count": 173,
     "metadata": {},
     "output_type": "execute_result"
    }
   ],
   "source": [
    "recorder_matched.head()"
   ]
  },
  {
   "cell_type": "markdown",
   "metadata": {},
   "source": [
    "# 2. Verify the SYNONYM with a list of known verifications"
   ]
  },
  {
   "cell_type": "markdown",
   "metadata": {},
   "source": [
    "The workflow is comparable to the one described on [https://github.com/inbo/invasive-t0-occurrences/issues/52](https://github.com/inbo/invasive-t0-occurrences/issues/52), in order to derive an overview of the verified matching of the nameserver towards the GBIF services"
   ]
  },
  {
   "cell_type": "code",
   "execution_count": 174,
   "metadata": {
    "collapsed": false
   },
   "outputs": [],
   "source": [
    "recorder_matched[\"nameMatchValidation\"] = np.nan"
   ]
  },
  {
   "cell_type": "code",
   "execution_count": 176,
   "metadata": {
    "collapsed": false
   },
   "outputs": [],
   "source": [
    "recorder_matched.loc[recorder_matched[\"status\"] == \"ACCEPTED\", \"nameMatchValidation\"] = 'ok'\n",
    "recorder_matched.loc[recorder_matched[\"status\"] == \"DOUBTFUL\", \"nameMatchValidation\"] = 'ok: DOUBTFUL'"
   ]
  },
  {
   "cell_type": "markdown",
   "metadata": {},
   "source": [
    "Running the verification of the synonyms"
   ]
  },
  {
   "cell_type": "code",
   "execution_count": 177,
   "metadata": {
    "collapsed": false
   },
   "outputs": [
    {
     "data": {
      "text/plain": [
       "Index(['INBO_identifier', 'canonicalName', 'class', 'classKey', 'confidence',\n",
       "       'family', 'familyKey', 'genus', 'genusKey', 'kingdom', 'kingdomKey',\n",
       "       'matchType', 'note', 'order', 'orderKey', 'phylum', 'phylumKey', 'rank',\n",
       "       'scientificName', 'species', 'speciesKey', 'status', 'synonym',\n",
       "       'usageKey', 'acceptedKey', 'acceptedScientificName',\n",
       "       'nameMatchValidation'],\n",
       "      dtype='object')"
      ]
     },
     "execution_count": 177,
     "metadata": {},
     "output_type": "execute_result"
    }
   ],
   "source": [
    "recorder_matched.columns"
   ]
  },
  {
   "cell_type": "code",
   "execution_count": 178,
   "metadata": {
    "collapsed": false
   },
   "outputs": [],
   "source": [
    "recorder_matched = recorder_matched.rename(columns={\"status\": \"gbif_status\"})"
   ]
  },
  {
   "cell_type": "code",
   "execution_count": 179,
   "metadata": {
    "collapsed": false
   },
   "outputs": [],
   "source": [
    "recorder_matched = verify_synonym(recorder_matched, \"temp_out.tsv\", \n",
    "                                  \"https://raw.githubusercontent.com/inbo/alien-species-checklist/master/data/vocabularies/verified-synonyms.tsv\", \n",
    "                                  usagekeycol='usageKey', \n",
    "                                  acceptedkeycol='acceptedKey', \n",
    "                                  taxonomicstatuscol='gbif_status', \n",
    "                                  outputcol='nameMatchValidation')"
   ]
  },
  {
   "cell_type": "markdown",
   "metadata": {},
   "source": [
    "Number of corrections initiated by the synonym verification:"
   ]
  },
  {
   "cell_type": "code",
   "execution_count": 180,
   "metadata": {
    "collapsed": false
   },
   "outputs": [
    {
     "data": {
      "text/plain": [
       "120"
      ]
     },
     "execution_count": 180,
     "metadata": {},
     "output_type": "execute_result"
    }
   ],
   "source": [
    "temp = recorder_matched[(recorder_matched[\"nameMatchValidation\"].notnull()) & \n",
    "                 (recorder_matched[\"nameMatchValidation\"].str.contains(\"ok:\"))\n",
    "                ]\n",
    "len(temp[~temp[\"nameMatchValidation\"].str.contains(\"ok: DOUBTFUL\")])\n"
   ]
  },
  {
   "cell_type": "markdown",
   "metadata": {},
   "source": [
    "remove redundant columns:"
   ]
  },
  {
   "cell_type": "code",
   "execution_count": 185,
   "metadata": {
    "collapsed": false
   },
   "outputs": [],
   "source": [
    "recorder_matched = recorder_matched.drop([\"gbifapi_usageKey\", \"gbifapi_acceptedKey\"], axis=1)"
   ]
  },
  {
   "cell_type": "markdown",
   "metadata": {},
   "source": [
    "# 3. Data product"
   ]
  },
  {
   "cell_type": "markdown",
   "metadata": {},
   "source": [
    "For the final data product, we want to provide the matches we can trust, i.e. the status is `ACCEPTED`, `DOUBTFUL` or a verified `SYNONYM`"
   ]
  },
  {
   "cell_type": "code",
   "execution_count": 186,
   "metadata": {
    "collapsed": false
   },
   "outputs": [],
   "source": [
    "recorder_matched_verified = recorder_matched[recorder_matched['nameMatchValidation'].notnull & recorder_matched['nameMatchValidation'].str.contains('^ok', regex=True)]"
   ]
  },
  {
   "cell_type": "code",
   "execution_count": 187,
   "metadata": {
    "collapsed": false
   },
   "outputs": [
    {
     "data": {
      "text/plain": [
       "<matplotlib.axes._subplots.AxesSubplot at 0x7fda00286710>"
      ]
     },
     "execution_count": 187,
     "metadata": {},
     "output_type": "execute_result"
    },
    {
     "data": {
      "image/png": "[encoded data removed]",
      "text/plain": [
       "<matplotlib.figure.Figure at 0x7fd9fff09860>"
      ]
     },
     "metadata": {},
     "output_type": "display_data"
    }
   ],
   "source": [
    "recorder_matched_verified.groupby(('nameMatchValidation')).count()['INBO_identifier'].plot(kind=\"barh\", logx=True)"
   ]
  },
  {
   "cell_type": "code",
   "execution_count": 189,
   "metadata": {
    "collapsed": false
   },
   "outputs": [],
   "source": [
    "recorder_matched_verified.to_csv('../data/processed/recorder_sql_unique_names_matched_verified.tsv',\n",
    "                                 index=False, sep='\\t', na_rep=\"\")"
   ]
  },
  {
   "cell_type": "code",
   "execution_count": null,
   "metadata": {
    "collapsed": true
   },
   "outputs": [],
   "source": []
  }
 ],
 "metadata": {
  "kernelspec": {
   "display_name": "Python 3",
   "language": "python",
   "name": "python3"
  },
  "language_info": {
   "codemirror_mode": {
    "name": "ipython",
    "version": 3
   },
   "file_extension": ".py",
   "mimetype": "text/x-python",
   "name": "python",
   "nbconvert_exporter": "python",
   "pygments_lexer": "ipython3",
   "version": "3.5.1"
  },
  "widgets": {
   "state": {},
   "version": "1.1.2"
  }
 },
 "nbformat": 4,
 "nbformat_minor": 0
}
