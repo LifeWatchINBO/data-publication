{
 "cells": [
  {
   "cell_type": "markdown",
   "metadata": {},
   "source": [
    "# Match unique recommended names from the name server with GBIF"
   ]
  },
  {
   "cell_type": "code",
   "execution_count": 1,
   "metadata": {
    "collapsed": true
   },
   "outputs": [],
   "source": [
    "%matplotlib inline\n",
    "import numpy as np\n",
    "import pandas as pd\n",
    "import asyncio\n",
    "import aiohttp\n",
    "import requests\n",
    "import time"
   ]
  },
  {
   "cell_type": "code",
   "execution_count": 2,
   "metadata": {
    "collapsed": false
   },
   "outputs": [],
   "source": [
    "import sys\n",
    "# ADAPT FILE PATH TO GET FUNCTIONALITIES\n",
    "sys.path.append('../../../../inbo-pyutils/gbif/gbif_name_match')\n",
    "from gbif_species_name_match import (extract_species_information, \n",
    "                                     extract_gbif_species_names_info, \n",
    "                                     extract_gbif_accepted_key)"
   ]
  },
  {
   "cell_type": "markdown",
   "metadata": {},
   "source": [
    "## Summary"
   ]
  },
  {
   "cell_type": "markdown",
   "metadata": {},
   "source": [
    "We first extracted **all unique recommended species names used in recorder** (NBN-data, all surveys) with this query: [raw/recommended_nameserver_names.sql](raw/recommended_nameserver_names.sql). The resulting data is stored in [raw/recommended_nameserver_names.csv](raw/recommended_nameserver_names.csv). We then match those names with the GBIF backbone taxonomy, which will allow us to query our names on GBIF `acceptedKey`s. The result of this match is stored in [interim/recommended_nameserver_names_with_gbif_match.csv](interim/recommended_nameserver_names_with_gbif_match.csv). Since there are so many names, we will match the names with the [GBIF match API](api.gbif.org/v1/species/match) in chunks, asynchronously."
   ]
  },
  {
   "cell_type": "code",
   "execution_count": 3,
   "metadata": {
    "collapsed": false
   },
   "outputs": [],
   "source": [
    "recorder_names = pd.read_csv('../data/raw/recommended_nameserver_names.tsv', delimiter='\\t', dtype=object)"
   ]
  },
  {
   "cell_type": "code",
   "execution_count": 4,
   "metadata": {
    "collapsed": false
   },
   "outputs": [
    {
     "data": {
      "text/html": [
       "<div>\n",
       "<table border=\"1\" class=\"dataframe\">\n",
       "  <thead>\n",
       "    <tr style=\"text-align: right;\">\n",
       "      <th></th>\n",
       "      <th>RECOMMENDED_TAXON_VERSION_KEY</th>\n",
       "      <th>scientificName</th>\n",
       "      <th>TAXON_GROUP_NAME</th>\n",
       "    </tr>\n",
       "  </thead>\n",
       "  <tbody>\n",
       "    <tr>\n",
       "      <th>0</th>\n",
       "      <td>NHMSYS0000456996</td>\n",
       "      <td>Caylusea</td>\n",
       "      <td>bloemplant</td>\n",
       "    </tr>\n",
       "    <tr>\n",
       "      <th>1</th>\n",
       "      <td>NHMSYS0000900079</td>\n",
       "      <td>Listrognathus mactator</td>\n",
       "      <td>insect - vliesvleugelige (Hymenoptera)</td>\n",
       "    </tr>\n",
       "    <tr>\n",
       "      <th>2</th>\n",
       "      <td>NBNSYS0100004462</td>\n",
       "      <td>Paratanytarsus dissimilis</td>\n",
       "      <td>insect - vlieg &amp; mug (Diptera)</td>\n",
       "    </tr>\n",
       "    <tr>\n",
       "      <th>3</th>\n",
       "      <td>NHMSYS0000603228</td>\n",
       "      <td>Gymnodinium colymbeticum</td>\n",
       "      <td>wier</td>\n",
       "    </tr>\n",
       "    <tr>\n",
       "      <th>4</th>\n",
       "      <td>NHMSYS0000875969</td>\n",
       "      <td>Formicinae</td>\n",
       "      <td>insect - vliesvleugelige (Hymenoptera)</td>\n",
       "    </tr>\n",
       "  </tbody>\n",
       "</table>\n",
       "</div>"
      ],
      "text/plain": [
       "  RECOMMENDED_TAXON_VERSION_KEY             scientificName  \\\n",
       "0              NHMSYS0000456996                   Caylusea   \n",
       "1              NHMSYS0000900079     Listrognathus mactator   \n",
       "2              NBNSYS0100004462  Paratanytarsus dissimilis   \n",
       "3              NHMSYS0000603228   Gymnodinium colymbeticum   \n",
       "4              NHMSYS0000875969                 Formicinae   \n",
       "\n",
       "                         TAXON_GROUP_NAME  \n",
       "0                              bloemplant  \n",
       "1  insect - vliesvleugelige (Hymenoptera)  \n",
       "2          insect - vlieg & mug (Diptera)  \n",
       "3                                    wier  \n",
       "4  insect - vliesvleugelige (Hymenoptera)  "
      ]
     },
     "execution_count": 4,
     "metadata": {},
     "output_type": "execute_result"
    }
   ],
   "source": [
    "recorder_names.head()"
   ]
  },
  {
   "cell_type": "code",
   "execution_count": 5,
   "metadata": {
    "collapsed": false
   },
   "outputs": [
    {
     "data": {
      "text/plain": [
       "144135"
      ]
     },
     "execution_count": 5,
     "metadata": {},
     "output_type": "execute_result"
    }
   ],
   "source": [
    "len(recorder_names)"
   ]
  },
  {
   "cell_type": "markdown",
   "metadata": {},
   "source": [
    "## Rename columns"
   ]
  },
  {
   "cell_type": "code",
   "execution_count": 6,
   "metadata": {
    "collapsed": true
   },
   "outputs": [],
   "source": [
    "rename_columns = {\n",
    "    'RECOMMENDED_TAXON_VERSION_KEY': 'nbn_recommendedTaxonVersionKey',\n",
    "    'scientificName': 'nbn_scientificName',\n",
    "    'TAXON_GROUP_NAME': 'nbn_taxonGroup'\n",
    "}"
   ]
  },
  {
   "cell_type": "code",
   "execution_count": 7,
   "metadata": {
    "collapsed": true
   },
   "outputs": [],
   "source": [
    "recorder_names.rename(columns=rename_columns, inplace=True)"
   ]
  },
  {
   "cell_type": "markdown",
   "metadata": {},
   "source": [
    "## Add kingdom information"
   ]
  },
  {
   "cell_type": "markdown",
   "metadata": {},
   "source": [
    "GBIF names matching yields better results if kingdom information can be provided. We therefor map our informal group information in `TAXON_GROUP_NAME` to a kingdom:"
   ]
  },
  {
   "cell_type": "code",
   "execution_count": 8,
   "metadata": {
    "collapsed": false
   },
   "outputs": [],
   "source": [
    "kingdom_mapping = {'insect - kever (Coleoptera)' : 'Animalia',\n",
    "                   'conifeer' : 'Plantae', \n",
    "                   'beenvis (Actinopterygii)' : 'Animalia', \n",
    "                   'vogel' : 'Animalia', \n",
    "                   'insect - nachtvlinder' : 'Animalia', \n",
    "                   'bloemplant' : 'Plantae',\n",
    "                   'spin (Araneae)' : 'Animalia',\n",
    "                   'insect - vlieg & mug (Diptera)' : 'Animalia', \n",
    "                   'diatomee' : 'Plantae',\n",
    "                   'mollusk (Mollusca)' : 'Animalia',\n",
    "                   'insect - dagvlinder' : 'Animalia', \n",
    "                   'insect - kokerjuffer (Trichoptera)' : 'Animalia',\n",
    "                   'ringworm' : 'Animalia',\n",
    "                   'mos' : 'Plantae',\n",
    "                   'insect - wants, cicade, bladluis (Hemiptera)' : 'Animalia', \n",
    "                   'mijt (Acari)' : 'Animalia', \n",
    "                   'varen' : 'Plantae', \n",
    "                   'schaaldier' : 'Animalia', \n",
    "                   'landzoogdier' : 'Animalia', \n",
    "                   'kranswier' : 'Plantae',\n",
    "                   'insect - sprinkhaan & krekel (Orthoptera)' : 'Animalia', \n",
    "                   'korstmos' : 'Plantae',\n",
    "                   'platworm (Turbellaria)' : 'Animalia',\n",
    "                   'insect - libel (Odonata)' : 'Animalia', \n",
    "                   'wier' : 'Plantae', 'paardenstaart' : 'Plantae',\n",
    "                   'niet toegewezen': None, \n",
    "                   'levermos' : 'Plantae', \n",
    "                   'tweestaart (Diplura)' : 'Animalia',\n",
    "                   'rondbek (Agnatha)' : 'Animalia', \n",
    "                   'duizendpoot' : 'Animalia', \n",
    "                   'wolfsklauw' : 'Plantae', \n",
    "                   'amfibie' : 'Animalia', \n",
    "                   'bacterie' : 'Bacteria',\n",
    "                   'insect - nachtvlinder' : 'Animalia',\n",
    "                   'reptiel' : 'Animalia',\n",
    "                   'insect - vliesvleugelige (Hymenoptera)' : 'Animalia',\n",
    "                   'zwam' : 'Fungi',\n",
    "                   'kraakbeenvis  (Chondrichthyes)' : 'Animalia',\n",
    "                   'rondworm (Nematoda)' : 'Animalia',\n",
    "                   'virus' : 'Viruses',\n",
    "                   'insect - steenvlieg (Plecoptera)' : 'Animalia',\n",
    "                   'zeezoogdier' : 'Animalia',\n",
    "                   'ginkgo' : 'Plantae',\n",
    "                   'parasitaire nematode (Nematoda)' : 'Animalia',\n",
    "                   'zuigworm (Trematoda)' : 'Animalia',\n",
    "                   'biesvaren' : 'Plantae',\n",
    "                   'neteldier (=cnidarian)' : 'Animalia',\n",
    "                   'insect - trips (Thysanoptera)'  : 'Animalia',\n",
    "                   'oerdiertje (Protozoa)' : 'Protozoa',\n",
    "                   'hauwmos' : 'Plantae',\n",
    "                   'lintworm (Cestoda)' : 'Animalia',\n",
    "                   'manteldiertje (Urochordata)' : 'Animalia',\n",
    "                   'stekelhuidige' : 'Animalia',\n",
    "                   'ectoparasitaire platworm' : 'Animalia',\n",
    "                   'ribkwal (Ctenophora)' : 'Animalia',\n",
    "                   'mosdiertje (Bryozoa)' : 'Animalia',\n",
    "                   'pseudoschorpioen (Pseudoscorpiones)' : 'Animalia',\n",
    "                   'raderdiertje (Rotifera)' : 'Animalia',\n",
    "                   'springstaart (Collembola)' : 'Animalia',\n",
    "                   'foraminifeer' : 'Protozoa',\n",
    "                   'insect - vlo (Siphonaptera)' : 'Animalia',\n",
    "                   'fungoide' : 'Fungi', \n",
    "                   'buikhaarworm (Gastrotricha)' : 'Animalia',\n",
    "                   'miljoenpoot' : 'Animalia',\n",
    "                   'slurfworm (Kinorhyncha)' : 'Animalia',\n",
    "                   'insect - haft (Ephemeroptera)' : 'Animalia',\n",
    "                   'slijmzwam' : 'Protozoa',\n",
    "                   'spons (Porifera)' : 'Animalia',\n",
    "                   'slurfworm (Echiura)' : 'Animalia',\n",
    "                   'zeespin (Pycnogonida)' : 'Animalia',\n",
    "                   'spuitworm (Sipuncula)' : 'Animalia',\n",
    "                   'insect - gaasvlieg (Neuroptera)' : 'Animalia',\n",
    "                   'insect - houtluis (Psocoptera)' : 'Animalia',\n",
    "                   'insect - waaiervleugelige (Strepsiptera)' : 'Animalia',\n",
    "                   'kelkworm (Entoprocta)' : 'Animalia',\n",
    "                   'beerdiertje (Tardigrada)' : 'Animalia',\n",
    "                   'brachiopood (Brachiopoda)' : 'Animalia',\n",
    "                   'baardworm (Pogonophora)' : 'Animalia',\n",
    "                   'snoerworm (Nemertinea)' : 'Animalia',\n",
    "                   'insect - oorworm (Dermaptera)' : 'Animalia',\n",
    "                   'insect - luis (Phthiraptera)' : 'Animalia',\n",
    "                   'kaakworm (Gnathostomulida)' : 'Animalia',\n",
    "                   'pauropood' : 'Animalia',\n",
    "                   'oerinsect (Protura)' : 'Animalia',\n",
    "                   'loricifeer' : 'Animalia',\n",
    "                   'insect - schorpioenvlieg (Mecoptera)' : 'Animalia',\n",
    "                   'paardenhaarworm (Nematomorpha)' : 'Animalia',\n",
    "                   'insect - kakkerlak (Dictyoptera)' : 'Animalia',\n",
    "                   'priapulid' : 'Animalia',\n",
    "                   'insect - zilvervis (Thysanura)' : 'Animalia',\n",
    "                   'eikelworm (Hemichordata)' : 'Animalia',\n",
    "                   'hooiwagen (Opiliones)' : 'Animalia',\n",
    "                   'middendiertje (Mesozoa)' : 'Animalia',\n",
    "                   'pijlworm (Chaetognatha)' : 'Animalia',\n",
    "                   'insect - rotsspringer (Archaeognatha)' : 'Animalia',\n",
    "                   'dwergpotige (Symphyla)' : 'Animalia',\n",
    "                   'insect - kameelhalsvlieg (Raphidioptera)' : 'Animalia',\n",
    "                   'hoefijzerworm (Phoronida)' : 'Animalia',\n",
    "                   'insect - wandelende tak (Phasmida)' : 'Animalia',\n",
    "                   'lipklever (Cycliophora)' : 'Animalia',\n",
    "                   'insect - elzenvlieg (Megaloptera)' : 'Animalia',\n",
    "                   'schorpioen' : 'Animalia',\n",
    "                   'insect - bidsprinkhaan (Mantodea)' : 'Animalia',\n",
    "                   'ongedetermineerd' : None,\n",
    "                   np.nan : None\n",
    "                    }"
   ]
  },
  {
   "cell_type": "code",
   "execution_count": 9,
   "metadata": {
    "collapsed": false
   },
   "outputs": [],
   "source": [
    "recorder_names['nbn_kingdom'] = recorder_names['nbn_taxonGroup'].replace(kingdom_mapping)"
   ]
  },
  {
   "cell_type": "code",
   "execution_count": 10,
   "metadata": {
    "collapsed": false
   },
   "outputs": [
    {
     "data": {
      "text/plain": [
       "array(['Plantae', 'Animalia', 'Protozoa', 'Fungi', 'Bacteria', None,\n",
       "       'Viruses'], dtype=object)"
      ]
     },
     "execution_count": 10,
     "metadata": {},
     "output_type": "execute_result"
    }
   ],
   "source": [
    "recorder_names['nbn_kingdom'].unique()"
   ]
  },
  {
   "cell_type": "code",
   "execution_count": 11,
   "metadata": {
    "collapsed": false
   },
   "outputs": [
    {
     "data": {
      "text/html": [
       "<div>\n",
       "<table border=\"1\" class=\"dataframe\">\n",
       "  <thead>\n",
       "    <tr style=\"text-align: right;\">\n",
       "      <th></th>\n",
       "      <th>nbn_recommendedTaxonVersionKey</th>\n",
       "      <th>nbn_scientificName</th>\n",
       "      <th>nbn_taxonGroup</th>\n",
       "      <th>nbn_kingdom</th>\n",
       "    </tr>\n",
       "  </thead>\n",
       "  <tbody>\n",
       "    <tr>\n",
       "      <th>0</th>\n",
       "      <td>NHMSYS0000456996</td>\n",
       "      <td>Caylusea</td>\n",
       "      <td>bloemplant</td>\n",
       "      <td>Plantae</td>\n",
       "    </tr>\n",
       "    <tr>\n",
       "      <th>1</th>\n",
       "      <td>NHMSYS0000900079</td>\n",
       "      <td>Listrognathus mactator</td>\n",
       "      <td>insect - vliesvleugelige (Hymenoptera)</td>\n",
       "      <td>Animalia</td>\n",
       "    </tr>\n",
       "    <tr>\n",
       "      <th>2</th>\n",
       "      <td>NBNSYS0100004462</td>\n",
       "      <td>Paratanytarsus dissimilis</td>\n",
       "      <td>insect - vlieg &amp; mug (Diptera)</td>\n",
       "      <td>Animalia</td>\n",
       "    </tr>\n",
       "    <tr>\n",
       "      <th>3</th>\n",
       "      <td>NHMSYS0000603228</td>\n",
       "      <td>Gymnodinium colymbeticum</td>\n",
       "      <td>wier</td>\n",
       "      <td>Plantae</td>\n",
       "    </tr>\n",
       "    <tr>\n",
       "      <th>4</th>\n",
       "      <td>NHMSYS0000875969</td>\n",
       "      <td>Formicinae</td>\n",
       "      <td>insect - vliesvleugelige (Hymenoptera)</td>\n",
       "      <td>Animalia</td>\n",
       "    </tr>\n",
       "  </tbody>\n",
       "</table>\n",
       "</div>"
      ],
      "text/plain": [
       "  nbn_recommendedTaxonVersionKey         nbn_scientificName  \\\n",
       "0               NHMSYS0000456996                   Caylusea   \n",
       "1               NHMSYS0000900079     Listrognathus mactator   \n",
       "2               NBNSYS0100004462  Paratanytarsus dissimilis   \n",
       "3               NHMSYS0000603228   Gymnodinium colymbeticum   \n",
       "4               NHMSYS0000875969                 Formicinae   \n",
       "\n",
       "                           nbn_taxonGroup nbn_kingdom  \n",
       "0                              bloemplant     Plantae  \n",
       "1  insect - vliesvleugelige (Hymenoptera)    Animalia  \n",
       "2          insect - vlieg & mug (Diptera)    Animalia  \n",
       "3                                    wier     Plantae  \n",
       "4  insect - vliesvleugelige (Hymenoptera)    Animalia  "
      ]
     },
     "execution_count": 11,
     "metadata": {},
     "output_type": "execute_result"
    }
   ],
   "source": [
    "recorder_names.head()"
   ]
  },
  {
   "cell_type": "markdown",
   "metadata": {
    "collapsed": true
   },
   "source": [
    "## Asynchronuous requesting"
   ]
  },
  {
   "cell_type": "markdown",
   "metadata": {},
   "source": [
    "As we went to request over 140.000 different names to the GBIF backbone, a asynchronuous requesting should be possible in order to shorten the time to retrieve the results:"
   ]
  },
  {
   "cell_type": "markdown",
   "metadata": {},
   "source": [
    "### Minimal working example"
   ]
  },
  {
   "cell_type": "markdown",
   "metadata": {},
   "source": [
    "The concept of an asyncronious request of the API as example:"
   ]
  },
  {
   "cell_type": "code",
   "execution_count": 12,
   "metadata": {
    "collapsed": false
   },
   "outputs": [],
   "source": [
    "class Collector():\n",
    "    def __init__(self):\n",
    "        self.data = {}\n",
    "\n",
    "    async def fetch(self, session, name, kingdom, idx):\n",
    "        parameters = {'verbose': False, 'strict': True, 'name' : name, 'kingdom': kingdom}\n",
    "        async with client.get('http://api.gbif.org/v1/species/match', params=parameters) as resp:\n",
    "            if resp.status != 200:\n",
    "                print(await resp.reason)\n",
    "            else:\n",
    "                # print(await resp.json())\n",
    "                self.data[idx] = await resp.json()"
   ]
  },
  {
   "cell_type": "code",
   "execution_count": 13,
   "metadata": {
    "collapsed": true
   },
   "outputs": [],
   "source": [
    "testcase = recorder_names.iloc[:100,:]"
   ]
  },
  {
   "cell_type": "code",
   "execution_count": 14,
   "metadata": {
    "collapsed": false
   },
   "outputs": [],
   "source": [
    "names = testcase['nbn_scientificName'].values.tolist()\n",
    "kingdoms = testcase['nbn_kingdom'].values.tolist()\n",
    "inbo_ids = testcase['nbn_recommendedTaxonVersionKey'].values.tolist()"
   ]
  },
  {
   "cell_type": "code",
   "execution_count": 15,
   "metadata": {
    "collapsed": false
   },
   "outputs": [],
   "source": [
    "test = Collector()\n",
    "with aiohttp.ClientSession() as client:\n",
    "    asyncio.get_event_loop().run_until_complete(asyncio.gather(\n",
    "            *[test.fetch(client, name, kingdom, idx) for name, kingdom, idx in zip(names, kingdoms, inbo_ids)], \n",
    "            return_exceptions=True))"
   ]
  },
  {
   "cell_type": "markdown",
   "metadata": {},
   "source": [
    "Single result:"
   ]
  },
  {
   "cell_type": "code",
   "execution_count": 16,
   "metadata": {
    "collapsed": false
   },
   "outputs": [
    {
     "data": {
      "text/plain": [
       "{'canonicalName': 'Bolbitius conocephalus',\n",
       " 'class': 'Agaricomycetes',\n",
       " 'classKey': 186,\n",
       " 'confidence': 100,\n",
       " 'family': 'Bolbitiaceae',\n",
       " 'familyKey': 8440,\n",
       " 'genus': 'Galerella',\n",
       " 'genusKey': 8617918,\n",
       " 'kingdom': 'Fungi',\n",
       " 'kingdomKey': 5,\n",
       " 'matchType': 'EXACT',\n",
       " 'order': 'Agaricales',\n",
       " 'orderKey': 1499,\n",
       " 'phylum': 'Basidiomycota',\n",
       " 'phylumKey': 34,\n",
       " 'rank': 'SPECIES',\n",
       " 'scientificName': 'Bolbitius conocephalus (Bull.) Fr., 1874',\n",
       " 'species': 'Galerella conocephala',\n",
       " 'speciesKey': 5449507,\n",
       " 'status': 'SYNONYM',\n",
       " 'synonym': True,\n",
       " 'usageKey': 2529985}"
      ]
     },
     "execution_count": 16,
     "metadata": {},
     "output_type": "execute_result"
    }
   ],
   "source": [
    "test.data['BMSSYS0000002618']"
   ]
  },
  {
   "cell_type": "markdown",
   "metadata": {},
   "source": [
    "### Chunked version execution"
   ]
  },
  {
   "cell_type": "markdown",
   "metadata": {},
   "source": [
    "**BEWARE: THIS STEP WILL TAKE TIME.** To skip it, change the cell type to raw text."
   ]
  },
  {
   "cell_type": "markdown",
   "metadata": {},
   "source": [
    "Let's try it in chunks of around 1000 requests... in one single batch:"
   ]
  },
  {
   "cell_type": "raw",
   "metadata": {},
   "source": [
    "batch_start = 0\n",
    "batch_size = len(recorder_names)\n",
    "chunk_size = 1000\n",
    "\n",
    "matched_names = {}\n",
    "\n",
    "for i in range(batch_start, batch_start + batch_size, chunk_size): \n",
    "    chunk = recorder_names.iloc[i:i+chunk_size, :]\n",
    "    \n",
    "    names = chunk['nbn_scientificName']\n",
    "    kingdoms = chunk['nbn_kingdom']\n",
    "    inbo_idx = chunk['nbn_recommendedTaxonVersionKey']\n",
    "\n",
    "    matched_chunk = Collector()\n",
    "    with aiohttp.ClientSession() as client:\n",
    "        asyncio.get_event_loop().run_until_complete(asyncio.wait(\n",
    "                [matched_chunk.fetch(client, name, kingdom, idx) for name, kingdom, idx in zip(names, kingdoms, inbo_idx)]))\n",
    "\n",
    "    print(len(matched_chunk.data))\n",
    "    matched_names.update(matched_chunk.data)\n",
    "\n",
    "run_part = pd.DataFrame(matched_names).transpose()\n",
    "run_part.to_csv('../data/interim/'.join(['recorder_', str(batch_start), '_till_', str(batch_size), '.csv']))   "
   ]
  },
  {
   "cell_type": "markdown",
   "metadata": {},
   "source": [
    "Combining the three batches (no longer necessary for a single batch):"
   ]
  },
  {
   "cell_type": "raw",
   "metadata": {
    "collapsed": true
   },
   "source": [
    "results1 = pd.read_csv('../data/interim/recorder_0_till_50000.csv', dtype=object)\n",
    "results2 = pd.read_csv('../data/interim/recorder_50000_till_50000.csv', dtype=object)\n",
    "results3 = pd.read_csv('../data/interim/recorder_100000_till_44136.csv', dtype=object)"
   ]
  },
  {
   "cell_type": "raw",
   "metadata": {
    "collapsed": true
   },
   "source": [
    "result = pd.concat((results1, results2, results3))"
   ]
  },
  {
   "cell_type": "code",
   "execution_count": 17,
   "metadata": {
    "collapsed": false
   },
   "outputs": [],
   "source": [
    "recorder_names_matched = pd.read_csv('../data/interim/recorder_0_till_144135.csv', dtype=object)"
   ]
  },
  {
   "cell_type": "code",
   "execution_count": 18,
   "metadata": {
    "collapsed": false
   },
   "outputs": [
    {
     "data": {
      "text/html": [
       "<div>\n",
       "<table border=\"1\" class=\"dataframe\">\n",
       "  <thead>\n",
       "    <tr style=\"text-align: right;\">\n",
       "      <th></th>\n",
       "      <th>Unnamed: 0</th>\n",
       "      <th>canonicalName</th>\n",
       "      <th>class</th>\n",
       "      <th>classKey</th>\n",
       "      <th>confidence</th>\n",
       "      <th>family</th>\n",
       "      <th>familyKey</th>\n",
       "      <th>genus</th>\n",
       "      <th>genusKey</th>\n",
       "      <th>kingdom</th>\n",
       "      <th>...</th>\n",
       "      <th>orderKey</th>\n",
       "      <th>phylum</th>\n",
       "      <th>phylumKey</th>\n",
       "      <th>rank</th>\n",
       "      <th>scientificName</th>\n",
       "      <th>species</th>\n",
       "      <th>speciesKey</th>\n",
       "      <th>status</th>\n",
       "      <th>synonym</th>\n",
       "      <th>usageKey</th>\n",
       "    </tr>\n",
       "  </thead>\n",
       "  <tbody>\n",
       "    <tr>\n",
       "      <th>0</th>\n",
       "      <td>BFN0017900000007</td>\n",
       "      <td>Hyloniscus riparius</td>\n",
       "      <td>Malacostraca</td>\n",
       "      <td>229</td>\n",
       "      <td>100</td>\n",
       "      <td>Trichoniscidae</td>\n",
       "      <td>5764</td>\n",
       "      <td>Hyloniscus</td>\n",
       "      <td>2208506</td>\n",
       "      <td>Animalia</td>\n",
       "      <td>...</td>\n",
       "      <td>643</td>\n",
       "      <td>Arthropoda</td>\n",
       "      <td>54</td>\n",
       "      <td>SPECIES</td>\n",
       "      <td>Hyloniscus riparius (Koch, 1838)</td>\n",
       "      <td>Hyloniscus riparius</td>\n",
       "      <td>2208537</td>\n",
       "      <td>ACCEPTED</td>\n",
       "      <td>False</td>\n",
       "      <td>2208537</td>\n",
       "    </tr>\n",
       "    <tr>\n",
       "      <th>1</th>\n",
       "      <td>BFN001790000000A</td>\n",
       "      <td>NaN</td>\n",
       "      <td>NaN</td>\n",
       "      <td>NaN</td>\n",
       "      <td>100</td>\n",
       "      <td>NaN</td>\n",
       "      <td>NaN</td>\n",
       "      <td>NaN</td>\n",
       "      <td>NaN</td>\n",
       "      <td>NaN</td>\n",
       "      <td>...</td>\n",
       "      <td>NaN</td>\n",
       "      <td>NaN</td>\n",
       "      <td>NaN</td>\n",
       "      <td>NaN</td>\n",
       "      <td>NaN</td>\n",
       "      <td>NaN</td>\n",
       "      <td>NaN</td>\n",
       "      <td>NaN</td>\n",
       "      <td>False</td>\n",
       "      <td>NaN</td>\n",
       "    </tr>\n",
       "    <tr>\n",
       "      <th>2</th>\n",
       "      <td>BFN001790000000B</td>\n",
       "      <td>NaN</td>\n",
       "      <td>NaN</td>\n",
       "      <td>NaN</td>\n",
       "      <td>100</td>\n",
       "      <td>NaN</td>\n",
       "      <td>NaN</td>\n",
       "      <td>NaN</td>\n",
       "      <td>NaN</td>\n",
       "      <td>NaN</td>\n",
       "      <td>...</td>\n",
       "      <td>NaN</td>\n",
       "      <td>NaN</td>\n",
       "      <td>NaN</td>\n",
       "      <td>NaN</td>\n",
       "      <td>NaN</td>\n",
       "      <td>NaN</td>\n",
       "      <td>NaN</td>\n",
       "      <td>NaN</td>\n",
       "      <td>False</td>\n",
       "      <td>NaN</td>\n",
       "    </tr>\n",
       "    <tr>\n",
       "      <th>3</th>\n",
       "      <td>BFN001790000000L</td>\n",
       "      <td>NaN</td>\n",
       "      <td>NaN</td>\n",
       "      <td>NaN</td>\n",
       "      <td>100</td>\n",
       "      <td>NaN</td>\n",
       "      <td>NaN</td>\n",
       "      <td>NaN</td>\n",
       "      <td>NaN</td>\n",
       "      <td>NaN</td>\n",
       "      <td>...</td>\n",
       "      <td>NaN</td>\n",
       "      <td>NaN</td>\n",
       "      <td>NaN</td>\n",
       "      <td>NaN</td>\n",
       "      <td>NaN</td>\n",
       "      <td>NaN</td>\n",
       "      <td>NaN</td>\n",
       "      <td>NaN</td>\n",
       "      <td>False</td>\n",
       "      <td>NaN</td>\n",
       "    </tr>\n",
       "    <tr>\n",
       "      <th>4</th>\n",
       "      <td>BFN001790000000M</td>\n",
       "      <td>NaN</td>\n",
       "      <td>NaN</td>\n",
       "      <td>NaN</td>\n",
       "      <td>100</td>\n",
       "      <td>NaN</td>\n",
       "      <td>NaN</td>\n",
       "      <td>NaN</td>\n",
       "      <td>NaN</td>\n",
       "      <td>NaN</td>\n",
       "      <td>...</td>\n",
       "      <td>NaN</td>\n",
       "      <td>NaN</td>\n",
       "      <td>NaN</td>\n",
       "      <td>NaN</td>\n",
       "      <td>NaN</td>\n",
       "      <td>NaN</td>\n",
       "      <td>NaN</td>\n",
       "      <td>NaN</td>\n",
       "      <td>False</td>\n",
       "      <td>NaN</td>\n",
       "    </tr>\n",
       "  </tbody>\n",
       "</table>\n",
       "<p>5 rows × 24 columns</p>\n",
       "</div>"
      ],
      "text/plain": [
       "         Unnamed: 0        canonicalName         class classKey confidence  \\\n",
       "0  BFN0017900000007  Hyloniscus riparius  Malacostraca      229        100   \n",
       "1  BFN001790000000A                  NaN           NaN      NaN        100   \n",
       "2  BFN001790000000B                  NaN           NaN      NaN        100   \n",
       "3  BFN001790000000L                  NaN           NaN      NaN        100   \n",
       "4  BFN001790000000M                  NaN           NaN      NaN        100   \n",
       "\n",
       "           family familyKey       genus genusKey   kingdom   ...    orderKey  \\\n",
       "0  Trichoniscidae      5764  Hyloniscus  2208506  Animalia   ...         643   \n",
       "1             NaN       NaN         NaN      NaN       NaN   ...         NaN   \n",
       "2             NaN       NaN         NaN      NaN       NaN   ...         NaN   \n",
       "3             NaN       NaN         NaN      NaN       NaN   ...         NaN   \n",
       "4             NaN       NaN         NaN      NaN       NaN   ...         NaN   \n",
       "\n",
       "       phylum phylumKey     rank                    scientificName  \\\n",
       "0  Arthropoda        54  SPECIES  Hyloniscus riparius (Koch, 1838)   \n",
       "1         NaN       NaN      NaN                               NaN   \n",
       "2         NaN       NaN      NaN                               NaN   \n",
       "3         NaN       NaN      NaN                               NaN   \n",
       "4         NaN       NaN      NaN                               NaN   \n",
       "\n",
       "               species speciesKey    status synonym usageKey  \n",
       "0  Hyloniscus riparius    2208537  ACCEPTED   False  2208537  \n",
       "1                  NaN        NaN       NaN   False      NaN  \n",
       "2                  NaN        NaN       NaN   False      NaN  \n",
       "3                  NaN        NaN       NaN   False      NaN  \n",
       "4                  NaN        NaN       NaN   False      NaN  \n",
       "\n",
       "[5 rows x 24 columns]"
      ]
     },
     "execution_count": 18,
     "metadata": {},
     "output_type": "execute_result"
    }
   ],
   "source": [
    "recorder_names_matched.head()"
   ]
  },
  {
   "cell_type": "code",
   "execution_count": 19,
   "metadata": {
    "collapsed": false
   },
   "outputs": [
    {
     "data": {
      "text/plain": [
       "144134"
      ]
     },
     "execution_count": 19,
     "metadata": {},
     "output_type": "execute_result"
    }
   ],
   "source": [
    "len(recorder_names_matched)"
   ]
  },
  {
   "cell_type": "markdown",
   "metadata": {},
   "source": [
    "### Retrying the missing requests "
   ]
  },
  {
   "cell_type": "markdown",
   "metadata": {},
   "source": [
    "Some request might have failed, returning into fewer records in `result` than in the original file (144.135 rows). Let's compare them."
   ]
  },
  {
   "cell_type": "code",
   "execution_count": 20,
   "metadata": {
    "collapsed": false
   },
   "outputs": [],
   "source": [
    "recorder_names_merge = pd.merge(recorder_names, recorder_names_matched, left_on='nbn_recommendedTaxonVersionKey', right_on='Unnamed: 0', how='left')"
   ]
  },
  {
   "cell_type": "code",
   "execution_count": 21,
   "metadata": {
    "collapsed": false
   },
   "outputs": [],
   "source": [
    "missing_matches = recorder_names_merge[recorder_names_merge['Unnamed: 0'].isnull()][['nbn_recommendedTaxonVersionKey', 'nbn_scientificName', 'nbn_kingdom']]"
   ]
  },
  {
   "cell_type": "code",
   "execution_count": 22,
   "metadata": {
    "collapsed": false
   },
   "outputs": [
    {
     "data": {
      "text/html": [
       "<div>\n",
       "<table border=\"1\" class=\"dataframe\">\n",
       "  <thead>\n",
       "    <tr style=\"text-align: right;\">\n",
       "      <th></th>\n",
       "      <th>nbn_recommendedTaxonVersionKey</th>\n",
       "      <th>nbn_scientificName</th>\n",
       "      <th>nbn_kingdom</th>\n",
       "    </tr>\n",
       "  </thead>\n",
       "  <tbody>\n",
       "    <tr>\n",
       "      <th>133761</th>\n",
       "      <td>NHMSYS0020110590</td>\n",
       "      <td>Taraxacum amarellum</td>\n",
       "      <td>Plantae</td>\n",
       "    </tr>\n",
       "  </tbody>\n",
       "</table>\n",
       "</div>"
      ],
      "text/plain": [
       "       nbn_recommendedTaxonVersionKey   nbn_scientificName nbn_kingdom\n",
       "133761               NHMSYS0020110590  Taraxacum amarellum     Plantae"
      ]
     },
     "execution_count": 22,
     "metadata": {},
     "output_type": "execute_result"
    }
   ],
   "source": [
    "missing_matches.head(10)"
   ]
  },
  {
   "cell_type": "code",
   "execution_count": 23,
   "metadata": {
    "collapsed": false
   },
   "outputs": [],
   "source": [
    "additional_matches = {}\n",
    "for idx, row in missing_matches.iterrows():\n",
    "    additional_matches[row['nbn_recommendedTaxonVersionKey']] = extract_gbif_species_names_info(row['nbn_scientificName'], row['nbn_kingdom'])"
   ]
  },
  {
   "cell_type": "code",
   "execution_count": 24,
   "metadata": {
    "collapsed": true
   },
   "outputs": [],
   "source": [
    "additional_matches_df = pd.DataFrame(additional_matches).transpose()"
   ]
  },
  {
   "cell_type": "code",
   "execution_count": 25,
   "metadata": {
    "collapsed": true
   },
   "outputs": [],
   "source": [
    "additional_matches_df = additional_matches_df.reset_index()\n",
    "additional_matches_df = additional_matches_df.rename(columns={'index' : 'Unnamed: 0'})"
   ]
  },
  {
   "cell_type": "markdown",
   "metadata": {},
   "source": [
    "Add missing records to data frame:"
   ]
  },
  {
   "cell_type": "code",
   "execution_count": 26,
   "metadata": {
    "collapsed": false
   },
   "outputs": [],
   "source": [
    "recorder_names_matched = pd.concat((additional_matches_df, recorder_names_matched))"
   ]
  },
  {
   "cell_type": "markdown",
   "metadata": {},
   "source": [
    "Merge again:"
   ]
  },
  {
   "cell_type": "code",
   "execution_count": 27,
   "metadata": {
    "collapsed": false
   },
   "outputs": [],
   "source": [
    "recorder_names_merge = pd.merge(recorder_names, recorder_names_matched, left_on='nbn_recommendedTaxonVersionKey', right_on='Unnamed: 0', how='left')"
   ]
  },
  {
   "cell_type": "markdown",
   "metadata": {},
   "source": [
    "Number of missing records (should be 0):"
   ]
  },
  {
   "cell_type": "code",
   "execution_count": 28,
   "metadata": {
    "collapsed": false
   },
   "outputs": [
    {
     "data": {
      "text/plain": [
       "0"
      ]
     },
     "execution_count": 28,
     "metadata": {},
     "output_type": "execute_result"
    }
   ],
   "source": [
    "len(recorder_names_merge[recorder_names_merge['Unnamed: 0'].isnull()])"
   ]
  },
  {
   "cell_type": "markdown",
   "metadata": {},
   "source": [
    "## Restructure columns (remove, rename, reorder)"
   ]
  },
  {
   "cell_type": "code",
   "execution_count": 29,
   "metadata": {
    "collapsed": false,
    "scrolled": true
   },
   "outputs": [
    {
     "data": {
      "text/plain": [
       "Index(['nbn_recommendedTaxonVersionKey', 'nbn_scientificName',\n",
       "       'nbn_taxonGroup', 'nbn_kingdom', 'Unnamed: 0', 'canonicalName', 'class',\n",
       "       'classKey', 'confidence', 'family', 'familyKey', 'genus', 'genusKey',\n",
       "       'kingdom', 'kingdomKey', 'matchType', 'note', 'order', 'orderKey',\n",
       "       'phylum', 'phylumKey', 'rank', 'scientificName', 'species',\n",
       "       'speciesKey', 'status', 'synonym', 'usageKey'],\n",
       "      dtype='object')"
      ]
     },
     "execution_count": 29,
     "metadata": {},
     "output_type": "execute_result"
    }
   ],
   "source": [
    "recorder_names_merge.columns"
   ]
  },
  {
   "cell_type": "code",
   "execution_count": 30,
   "metadata": {
    "collapsed": false
   },
   "outputs": [],
   "source": [
    "drop_columns = [\n",
    "    'Unnamed: 0',\n",
    "    'kingdomKey',\n",
    "    'synonym',\n",
    "    'confidence',\n",
    "    'phylum', 'phylumKey',\n",
    "    'class', 'classKey',\n",
    "    'order', 'orderKey',\n",
    "    'family', 'familyKey',\n",
    "    'genus', 'genusKey',\n",
    "    'species', 'speciesKey'\n",
    "]"
   ]
  },
  {
   "cell_type": "code",
   "execution_count": 31,
   "metadata": {
    "collapsed": false
   },
   "outputs": [],
   "source": [
    "recorder_names_merge.drop(drop_columns, axis=1, inplace=True)"
   ]
  },
  {
   "cell_type": "code",
   "execution_count": 32,
   "metadata": {
    "collapsed": true
   },
   "outputs": [],
   "source": [
    "rename_columns = {\n",
    "    'usageKey': 'gbifapi_usageKey',\n",
    "    'scientificName': 'gbifapi_scientificName',\n",
    "    'canonicalName': 'gbifapi_canonicalName',\n",
    "    'status': 'gbifapi_status',\n",
    "    'rank': 'gbifapi_rank',\n",
    "    'matchType': 'gbifapi_matchType',\n",
    "    'note': 'gbifapi_note',\n",
    "    'kingdom': 'gbifapi_kingdom'\n",
    "}"
   ]
  },
  {
   "cell_type": "code",
   "execution_count": 33,
   "metadata": {
    "collapsed": true
   },
   "outputs": [],
   "source": [
    "recorder_names_merge.rename(columns=rename_columns, inplace=True)"
   ]
  },
  {
   "cell_type": "code",
   "execution_count": 34,
   "metadata": {
    "collapsed": true
   },
   "outputs": [],
   "source": [
    "recorder_names_merge['nameMatchValidation'] = np.nan\n",
    "recorder_names_merge['gbifapi_acceptedKey'] = np.nan\n",
    "recorder_names_merge['gbifapi_acceptedScientificName'] = np.nan"
   ]
  },
  {
   "cell_type": "code",
   "execution_count": 37,
   "metadata": {
    "collapsed": true
   },
   "outputs": [],
   "source": [
    "reorder_columns = [\n",
    "    'nbn_recommendedTaxonVersionKey',\n",
    "    'nameMatchValidation',\n",
    "    'nbn_scientificName',\n",
    "    'nbn_taxonGroup',\n",
    "    'nbn_kingdom',\n",
    "    'gbifapi_kingdom',\n",
    "    'gbifapi_usageKey',\n",
    "    'gbifapi_scientificName',\n",
    "    'gbifapi_canonicalName',\n",
    "    'gbifapi_status',\n",
    "    'gbifapi_rank',\n",
    "    'gbifapi_matchType',\n",
    "    'gbifapi_note',\n",
    "    'gbifapi_acceptedKey',\n",
    "    'gbifapi_acceptedScientificName',\n",
    "]"
   ]
  },
  {
   "cell_type": "code",
   "execution_count": 38,
   "metadata": {
    "collapsed": false
   },
   "outputs": [],
   "source": [
    "recorder_names_merge = recorder_names_merge[reorder_columns].copy()"
   ]
  },
  {
   "cell_type": "code",
   "execution_count": 39,
   "metadata": {
    "collapsed": false
   },
   "outputs": [
    {
     "data": {
      "text/html": [
       "<div>\n",
       "<table border=\"1\" class=\"dataframe\">\n",
       "  <thead>\n",
       "    <tr style=\"text-align: right;\">\n",
       "      <th></th>\n",
       "      <th>nbn_recommendedTaxonVersionKey</th>\n",
       "      <th>nameMatchValidation</th>\n",
       "      <th>nbn_scientificName</th>\n",
       "      <th>nbn_taxonGroup</th>\n",
       "      <th>nbn_kingdom</th>\n",
       "      <th>gbifapi_kingdom</th>\n",
       "      <th>gbifapi_usageKey</th>\n",
       "      <th>gbifapi_scientificName</th>\n",
       "      <th>gbifapi_canonicalName</th>\n",
       "      <th>gbifapi_status</th>\n",
       "      <th>gbifapi_rank</th>\n",
       "      <th>gbifapi_matchType</th>\n",
       "      <th>gbifapi_note</th>\n",
       "      <th>gbifapi_acceptedKey</th>\n",
       "      <th>gbifapi_acceptedScientificName</th>\n",
       "    </tr>\n",
       "  </thead>\n",
       "  <tbody>\n",
       "    <tr>\n",
       "      <th>0</th>\n",
       "      <td>NHMSYS0000456996</td>\n",
       "      <td>NaN</td>\n",
       "      <td>Caylusea</td>\n",
       "      <td>bloemplant</td>\n",
       "      <td>Plantae</td>\n",
       "      <td>Plantae</td>\n",
       "      <td>7275943</td>\n",
       "      <td>Caylusea A. St.-Hil.</td>\n",
       "      <td>Caylusea</td>\n",
       "      <td>ACCEPTED</td>\n",
       "      <td>GENUS</td>\n",
       "      <td>EXACT</td>\n",
       "      <td>NaN</td>\n",
       "      <td>NaN</td>\n",
       "      <td>NaN</td>\n",
       "    </tr>\n",
       "    <tr>\n",
       "      <th>1</th>\n",
       "      <td>NHMSYS0000900079</td>\n",
       "      <td>NaN</td>\n",
       "      <td>Listrognathus mactator</td>\n",
       "      <td>insect - vliesvleugelige (Hymenoptera)</td>\n",
       "      <td>Animalia</td>\n",
       "      <td>Animalia</td>\n",
       "      <td>1306714</td>\n",
       "      <td>Listrognathus mactator (Thunberg, 1822)</td>\n",
       "      <td>Listrognathus mactator</td>\n",
       "      <td>ACCEPTED</td>\n",
       "      <td>SPECIES</td>\n",
       "      <td>EXACT</td>\n",
       "      <td>NaN</td>\n",
       "      <td>NaN</td>\n",
       "      <td>NaN</td>\n",
       "    </tr>\n",
       "  </tbody>\n",
       "</table>\n",
       "</div>"
      ],
      "text/plain": [
       "  nbn_recommendedTaxonVersionKey  nameMatchValidation      nbn_scientificName  \\\n",
       "0               NHMSYS0000456996                  NaN                Caylusea   \n",
       "1               NHMSYS0000900079                  NaN  Listrognathus mactator   \n",
       "\n",
       "                           nbn_taxonGroup nbn_kingdom gbifapi_kingdom  \\\n",
       "0                              bloemplant     Plantae         Plantae   \n",
       "1  insect - vliesvleugelige (Hymenoptera)    Animalia        Animalia   \n",
       "\n",
       "  gbifapi_usageKey                   gbifapi_scientificName  \\\n",
       "0          7275943                     Caylusea A. St.-Hil.   \n",
       "1          1306714  Listrognathus mactator (Thunberg, 1822)   \n",
       "\n",
       "    gbifapi_canonicalName gbifapi_status gbifapi_rank gbifapi_matchType  \\\n",
       "0                Caylusea       ACCEPTED        GENUS             EXACT   \n",
       "1  Listrognathus mactator       ACCEPTED      SPECIES             EXACT   \n",
       "\n",
       "  gbifapi_note  gbifapi_acceptedKey  gbifapi_acceptedScientificName  \n",
       "0          NaN                  NaN                             NaN  \n",
       "1          NaN                  NaN                             NaN  "
      ]
     },
     "execution_count": 39,
     "metadata": {},
     "output_type": "execute_result"
    }
   ],
   "source": [
    "recorder_names_merge.head(2)"
   ]
  },
  {
   "cell_type": "markdown",
   "metadata": {
    "collapsed": true
   },
   "source": [
    "## Getting the acceptedKey for synonyms"
   ]
  },
  {
   "cell_type": "markdown",
   "metadata": {},
   "source": [
    "By default, set `acceptedKey` and `acceptedScientificName` identical to `usageKey` and `scientificName`. These values will be overwritten for synonyms."
   ]
  },
  {
   "cell_type": "code",
   "execution_count": 40,
   "metadata": {
    "collapsed": false
   },
   "outputs": [],
   "source": [
    "recorder_names_merge['gbifapi_acceptedKey'] = recorder_names_merge['gbifapi_usageKey']\n",
    "recorder_names_merge['gbifapi_acceptedScientificName'] = recorder_names_merge['gbifapi_scientificName']"
   ]
  },
  {
   "cell_type": "markdown",
   "metadata": {},
   "source": [
    "Unprocessed synonyms:"
   ]
  },
  {
   "cell_type": "code",
   "execution_count": 42,
   "metadata": {
    "collapsed": false
   },
   "outputs": [
    {
     "data": {
      "text/plain": [
       "12963"
      ]
     },
     "execution_count": 42,
     "metadata": {},
     "output_type": "execute_result"
    }
   ],
   "source": [
    "len(recorder_names_merge[(recorder_names_merge['gbifapi_status'] == 'SYNONYM') & (recorder_names_merge['gbifapi_acceptedKey'] == recorder_names_merge['gbifapi_usageKey'])])"
   ]
  },
  {
   "cell_type": "markdown",
   "metadata": {},
   "source": [
    "Process synonyms:"
   ]
  },
  {
   "cell_type": "markdown",
   "metadata": {},
   "source": [
    "**BEWARE: THIS STEP WILL TAKE TIME.** To skip it, change the cell type to raw text."
   ]
  },
  {
   "cell_type": "code",
   "execution_count": 80,
   "metadata": {
    "collapsed": false,
    "scrolled": true
   },
   "outputs": [],
   "source": [
    "for idx, row in recorder_names_merge.iterrows():\n",
    "    if row['gbifapi_status'] == 'SYNONYM' and row['gbifapi_acceptedKey'] == row['gbifapi_usageKey']:\n",
    "        acceptedInfo = extract_gbif_accepted_key(str(int(row['gbifapi_usageKey'])))\n",
    "        recorder_names_merge.loc[idx, 'gbifapi_acceptedKey'] = acceptedInfo[0]\n",
    "        recorder_names_merge.loc[idx, 'gbifapi_acceptedScientificName'] = acceptedInfo[1]"
   ]
  },
  {
   "cell_type": "markdown",
   "metadata": {},
   "source": [
    "Unprocessed synonyms (should be 0):"
   ]
  },
  {
   "cell_type": "code",
   "execution_count": 81,
   "metadata": {
    "collapsed": false
   },
   "outputs": [
    {
     "data": {
      "text/plain": [
       "0"
      ]
     },
     "execution_count": 81,
     "metadata": {},
     "output_type": "execute_result"
    }
   ],
   "source": [
    "len(recorder_names_merge[(recorder_names_merge['gbifapi_status'] == 'SYNONYM') & (recorder_names_merge['gbifapi_acceptedKey'] == recorder_names_merge['gbifapi_usageKey'])])"
   ]
  },
  {
   "cell_type": "markdown",
   "metadata": {},
   "source": [
    "## Save result"
   ]
  },
  {
   "cell_type": "code",
   "execution_count": 87,
   "metadata": {
    "collapsed": true
   },
   "outputs": [],
   "source": [
    "recorder_names_merge.to_csv('../data/interim/recommended_nameserver_names_with_gbif_match.tsv', sep='\\t', dtype=object, index=False)"
   ]
  }
 ],
 "metadata": {
  "kernelspec": {
   "display_name": "Python 3",
   "language": "python",
   "name": "python3"
  },
  "language_info": {
   "codemirror_mode": {
    "name": "ipython",
    "version": 3
   },
   "file_extension": ".py",
   "mimetype": "text/x-python",
   "name": "python",
   "nbconvert_exporter": "python",
   "pygments_lexer": "ipython3",
   "version": "3.5.1"
  },
  "widgets": {
   "state": {},
   "version": "1.1.2"
  }
 },
 "nbformat": 4,
 "nbformat_minor": 0
}
