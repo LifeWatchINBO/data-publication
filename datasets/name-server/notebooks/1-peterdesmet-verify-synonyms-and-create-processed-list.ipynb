{
 "cells": [
  {
   "cell_type": "markdown",
   "metadata": {},
   "source": [
    "# Verify synonyms and create a processed list of nameserver names"
   ]
  },
  {
   "cell_type": "code",
   "execution_count": 1,
   "metadata": {
    "collapsed": true
   },
   "outputs": [],
   "source": [
    "import pandas as pd\n",
    "%matplotlib inline\n",
    "import matplotlib.pyplot as plt\n",
    "plt.style.use('seaborn-notebook')"
   ]
  },
  {
   "cell_type": "code",
   "execution_count": 2,
   "metadata": {
    "collapsed": true
   },
   "outputs": [],
   "source": [
    "import sys\n",
    "sys.path.append('../../../../inbo-pyutils/gbif/verify_synonyms/')\n",
    "from verify_synonyms import verify_synonym"
   ]
  },
  {
   "cell_type": "code",
   "execution_count": 3,
   "metadata": {
    "collapsed": false
   },
   "outputs": [],
   "source": [
    "recorder_names = pd.read_table('../data/interim/recommended-nameserver-names-with-gbif-match.tsv', dtype=object)"
   ]
  },
  {
   "cell_type": "markdown",
   "metadata": {},
   "source": [
    "## Verify synonyms"
   ]
  },
  {
   "cell_type": "markdown",
   "metadata": {},
   "source": [
    "Set `nameMatchValidation` for `ACCEPTED`, `DOUBTFUL` and no matches."
   ]
  },
  {
   "cell_type": "code",
   "execution_count": 4,
   "metadata": {
    "collapsed": true
   },
   "outputs": [],
   "source": [
    "recorder_names.loc[recorder_names['gbifapi_status'] == 'ACCEPTED', 'nameMatchValidation'] = 'ok'\n",
    "recorder_names.loc[recorder_names['gbifapi_status'] == 'DOUBTFUL', 'nameMatchValidation'] = 'ok: DOUBTFUL'\n",
    "recorder_names.loc[recorder_names['gbifapi_status'] == 'SYNONYM', 'nameMatchValidation'] = '' # Should also be done by synonym verification\n",
    "recorder_names.loc[recorder_names['gbifapi_matchType'] == 'NONE', 'nameMatchValidation'] = 'no match'"
   ]
  },
  {
   "cell_type": "markdown",
   "metadata": {},
   "source": [
    "Run the synonym verification:"
   ]
  },
  {
   "cell_type": "code",
   "execution_count": 5,
   "metadata": {
    "collapsed": false
   },
   "outputs": [
    {
     "data": {
      "text/html": [
       "<div>\n",
       "<table border=\"1\" class=\"dataframe\">\n",
       "  <thead>\n",
       "    <tr style=\"text-align: right;\">\n",
       "      <th></th>\n",
       "      <th>nbn_recommendedTaxonVersionKey</th>\n",
       "      <th>nameMatchValidation</th>\n",
       "      <th>nbn_scientificName</th>\n",
       "      <th>nbn_taxonGroup</th>\n",
       "      <th>nbn_kingdom</th>\n",
       "      <th>gbifapi_kingdom</th>\n",
       "      <th>gbifapi_usageKey</th>\n",
       "      <th>gbifapi_scientificName</th>\n",
       "      <th>gbifapi_canonicalName</th>\n",
       "      <th>gbifapi_status</th>\n",
       "      <th>gbifapi_rank</th>\n",
       "      <th>gbifapi_matchType</th>\n",
       "      <th>gbifapi_note</th>\n",
       "      <th>gbifapi_acceptedKey</th>\n",
       "      <th>gbifapi_acceptedScientificName</th>\n",
       "    </tr>\n",
       "  </thead>\n",
       "  <tbody>\n",
       "    <tr>\n",
       "      <th>0</th>\n",
       "      <td>NHMSYS0000456996</td>\n",
       "      <td>ok</td>\n",
       "      <td>Caylusea</td>\n",
       "      <td>bloemplant</td>\n",
       "      <td>Plantae</td>\n",
       "      <td>Plantae</td>\n",
       "      <td>7275943</td>\n",
       "      <td>Caylusea A. St.-Hil.</td>\n",
       "      <td>Caylusea</td>\n",
       "      <td>ACCEPTED</td>\n",
       "      <td>GENUS</td>\n",
       "      <td>EXACT</td>\n",
       "      <td>NaN</td>\n",
       "      <td>7275943</td>\n",
       "      <td>Caylusea A. St.-Hil.</td>\n",
       "    </tr>\n",
       "    <tr>\n",
       "      <th>1</th>\n",
       "      <td>NHMSYS0000900079</td>\n",
       "      <td>ok</td>\n",
       "      <td>Listrognathus mactator</td>\n",
       "      <td>insect - vliesvleugelige (Hymenoptera)</td>\n",
       "      <td>Animalia</td>\n",
       "      <td>Animalia</td>\n",
       "      <td>1306714</td>\n",
       "      <td>Listrognathus mactator (Thunberg, 1822)</td>\n",
       "      <td>Listrognathus mactator</td>\n",
       "      <td>ACCEPTED</td>\n",
       "      <td>SPECIES</td>\n",
       "      <td>EXACT</td>\n",
       "      <td>NaN</td>\n",
       "      <td>1306714</td>\n",
       "      <td>Listrognathus mactator (Thunberg, 1822)</td>\n",
       "    </tr>\n",
       "    <tr>\n",
       "      <th>2</th>\n",
       "      <td>NBNSYS0100004462</td>\n",
       "      <td></td>\n",
       "      <td>Paratanytarsus dissimilis</td>\n",
       "      <td>insect - vlieg &amp; mug (Diptera)</td>\n",
       "      <td>Animalia</td>\n",
       "      <td>Animalia</td>\n",
       "      <td>4297556</td>\n",
       "      <td>Paratanytarsus dissimilis (Johannsen, 1905)</td>\n",
       "      <td>Paratanytarsus dissimilis</td>\n",
       "      <td>SYNONYM</td>\n",
       "      <td>SPECIES</td>\n",
       "      <td>EXACT</td>\n",
       "      <td>NaN</td>\n",
       "      <td>1451993</td>\n",
       "      <td>Tanytarsus dissimilis Johannsen, 1905</td>\n",
       "    </tr>\n",
       "    <tr>\n",
       "      <th>3</th>\n",
       "      <td>NHMSYS0000603228</td>\n",
       "      <td>no match</td>\n",
       "      <td>Gymnodinium colymbeticum</td>\n",
       "      <td>wier</td>\n",
       "      <td>Plantae</td>\n",
       "      <td>NaN</td>\n",
       "      <td>NaN</td>\n",
       "      <td>NaN</td>\n",
       "      <td>NaN</td>\n",
       "      <td>NaN</td>\n",
       "      <td>NaN</td>\n",
       "      <td>NONE</td>\n",
       "      <td>No match because of too little confidence</td>\n",
       "      <td>NaN</td>\n",
       "      <td>NaN</td>\n",
       "    </tr>\n",
       "    <tr>\n",
       "      <th>4</th>\n",
       "      <td>NHMSYS0000875969</td>\n",
       "      <td>no match</td>\n",
       "      <td>Formicinae</td>\n",
       "      <td>insect - vliesvleugelige (Hymenoptera)</td>\n",
       "      <td>Animalia</td>\n",
       "      <td>NaN</td>\n",
       "      <td>NaN</td>\n",
       "      <td>NaN</td>\n",
       "      <td>NaN</td>\n",
       "      <td>NaN</td>\n",
       "      <td>NaN</td>\n",
       "      <td>NONE</td>\n",
       "      <td>NaN</td>\n",
       "      <td>NaN</td>\n",
       "      <td>NaN</td>\n",
       "    </tr>\n",
       "  </tbody>\n",
       "</table>\n",
       "</div>"
      ],
      "text/plain": [
       "  nbn_recommendedTaxonVersionKey nameMatchValidation  \\\n",
       "0               NHMSYS0000456996                  ok   \n",
       "1               NHMSYS0000900079                  ok   \n",
       "2               NBNSYS0100004462                       \n",
       "3               NHMSYS0000603228            no match   \n",
       "4               NHMSYS0000875969            no match   \n",
       "\n",
       "          nbn_scientificName                          nbn_taxonGroup  \\\n",
       "0                   Caylusea                              bloemplant   \n",
       "1     Listrognathus mactator  insect - vliesvleugelige (Hymenoptera)   \n",
       "2  Paratanytarsus dissimilis          insect - vlieg & mug (Diptera)   \n",
       "3   Gymnodinium colymbeticum                                    wier   \n",
       "4                 Formicinae  insect - vliesvleugelige (Hymenoptera)   \n",
       "\n",
       "  nbn_kingdom gbifapi_kingdom gbifapi_usageKey  \\\n",
       "0     Plantae         Plantae          7275943   \n",
       "1    Animalia        Animalia          1306714   \n",
       "2    Animalia        Animalia          4297556   \n",
       "3     Plantae             NaN              NaN   \n",
       "4    Animalia             NaN              NaN   \n",
       "\n",
       "                        gbifapi_scientificName      gbifapi_canonicalName  \\\n",
       "0                         Caylusea A. St.-Hil.                   Caylusea   \n",
       "1      Listrognathus mactator (Thunberg, 1822)     Listrognathus mactator   \n",
       "2  Paratanytarsus dissimilis (Johannsen, 1905)  Paratanytarsus dissimilis   \n",
       "3                                          NaN                        NaN   \n",
       "4                                          NaN                        NaN   \n",
       "\n",
       "  gbifapi_status gbifapi_rank gbifapi_matchType  \\\n",
       "0       ACCEPTED        GENUS             EXACT   \n",
       "1       ACCEPTED      SPECIES             EXACT   \n",
       "2        SYNONYM      SPECIES             EXACT   \n",
       "3            NaN          NaN              NONE   \n",
       "4            NaN          NaN              NONE   \n",
       "\n",
       "                                gbifapi_note gbifapi_acceptedKey  \\\n",
       "0                                        NaN             7275943   \n",
       "1                                        NaN             1306714   \n",
       "2                                        NaN             1451993   \n",
       "3  No match because of too little confidence                 NaN   \n",
       "4                                        NaN                 NaN   \n",
       "\n",
       "            gbifapi_acceptedScientificName  \n",
       "0                     Caylusea A. St.-Hil.  \n",
       "1  Listrognathus mactator (Thunberg, 1822)  \n",
       "2    Tanytarsus dissimilis Johannsen, 1905  \n",
       "3                                      NaN  \n",
       "4                                      NaN  "
      ]
     },
     "execution_count": 5,
     "metadata": {},
     "output_type": "execute_result"
    }
   ],
   "source": [
    "recorder_names.head()"
   ]
  },
  {
   "cell_type": "code",
   "execution_count": 6,
   "metadata": {
    "collapsed": false
   },
   "outputs": [],
   "source": [
    "recorder_names = verify_synonym(\n",
    "    recorder_names,\n",
    "    None,\n",
    "    'https://raw.githubusercontent.com/inbo/alien-species-checklist/master/data/vocabularies/verified-synonyms.tsv', \n",
    "    usagekeycol='gbifapi_usageKey', \n",
    "    acceptedkeycol='gbifapi_acceptedKey', \n",
    "    taxonomicstatuscol='gbifapi_status', \n",
    "    outputcol='nameMatchValidation'\n",
    ")"
   ]
  },
  {
   "cell_type": "markdown",
   "metadata": {},
   "source": [
    "Number of verified synonyms:"
   ]
  },
  {
   "cell_type": "code",
   "execution_count": 7,
   "metadata": {
    "collapsed": false
   },
   "outputs": [
    {
     "data": {
      "text/plain": [
       "157"
      ]
     },
     "execution_count": 7,
     "metadata": {},
     "output_type": "execute_result"
    }
   ],
   "source": [
    "len(recorder_names[(recorder_names['gbifapi_status'] == 'SYNONYM') & (recorder_names['nameMatchValidation'].fillna('').str.contains('^ok', regex=True))])"
   ]
  },
  {
   "cell_type": "markdown",
   "metadata": {},
   "source": [
    "Save result back to the same file"
   ]
  },
  {
   "cell_type": "code",
   "execution_count": 8,
   "metadata": {
    "collapsed": false
   },
   "outputs": [],
   "source": [
    "recorder_names.to_csv('../data/interim/recommended-nameserver-names-with-gbif-match.tsv', sep='\\t', dtype=object, index=False)"
   ]
  },
  {
   "cell_type": "markdown",
   "metadata": {},
   "source": [
    "## Filter on `ok` to create processed list"
   ]
  },
  {
   "cell_type": "code",
   "execution_count": 9,
   "metadata": {
    "collapsed": false
   },
   "outputs": [],
   "source": [
    "verified_names = recorder_names[recorder_names['nameMatchValidation'].fillna('').str.contains('^ok', regex=True)]"
   ]
  },
  {
   "cell_type": "code",
   "execution_count": 10,
   "metadata": {
    "collapsed": false
   },
   "outputs": [
    {
     "data": {
      "text/plain": [
       "98876"
      ]
     },
     "execution_count": 10,
     "metadata": {},
     "output_type": "execute_result"
    }
   ],
   "source": [
    "len(verified_names)"
   ]
  },
  {
   "cell_type": "code",
   "execution_count": 11,
   "metadata": {
    "collapsed": false
   },
   "outputs": [],
   "source": [
    "verified_names.to_csv('../data/processed/verified-recommended-nameserver-names.tsv', sep='\\t', dtype=object, index=False)"
   ]
  },
  {
   "cell_type": "markdown",
   "metadata": {},
   "source": [
    "## Analyze some of the GBIF matching"
   ]
  },
  {
   "cell_type": "markdown",
   "metadata": {},
   "source": [
    "### Matching type"
   ]
  },
  {
   "cell_type": "code",
   "execution_count": 12,
   "metadata": {
    "collapsed": false
   },
   "outputs": [
    {
     "data": {
      "text/plain": [
       "<matplotlib.axes._subplots.AxesSubplot at 0x119f88908>"
      ]
     },
     "execution_count": 12,
     "metadata": {},
     "output_type": "execute_result"
    },
    {
     "data": {
      "image/png": "[encoded data removed]",
      "text/plain": [
       "<matplotlib.figure.Figure at 0x11a014ac8>"
      ]
     },
     "metadata": {},
     "output_type": "display_data"
    }
   ],
   "source": [
    "recorder_names.groupby(('gbifapi_matchType')).count()['nbn_recommendedTaxonVersionKey'].plot(kind='barh')"
   ]
  },
  {
   "cell_type": "markdown",
   "metadata": {},
   "source": [
    "### Status"
   ]
  },
  {
   "cell_type": "code",
   "execution_count": 13,
   "metadata": {
    "collapsed": false
   },
   "outputs": [
    {
     "data": {
      "text/plain": [
       "<matplotlib.axes._subplots.AxesSubplot at 0x113afc5c0>"
      ]
     },
     "execution_count": 13,
     "metadata": {},
     "output_type": "execute_result"
    },
    {
     "data": {
      "image/png": "[encoded data removed]",
      "text/plain": [
       "<matplotlib.figure.Figure at 0x1132393c8>"
      ]
     },
     "metadata": {},
     "output_type": "display_data"
    }
   ],
   "source": [
    "recorder_names.groupby(('gbifapi_status')).count()['nbn_recommendedTaxonVersionKey'].plot(kind='barh')"
   ]
  },
  {
   "cell_type": "markdown",
   "metadata": {},
   "source": [
    "### nameMatchValidation"
   ]
  },
  {
   "cell_type": "code",
   "execution_count": 14,
   "metadata": {
    "collapsed": false
   },
   "outputs": [
    {
     "data": {
      "text/plain": [
       "<matplotlib.axes._subplots.AxesSubplot at 0x113255f60>"
      ]
     },
     "execution_count": 14,
     "metadata": {},
     "output_type": "execute_result"
    },
    {
     "data": {
      "image/png": "[encoded data removed]",
      "text/plain": [
       "<matplotlib.figure.Figure at 0x1136680b8>"
      ]
     },
     "metadata": {},
     "output_type": "display_data"
    }
   ],
   "source": [
    "recorder_names.groupby(('nameMatchValidation')).count()['nbn_recommendedTaxonVersionKey'].plot(kind='barh', logx=True)"
   ]
  },
  {
   "cell_type": "code",
   "execution_count": null,
   "metadata": {
    "collapsed": true
   },
   "outputs": [],
   "source": []
  }
 ],
 "metadata": {
  "kernelspec": {
   "display_name": "Python 3",
   "language": "python",
   "name": "python3"
  },
  "language_info": {
   "codemirror_mode": {
    "name": "ipython",
    "version": 3
   },
   "file_extension": ".py",
   "mimetype": "text/x-python",
   "name": "python",
   "nbconvert_exporter": "python",
   "pygments_lexer": "ipython3",
   "version": "3.5.1"
  }
 },
 "nbformat": 4,
 "nbformat_minor": 0
}
