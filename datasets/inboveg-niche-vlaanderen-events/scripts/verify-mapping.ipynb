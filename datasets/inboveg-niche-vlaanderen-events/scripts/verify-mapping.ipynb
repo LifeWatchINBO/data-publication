{
 "cells": [
  {
   "cell_type": "code",
   "execution_count": 1,
   "metadata": {
    "collapsed": true
   },
   "outputs": [],
   "source": [
    "import pandas as pd\n",
    "import numpy as np\n",
    "from dwca.read import DwCAReader"
   ]
  },
  {
   "cell_type": "code",
   "execution_count": 2,
   "metadata": {
    "collapsed": true
   },
   "outputs": [],
   "source": [
    "dwca_path = '../data/dwca-inboveg-niche-vlaanderen-events-v1.7.zip'"
   ]
  },
  {
   "cell_type": "code",
   "execution_count": 3,
   "metadata": {
    "collapsed": false
   },
   "outputs": [],
   "source": [
    "with DwCAReader(dwca_path) as dwca:\n",
    "    events = pd.read_csv(\n",
    "        dwca.absolute_temporary_path('event.txt'),\n",
    "        delimiter='\\t',\n",
    "        dtype=object\n",
    "    )"
   ]
  },
  {
   "cell_type": "code",
   "execution_count": 4,
   "metadata": {
    "collapsed": false
   },
   "outputs": [],
   "source": [
    "def print_unique_values(df):\n",
    "    for column in df.columns:\n",
    "        unique_values = df[column].astype(str).unique().tolist()\n",
    "        if len(unique_values) <= 20:\n",
    "            unique_values_for_print = ', '.join(unique_values)\n",
    "        else:\n",
    "            unique_values_for_print = 'more than 20 values, check seperately'\n",
    "        print(column + ':\\n' + unique_values_for_print +'\\n')"
   ]
  },
  {
   "cell_type": "markdown",
   "metadata": {},
   "source": [
    "## Events"
   ]
  },
  {
   "cell_type": "code",
   "execution_count": 5,
   "metadata": {
    "collapsed": false
   },
   "outputs": [
    {
     "data": {
      "text/plain": [
       "569"
      ]
     },
     "execution_count": 5,
     "metadata": {},
     "output_type": "execute_result"
    }
   ],
   "source": [
    "# Number of records\n",
    "len(events)"
   ]
  },
  {
   "cell_type": "code",
   "execution_count": 6,
   "metadata": {
    "collapsed": false
   },
   "outputs": [
    {
     "name": "stdout",
     "output_type": "stream",
     "text": [
      "id\n",
      "type\n",
      "language\n",
      "license\n",
      "rightsHolder\n",
      "accessRights\n",
      "datasetID\n",
      "datasetName\n",
      "ownerInstitutionCode\n",
      "eventID\n",
      "samplingProtocol\n",
      "sampleSizeValue\n",
      "sampleSizeUnit\n",
      "eventDate\n",
      "verbatimEventDate\n",
      "locationID\n",
      "continent\n",
      "countryCode\n",
      "stateProvince\n",
      "county\n",
      "municipality\n",
      "verbatimLocality\n",
      "locationAccordingTo\n",
      "verbatimLatitude\n",
      "verbatimLongitude\n",
      "verbatimCoordinateSystem\n",
      "verbatimSRS\n",
      "decimalLatitude\n",
      "decimalLongitude\n",
      "geodeticDatum\n",
      "coordinateUncertaintyInMeters\n"
     ]
    }
   ],
   "source": [
    "# Columns\n",
    "print('\\n'.join(events.columns))"
   ]
  },
  {
   "cell_type": "code",
   "execution_count": 7,
   "metadata": {
    "collapsed": false
   },
   "outputs": [
    {
     "name": "stdout",
     "output_type": "stream",
     "text": [
      "id:\n",
      "more than 20 values, check seperately\n",
      "\n",
      "type:\n",
      "event\n",
      "\n",
      "language:\n",
      "en\n",
      "\n",
      "license:\n",
      "http://creativecommons.org/publicdomain/zero/1.0/\n",
      "\n",
      "rightsHolder:\n",
      "INBO\n",
      "\n",
      "accessRights:\n",
      "http://www.inbo.be/en/norms-for-data-use\n",
      "\n",
      "datasetID:\n",
      "http://dataset.inbo.be/Niche-Vlaanderen\n",
      "\n",
      "datasetName:\n",
      "InboVeg-niche-Vlaanderen\n",
      "\n",
      "ownerInstitutionCode:\n",
      "INBO\n",
      "\n",
      "eventID:\n",
      "more than 20 values, check seperately\n",
      "\n",
      "samplingProtocol:\n",
      "vegetationPlot- LONDO\n",
      "\n",
      "sampleSizeValue:\n",
      "9, 100, 4, 25\n",
      "\n",
      "sampleSizeUnit:\n",
      "m²\n",
      "\n",
      "eventDate:\n",
      "more than 20 values, check seperately\n",
      "\n",
      "verbatimEventDate:\n",
      "more than 20 values, check seperately\n",
      "\n",
      "locationID:\n",
      "more than 20 values, check seperately\n",
      "\n",
      "continent:\n",
      "Europe\n",
      "\n",
      "countryCode:\n",
      "BE\n",
      "\n",
      "stateProvince:\n",
      "Vlaams Gewest, nan, XY Onbekend\n",
      "\n",
      "county:\n",
      "Antwerpen, West-Vlaanderen, Limburg, Vlaams-Brabant, Oost-Vlaanderen, nan, XY Onbekend\n",
      "\n",
      "municipality:\n",
      "more than 20 values, check seperately\n",
      "\n",
      "verbatimLocality:\n",
      "more than 20 values, check seperately\n",
      "\n",
      "locationAccordingTo:\n",
      "MILKLIM-Gebieden\n",
      "\n",
      "verbatimLatitude:\n",
      "more than 20 values, check seperately\n",
      "\n",
      "verbatimLongitude:\n",
      "more than 20 values, check seperately\n",
      "\n",
      "verbatimCoordinateSystem:\n",
      "Belgian Lambert 72\n",
      "\n",
      "verbatimSRS:\n",
      "Belgium Datum 1972\n",
      "\n",
      "decimalLatitude:\n",
      "more than 20 values, check seperately\n",
      "\n",
      "decimalLongitude:\n",
      "more than 20 values, check seperately\n",
      "\n",
      "geodeticDatum:\n",
      "WGS84\n",
      "\n",
      "coordinateUncertaintyInMeters:\n",
      "30\n",
      "\n"
     ]
    }
   ],
   "source": [
    "# Unique values per column\n",
    "print_unique_values(events)"
   ]
  },
  {
   "cell_type": "markdown",
   "metadata": {},
   "source": [
    "## Experiment"
   ]
  },
  {
   "cell_type": "code",
   "execution_count": 8,
   "metadata": {
    "collapsed": false
   },
   "outputs": [],
   "source": [
    "values = events['stateProvince'].astype(str).value_counts(sort=True, dropna=False)"
   ]
  },
  {
   "cell_type": "code",
   "execution_count": 9,
   "metadata": {
    "collapsed": false
   },
   "outputs": [
    {
     "data": {
      "text/plain": [
       "Index(['Vlaams Gewest', 'nan', 'XY Onbekend'], dtype='object')"
      ]
     },
     "execution_count": 9,
     "metadata": {},
     "output_type": "execute_result"
    }
   ],
   "source": [
    "values.index"
   ]
  },
  {
   "cell_type": "code",
   "execution_count": 11,
   "metadata": {
    "collapsed": false
   },
   "outputs": [
    {
     "data": {
      "text/plain": [
       "2.8536800000000002"
      ]
     },
     "execution_count": 11,
     "metadata": {},
     "output_type": "execute_result"
    }
   ],
   "source": [
    "events['decimalLongitude'].astype(float).min()"
   ]
  }
 ],
 "metadata": {
  "kernelspec": {
   "display_name": "Python 3",
   "language": "python",
   "name": "python3"
  },
  "language_info": {
   "codemirror_mode": {
    "name": "ipython",
    "version": 3
   },
   "file_extension": ".py",
   "mimetype": "text/x-python",
   "name": "python",
   "nbconvert_exporter": "python",
   "pygments_lexer": "ipython3",
   "version": "3.5.1"
  }
 },
 "nbformat": 4,
 "nbformat_minor": 0
}
