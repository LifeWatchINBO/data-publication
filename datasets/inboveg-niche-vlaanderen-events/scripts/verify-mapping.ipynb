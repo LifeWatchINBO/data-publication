{
 "cells": [
  {
   "cell_type": "code",
   "execution_count": 1,
   "metadata": {
    "collapsed": true
   },
   "outputs": [],
   "source": [
    "import pandas as pd\n",
    "import numpy as np\n",
    "from dwca.read import DwCAReader"
   ]
  },
  {
   "cell_type": "code",
   "execution_count": 2,
   "metadata": {
    "collapsed": true
   },
   "outputs": [],
   "source": [
    "dwca_path = '../data/dwca-inboveg-niche-vlaanderen-events-v0.7.zip'"
   ]
  },
  {
   "cell_type": "code",
   "execution_count": 14,
   "metadata": {
    "collapsed": false
   },
   "outputs": [],
   "source": [
    "with DwCAReader(dwca_path) as dwca:\n",
    "    events = pd.read_csv(\n",
    "        dwca.absolute_temporary_path('event.txt'),\n",
    "        delimiter='\\t',\n",
    "        dtype=object\n",
    "    )\n",
    "    occurrences = pd.read_csv(\n",
    "        dwca.absolute_temporary_path('occurrence.txt'),\n",
    "        delimiter='\\t',\n",
    "        dtype=object\n",
    "    )\n",
    "    releve = pd.read_csv(\n",
    "        dwca.absolute_temporary_path('releve.txt'),\n",
    "        delimiter='\\t',\n",
    "        dtype=object\n",
    "    )\n",
    "    measurements = pd.read_csv(\n",
    "        dwca.absolute_temporary_path('measurementorfact.txt'),\n",
    "        delimiter='\\t',\n",
    "        dtype=object\n",
    "    )"
   ]
  },
  {
   "cell_type": "code",
   "execution_count": 4,
   "metadata": {
    "collapsed": false
   },
   "outputs": [],
   "source": [
    "def print_unique_values(df):\n",
    "    for column in df.columns:\n",
    "        unique_values = df[column].astype(str).unique().tolist()\n",
    "        if len(unique_values) <= 20:\n",
    "            unique_values_for_print = ', '.join(unique_values)\n",
    "        else:\n",
    "            unique_values_for_print = 'more than 20 values, check seperately'\n",
    "        print(column + ':\\n' + unique_values_for_print +'\\n')"
   ]
  },
  {
   "cell_type": "markdown",
   "metadata": {},
   "source": [
    "## Events"
   ]
  },
  {
   "cell_type": "code",
   "execution_count": 5,
   "metadata": {
    "collapsed": false
   },
   "outputs": [
    {
     "data": {
      "text/plain": [
       "569"
      ]
     },
     "execution_count": 5,
     "metadata": {},
     "output_type": "execute_result"
    }
   ],
   "source": [
    "# Number of records\n",
    "len(events)"
   ]
  },
  {
   "cell_type": "code",
   "execution_count": 6,
   "metadata": {
    "collapsed": false
   },
   "outputs": [
    {
     "name": "stdout",
     "output_type": "stream",
     "text": [
      "id\n",
      "type\n",
      "language\n",
      "license\n",
      "rightsHolder\n",
      "accessRights\n",
      "datasetID\n",
      "datasetName\n",
      "ownerInstitutionCode\n",
      "eventID\n",
      "samplingProtocol\n",
      "sampleSizeValue\n",
      "sampleSizeUnit\n",
      "eventDate\n",
      "verbatimEventDate\n",
      "locationID\n",
      "continent\n",
      "countryCode\n",
      "stateProvince\n",
      "county\n",
      "municipality\n",
      "verbatimLocality\n",
      "locationAccordingTo\n",
      "verbatimLatitude\n",
      "verbatimLongitude\n",
      "verbatimCoordinateSystem\n",
      "verbatimSRS\n",
      "decimalLatitude\n",
      "decimalLongitude\n",
      "geodeticDatum\n",
      "coordinateUncertaintyInMeters\n"
     ]
    }
   ],
   "source": [
    "# Columns\n",
    "print('\\n'.join(events.columns))"
   ]
  },
  {
   "cell_type": "code",
   "execution_count": 7,
   "metadata": {
    "collapsed": false
   },
   "outputs": [
    {
     "name": "stdout",
     "output_type": "stream",
     "text": [
      "id:\n",
      "more than 20 values, check seperately\n",
      "\n",
      "type:\n",
      "event\n",
      "\n",
      "language:\n",
      "en\n",
      "\n",
      "license:\n",
      "http://creativecommons.org/publicdomain/zero/1.0/\n",
      "\n",
      "rightsHolder:\n",
      "INBO\n",
      "\n",
      "accessRights:\n",
      "http://www.inbo.be/en/norms-for-data-use\n",
      "\n",
      "datasetID:\n",
      "http://dataset.inbo.be/Niche-Vlaanderen\n",
      "\n",
      "datasetName:\n",
      "InboVeg-niche-Vlaanderen\n",
      "\n",
      "ownerInstitutionCode:\n",
      "INBO\n",
      "\n",
      "eventID:\n",
      "more than 20 values, check seperately\n",
      "\n",
      "samplingProtocol:\n",
      "vegetationPlot- LONDO\n",
      "\n",
      "sampleSizeValue:\n",
      "9, 100, 4, 25\n",
      "\n",
      "sampleSizeUnit:\n",
      "m²\n",
      "\n",
      "eventDate:\n",
      "more than 20 values, check seperately\n",
      "\n",
      "verbatimEventDate:\n",
      "more than 20 values, check seperately\n",
      "\n",
      "locationID:\n",
      "more than 20 values, check seperately\n",
      "\n",
      "continent:\n",
      "Europe\n",
      "\n",
      "countryCode:\n",
      "BE\n",
      "\n",
      "stateProvince:\n",
      "Vlaams Gewest, nan, XY Onbekend\n",
      "\n",
      "county:\n",
      "Antwerpen, West-Vlaanderen, Limburg, Vlaams-Brabant, Oost-Vlaanderen, nan, XY Onbekend\n",
      "\n",
      "municipality:\n",
      "more than 20 values, check seperately\n",
      "\n",
      "verbatimLocality:\n",
      "more than 20 values, check seperately\n",
      "\n",
      "locationAccordingTo:\n",
      "MILKLIM-Gebieden\n",
      "\n",
      "verbatimLatitude:\n",
      "more than 20 values, check seperately\n",
      "\n",
      "verbatimLongitude:\n",
      "more than 20 values, check seperately\n",
      "\n",
      "verbatimCoordinateSystem:\n",
      "Belgian Lambert 72\n",
      "\n",
      "verbatimSRS:\n",
      "Belgium Datum 1972\n",
      "\n",
      "decimalLatitude:\n",
      "more than 20 values, check seperately\n",
      "\n",
      "decimalLongitude:\n",
      "more than 20 values, check seperately\n",
      "\n",
      "geodeticDatum:\n",
      "WGS84\n",
      "\n",
      "coordinateUncertaintyInMeters:\n",
      "30\n",
      "\n"
     ]
    }
   ],
   "source": [
    "# Unique values per column\n",
    "print_unique_values(events)"
   ]
  },
  {
   "cell_type": "markdown",
   "metadata": {},
   "source": [
    "## Occurrences"
   ]
  },
  {
   "cell_type": "code",
   "execution_count": 8,
   "metadata": {
    "collapsed": false
   },
   "outputs": [
    {
     "data": {
      "text/plain": [
       "8798"
      ]
     },
     "execution_count": 8,
     "metadata": {},
     "output_type": "execute_result"
    }
   ],
   "source": [
    "len(occurrences)"
   ]
  },
  {
   "cell_type": "code",
   "execution_count": 9,
   "metadata": {
    "collapsed": false
   },
   "outputs": [
    {
     "name": "stdout",
     "output_type": "stream",
     "text": [
      "id\n",
      "basisOfRecord\n",
      "occurrenceID\n",
      "recordedBy\n",
      "organismQuantity\n",
      "organismQuantityType\n",
      "occurrenceStatus\n",
      "eventID\n",
      "identifiedBy\n",
      "taxonID\n",
      "scientificName\n",
      "kingdom\n",
      "taxonRank\n",
      "verbatimTaxonRank\n",
      "scientificNameAuthorship\n"
     ]
    }
   ],
   "source": [
    "print('\\n'.join(occurrences.columns))"
   ]
  },
  {
   "cell_type": "code",
   "execution_count": 10,
   "metadata": {
    "collapsed": false,
    "scrolled": true
   },
   "outputs": [
    {
     "name": "stdout",
     "output_type": "stream",
     "text": [
      "id:\n",
      "more than 20 values, check seperately\n",
      "\n",
      "basisOfRecord:\n",
      "HumanObservation\n",
      "\n",
      "occurrenceID:\n",
      "more than 20 values, check seperately\n",
      "\n",
      "recordedBy:\n",
      "Els De Bie, Jan Wouters, Kris Rombouts, Bart Vandevoorde, Wim Mertens\n",
      "\n",
      "organismQuantity:\n",
      "more than 20 values, check seperately\n",
      "\n",
      "organismQuantityType:\n",
      "londoScale\n",
      "\n",
      "occurrenceStatus:\n",
      "present\n",
      "\n",
      "eventID:\n",
      "more than 20 values, check seperately\n",
      "\n",
      "identifiedBy:\n",
      "Els De Bie, Jan Wouters, Kris Rombouts, Bart Vandevoorde, Wim Mertens\n",
      "\n",
      "taxonID:\n",
      "more than 20 values, check seperately\n",
      "\n",
      "scientificName:\n",
      "more than 20 values, check seperately\n",
      "\n",
      "kingdom:\n",
      "Plantae\n",
      "\n",
      "taxonRank:\n",
      "nan\n",
      "\n",
      "verbatimTaxonRank:\n",
      "Spp, Gen, SppGrp, Var, SubSpp, nan, SppHyb\n",
      "\n",
      "scientificNameAuthorship:\n",
      "more than 20 values, check seperately\n",
      "\n"
     ]
    }
   ],
   "source": [
    "print_unique_values(occurrences)"
   ]
  },
  {
   "cell_type": "markdown",
   "metadata": {},
   "source": [
    "## Relevé\n",
    "\n",
    "Using http://rs.gbif.org/sandbox/extension/releve_2016-05-10.xml"
   ]
  },
  {
   "cell_type": "code",
   "execution_count": 16,
   "metadata": {
    "collapsed": false
   },
   "outputs": [
    {
     "data": {
      "text/plain": [
       "569"
      ]
     },
     "execution_count": 16,
     "metadata": {},
     "output_type": "execute_result"
    }
   ],
   "source": [
    "len(releve)"
   ]
  },
  {
   "cell_type": "code",
   "execution_count": 23,
   "metadata": {
    "collapsed": false
   },
   "outputs": [
    {
     "name": "stdout",
     "output_type": "stream",
     "text": [
      "id\n",
      "coverScale\n",
      "project\n",
      "coverTotalInPercentage\n",
      "coverTreesInPercentage\n",
      "coverShrubsInPercentage\n",
      "coverHerbsInPercentage\n",
      "coverMossesInPercentage\n",
      "treeLayerHeightInMeters\n",
      "shrubLayerHeightInMeters\n",
      "herbLayerHeightInCentimeters\n",
      "mossesIdentified\n"
     ]
    }
   ],
   "source": [
    "print('\\n'.join(releve.columns))"
   ]
  },
  {
   "cell_type": "code",
   "execution_count": 22,
   "metadata": {
    "collapsed": false
   },
   "outputs": [
    {
     "name": "stdout",
     "output_type": "stream",
     "text": [
      "id:\n",
      "more than 20 values, check seperately\n",
      "\n",
      "coverScale:\n",
      "percentage Pct-1-100\n",
      "\n",
      "project:\n",
      "NICHE Vlaanderen\n",
      "\n",
      "coverTotalInPercentage:\n",
      "nan, 100, 55, 80, 70, 90, 60, 40, 50\n",
      "\n",
      "coverTreesInPercentage:\n",
      "85, 40, 80, 90, nan, 30, 50, 60, 70, 65, 10, 4, 20, 75, 35\n",
      "\n",
      "coverShrubsInPercentage:\n",
      "30, 60, 10, 15, nan, 50, 20, 25, 5, 1, 80, 2, 40, 85, 70, 3, 90\n",
      "\n",
      "coverHerbsInPercentage:\n",
      "100, 90, 80, 70, nan, 95, 40, 55, 3, 10, 60, 75, 27, 20\n",
      "\n",
      "coverMossesInPercentage:\n",
      "nan, 90, 40, 20, 70, 80, 100, 1, 60, 5, 50, 30, 10, 15\n",
      "\n",
      "treeLayerHeightInMeters:\n",
      "nan\n",
      "\n",
      "shrubLayerHeightInMeters:\n",
      "nan\n",
      "\n",
      "herbLayerHeightInCentimeters:\n",
      "more than 20 values, check seperately\n",
      "\n",
      "mossesIdentified:\n",
      "yes\n",
      "\n"
     ]
    }
   ],
   "source": [
    "print_unique_values(releve)"
   ]
  },
  {
   "cell_type": "code",
   "execution_count": 39,
   "metadata": {
    "collapsed": false
   },
   "outputs": [
    {
     "data": {
      "text/plain": [
       "170"
      ]
     },
     "execution_count": 39,
     "metadata": {},
     "output_type": "execute_result"
    }
   ],
   "source": [
    "max(releve[releve['herbLayerHeightInCentimeters'].notnull()]['herbLayerHeightInCentimeters'].astype(int).unique())"
   ]
  },
  {
   "cell_type": "markdown",
   "metadata": {},
   "source": [
    "## Measurements or facts (as an alternative for relevé)"
   ]
  },
  {
   "cell_type": "code",
   "execution_count": 11,
   "metadata": {
    "collapsed": false
   },
   "outputs": [
    {
     "name": "stdout",
     "output_type": "stream",
     "text": [
      "id:\n",
      "more than 20 values, check seperately\n",
      "\n",
      "measurementID:\n",
      "more than 20 values, check seperately\n",
      "\n",
      "measurementType:\n",
      "HerbLayerHeightInCentimeters, coverShrubsInPercentage, coverTreesInPercentage, coverHerbsInPercentage, totalCoverageInPercentage, coverMossesInPercentage\n",
      "\n",
      "measurementValue:\n",
      "more than 20 values, check seperately\n",
      "\n",
      "measurementUnit:\n",
      "cm, %\n",
      "\n",
      "measurementMethod:\n",
      "estimate, Percentage Pct-1-100\n",
      "\n",
      "measurementRemarks:\n",
      "mossesIdentified:yes\n",
      "\n"
     ]
    }
   ],
   "source": [
    "print_unique_values(measurements)"
   ]
  },
  {
   "cell_type": "code",
   "execution_count": 12,
   "metadata": {
    "collapsed": false
   },
   "outputs": [
    {
     "data": {
      "text/plain": [
       "664"
      ]
     },
     "execution_count": 12,
     "metadata": {},
     "output_type": "execute_result"
    }
   ],
   "source": [
    "len(measurements)"
   ]
  },
  {
   "cell_type": "code",
   "execution_count": 21,
   "metadata": {
    "collapsed": false
   },
   "outputs": [
    {
     "data": {
      "text/plain": [
       "352"
      ]
     },
     "execution_count": 21,
     "metadata": {},
     "output_type": "execute_result"
    }
   ],
   "source": [
    "# number of unique events\n",
    "len(measurements['id'].unique())"
   ]
  },
  {
   "cell_type": "markdown",
   "metadata": {},
   "source": [
    "## Experimenting"
   ]
  },
  {
   "cell_type": "code",
   "execution_count": 13,
   "metadata": {
    "collapsed": false
   },
   "outputs": [
    {
     "data": {
      "text/plain": [
       "2.8536800000000002"
      ]
     },
     "execution_count": 13,
     "metadata": {},
     "output_type": "execute_result"
    }
   ],
   "source": [
    "events['decimalLongitude'].astype(float).min()"
   ]
  }
 ],
 "metadata": {
  "kernelspec": {
   "display_name": "Python 3",
   "language": "python",
   "name": "python3"
  },
  "language_info": {
   "codemirror_mode": {
    "name": "ipython",
    "version": 3
   },
   "file_extension": ".py",
   "mimetype": "text/x-python",
   "name": "python",
   "nbconvert_exporter": "python",
   "pygments_lexer": "ipython3",
   "version": "3.5.1"
  }
 },
 "nbformat": 4,
 "nbformat_minor": 0
}
