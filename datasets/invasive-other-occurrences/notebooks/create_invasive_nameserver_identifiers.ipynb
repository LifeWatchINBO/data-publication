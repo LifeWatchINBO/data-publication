{
 "cells": [
  {
   "cell_type": "code",
   "execution_count": 1,
   "metadata": {
    "collapsed": true
   },
   "outputs": [],
   "source": [
    "%matplotlib inline\n",
    "import numpy as np\n",
    "import pandas as pd\n",
    "import matplotlib.pyplot as plt"
   ]
  },
  {
   "cell_type": "code",
   "execution_count": 3,
   "metadata": {
    "collapsed": true
   },
   "outputs": [],
   "source": [
    "plt.style.use('seaborn-notebook')"
   ]
  },
  {
   "cell_type": "markdown",
   "metadata": {},
   "source": [
    "# Filter invasive species from the recorder data"
   ]
  },
  {
   "cell_type": "markdown",
   "metadata": {},
   "source": [
    "Making a subselection of the invasive species, as defined by the [t0-values in the aggregated checklist](https://github.com/inbo/alien-species-checklist/tree/master/data/processed), from the  [verified set of matched names as defined by the INBO nameserver](https://raw.githubusercontent.com/inbo/data-publication/master/datasets/name_server/data/processed/recorder_sql_unique_names_matched_verified.tsv). As such, this subset defines the set of identifiers to query on the INBO database:"
   ]
  },
  {
   "cell_type": "markdown",
   "metadata": {},
   "source": [
    "### Recorder verified names"
   ]
  },
  {
   "cell_type": "markdown",
   "metadata": {},
   "source": [
    "Reading in the recorder verified names:"
   ]
  },
  {
   "cell_type": "code",
   "execution_count": 6,
   "metadata": {
    "collapsed": false
   },
   "outputs": [],
   "source": [
    "recorder_matched_verified = pd.read_csv(\"https://raw.githubusercontent.com/inbo/data-publication/master/datasets/name_server/data/processed/recorder_sql_unique_names_matched_verified.tsv\",\n",
    "                                       delimiter=\"\\t\")"
   ]
  },
  {
   "cell_type": "code",
   "execution_count": 8,
   "metadata": {
    "collapsed": false
   },
   "outputs": [
    {
     "data": {
      "text/html": [
       "<div>\n",
       "<table border=\"1\" class=\"dataframe\">\n",
       "  <thead>\n",
       "    <tr style=\"text-align: right;\">\n",
       "      <th></th>\n",
       "      <th>INBO_identifier</th>\n",
       "      <th>canonicalName</th>\n",
       "      <th>class</th>\n",
       "      <th>classKey</th>\n",
       "      <th>confidence</th>\n",
       "      <th>family</th>\n",
       "      <th>familyKey</th>\n",
       "      <th>genus</th>\n",
       "      <th>genusKey</th>\n",
       "      <th>kingdom</th>\n",
       "      <th>...</th>\n",
       "      <th>rank</th>\n",
       "      <th>scientificName</th>\n",
       "      <th>species</th>\n",
       "      <th>speciesKey</th>\n",
       "      <th>gbif_status</th>\n",
       "      <th>synonym</th>\n",
       "      <th>usageKey</th>\n",
       "      <th>acceptedKey</th>\n",
       "      <th>acceptedScientificName</th>\n",
       "      <th>nameMatchValidation</th>\n",
       "    </tr>\n",
       "  </thead>\n",
       "  <tbody>\n",
       "    <tr>\n",
       "      <th>0</th>\n",
       "      <td>INBSYS0000005533</td>\n",
       "      <td>Cotoneaster villosulus</td>\n",
       "      <td>Magnoliopsida</td>\n",
       "      <td>220.0</td>\n",
       "      <td>100</td>\n",
       "      <td>Rosaceae</td>\n",
       "      <td>5015.0</td>\n",
       "      <td>Cotoneaster</td>\n",
       "      <td>3025563.0</td>\n",
       "      <td>Plantae</td>\n",
       "      <td>...</td>\n",
       "      <td>SPECIES</td>\n",
       "      <td>Cotoneaster villosulus (Rehder &amp; E.H. Wilson) ...</td>\n",
       "      <td>Cotoneaster acutifolius</td>\n",
       "      <td>3025770.0</td>\n",
       "      <td>SYNONYM</td>\n",
       "      <td>True</td>\n",
       "      <td>3025564</td>\n",
       "      <td>3025565</td>\n",
       "      <td>Cotoneaster acutifolius var. villosulus Rehd. ...</td>\n",
       "      <td>ok: SYNONYM probably valid</td>\n",
       "    </tr>\n",
       "    <tr>\n",
       "      <th>1</th>\n",
       "      <td>NBNSYS0000022430</td>\n",
       "      <td>Leuctra hippopus</td>\n",
       "      <td>Insecta</td>\n",
       "      <td>216.0</td>\n",
       "      <td>100</td>\n",
       "      <td>Leuctridae</td>\n",
       "      <td>2998.0</td>\n",
       "      <td>Leuctra</td>\n",
       "      <td>2001760.0</td>\n",
       "      <td>Animalia</td>\n",
       "      <td>...</td>\n",
       "      <td>SPECIES</td>\n",
       "      <td>Leuctra hippopus Kempny, 1899</td>\n",
       "      <td>Leuctra hippopus</td>\n",
       "      <td>2001976.0</td>\n",
       "      <td>ACCEPTED</td>\n",
       "      <td>False</td>\n",
       "      <td>2001976</td>\n",
       "      <td>2001976</td>\n",
       "      <td>Leuctra hippopus Kempny, 1899</td>\n",
       "      <td>ok</td>\n",
       "    </tr>\n",
       "    <tr>\n",
       "      <th>2</th>\n",
       "      <td>NHMSYS0020110590</td>\n",
       "      <td>Taraxacum amarellum</td>\n",
       "      <td>Magnoliopsida</td>\n",
       "      <td>220.0</td>\n",
       "      <td>100</td>\n",
       "      <td>Asteraceae</td>\n",
       "      <td>3065.0</td>\n",
       "      <td>Taraxacum</td>\n",
       "      <td>8322495.0</td>\n",
       "      <td>Plantae</td>\n",
       "      <td>...</td>\n",
       "      <td>SPECIES</td>\n",
       "      <td>Taraxacum amarellum Kirschner &amp; Štepánek</td>\n",
       "      <td>Taraxacum amarellum</td>\n",
       "      <td>5699378.0</td>\n",
       "      <td>DOUBTFUL</td>\n",
       "      <td>False</td>\n",
       "      <td>5699378</td>\n",
       "      <td>5699378</td>\n",
       "      <td>Taraxacum amarellum Kirschner &amp; Štepánek</td>\n",
       "      <td>ok: DOUBTFUL</td>\n",
       "    </tr>\n",
       "    <tr>\n",
       "      <th>3</th>\n",
       "      <td>BFN0017900000007</td>\n",
       "      <td>Hyloniscus riparius</td>\n",
       "      <td>Malacostraca</td>\n",
       "      <td>229.0</td>\n",
       "      <td>100</td>\n",
       "      <td>Trichoniscidae</td>\n",
       "      <td>5764.0</td>\n",
       "      <td>Hyloniscus</td>\n",
       "      <td>2208506.0</td>\n",
       "      <td>Animalia</td>\n",
       "      <td>...</td>\n",
       "      <td>SPECIES</td>\n",
       "      <td>Hyloniscus riparius (Koch, 1838)</td>\n",
       "      <td>Hyloniscus riparius</td>\n",
       "      <td>2208537.0</td>\n",
       "      <td>ACCEPTED</td>\n",
       "      <td>False</td>\n",
       "      <td>2208537</td>\n",
       "      <td>2208537</td>\n",
       "      <td>Hyloniscus riparius (Koch, 1838)</td>\n",
       "      <td>ok</td>\n",
       "    </tr>\n",
       "    <tr>\n",
       "      <th>4</th>\n",
       "      <td>BMSSYS0000000001</td>\n",
       "      <td>Abrothallus cetrariae</td>\n",
       "      <td>NaN</td>\n",
       "      <td>NaN</td>\n",
       "      <td>99</td>\n",
       "      <td>Abrothallaceae</td>\n",
       "      <td>8401066.0</td>\n",
       "      <td>Abrothallus</td>\n",
       "      <td>2584324.0</td>\n",
       "      <td>Fungi</td>\n",
       "      <td>...</td>\n",
       "      <td>SPECIES</td>\n",
       "      <td>Abrothallus cetrariae I. Kotte, 1909</td>\n",
       "      <td>Abrothallus cetrariae</td>\n",
       "      <td>7824496.0</td>\n",
       "      <td>ACCEPTED</td>\n",
       "      <td>False</td>\n",
       "      <td>7824496</td>\n",
       "      <td>7824496</td>\n",
       "      <td>Abrothallus cetrariae I. Kotte, 1909</td>\n",
       "      <td>ok</td>\n",
       "    </tr>\n",
       "  </tbody>\n",
       "</table>\n",
       "<p>5 rows × 27 columns</p>\n",
       "</div>"
      ],
      "text/plain": [
       "    INBO_identifier           canonicalName          class  classKey  \\\n",
       "0  INBSYS0000005533  Cotoneaster villosulus  Magnoliopsida     220.0   \n",
       "1  NBNSYS0000022430        Leuctra hippopus        Insecta     216.0   \n",
       "2  NHMSYS0020110590     Taraxacum amarellum  Magnoliopsida     220.0   \n",
       "3  BFN0017900000007     Hyloniscus riparius   Malacostraca     229.0   \n",
       "4  BMSSYS0000000001   Abrothallus cetrariae            NaN       NaN   \n",
       "\n",
       "   confidence          family  familyKey        genus   genusKey   kingdom  \\\n",
       "0         100        Rosaceae     5015.0  Cotoneaster  3025563.0   Plantae   \n",
       "1         100      Leuctridae     2998.0      Leuctra  2001760.0  Animalia   \n",
       "2         100      Asteraceae     3065.0    Taraxacum  8322495.0   Plantae   \n",
       "3         100  Trichoniscidae     5764.0   Hyloniscus  2208506.0  Animalia   \n",
       "4          99  Abrothallaceae  8401066.0  Abrothallus  2584324.0     Fungi   \n",
       "\n",
       "              ...                 rank  \\\n",
       "0             ...              SPECIES   \n",
       "1             ...              SPECIES   \n",
       "2             ...              SPECIES   \n",
       "3             ...              SPECIES   \n",
       "4             ...              SPECIES   \n",
       "\n",
       "                                      scientificName                  species  \\\n",
       "0  Cotoneaster villosulus (Rehder & E.H. Wilson) ...  Cotoneaster acutifolius   \n",
       "1                      Leuctra hippopus Kempny, 1899         Leuctra hippopus   \n",
       "2           Taraxacum amarellum Kirschner & Štepánek      Taraxacum amarellum   \n",
       "3                   Hyloniscus riparius (Koch, 1838)      Hyloniscus riparius   \n",
       "4               Abrothallus cetrariae I. Kotte, 1909    Abrothallus cetrariae   \n",
       "\n",
       "  speciesKey  gbif_status synonym  usageKey acceptedKey  \\\n",
       "0  3025770.0      SYNONYM    True   3025564     3025565   \n",
       "1  2001976.0     ACCEPTED   False   2001976     2001976   \n",
       "2  5699378.0     DOUBTFUL   False   5699378     5699378   \n",
       "3  2208537.0     ACCEPTED   False   2208537     2208537   \n",
       "4  7824496.0     ACCEPTED   False   7824496     7824496   \n",
       "\n",
       "                              acceptedScientificName  \\\n",
       "0  Cotoneaster acutifolius var. villosulus Rehd. ...   \n",
       "1                      Leuctra hippopus Kempny, 1899   \n",
       "2           Taraxacum amarellum Kirschner & Štepánek   \n",
       "3                   Hyloniscus riparius (Koch, 1838)   \n",
       "4               Abrothallus cetrariae I. Kotte, 1909   \n",
       "\n",
       "          nameMatchValidation  \n",
       "0  ok: SYNONYM probably valid  \n",
       "1                          ok  \n",
       "2                ok: DOUBTFUL  \n",
       "3                          ok  \n",
       "4                          ok  \n",
       "\n",
       "[5 rows x 27 columns]"
      ]
     },
     "execution_count": 8,
     "metadata": {},
     "output_type": "execute_result"
    }
   ],
   "source": [
    "recorder_matched_verified.head()"
   ]
  },
  {
   "cell_type": "markdown",
   "metadata": {},
   "source": [
    "### t0 alien species checklist"
   ]
  },
  {
   "cell_type": "markdown",
   "metadata": {},
   "source": [
    "Reading in the species checklist:"
   ]
  },
  {
   "cell_type": "code",
   "execution_count": 9,
   "metadata": {
    "collapsed": true
   },
   "outputs": [],
   "source": [
    "alien_species_checklist = pd.read_csv(\"https://raw.githubusercontent.com/inbo/alien-species-checklist/master/data/processed/aggregated-checklist.tsv\", \n",
    "                                      delimiter=\"\\t\")"
   ]
  },
  {
   "cell_type": "code",
   "execution_count": 12,
   "metadata": {
    "collapsed": false
   },
   "outputs": [
    {
     "data": {
      "text/plain": [
       "array(['plants', 'wrims', 'harmonia | plants | t0', 'harmonia | plants',\n",
       "       'fishes', 'harmonia', 'harmonia | t0', 't0', 'fishes | harmonia',\n",
       "       'macroinvertebrates | wrims', 'plants | t0', 'macroinvertebrates',\n",
       "       'macroinvertebrates | t0 | wrims', 'fishes | wrims',\n",
       "       'fishes | harmonia | t0', 'fishes | harmonia | wrims',\n",
       "       'macroinvertebrates | t0',\n",
       "       'harmonia | macroinvertebrates | t0 | wrims', 't0 | wrims',\n",
       "       'harmonia | wrims', 'harmonia | plants | t0 | wrims'], dtype=object)"
      ]
     },
     "execution_count": 12,
     "metadata": {},
     "output_type": "execute_result"
    }
   ],
   "source": [
    "alien_species_checklist[\"datasetName\"].unique()"
   ]
  },
  {
   "cell_type": "markdown",
   "metadata": {},
   "source": [
    "All rows for which the t0 is part of the `datasetName` should be taken into account:"
   ]
  },
  {
   "cell_type": "code",
   "execution_count": 18,
   "metadata": {
    "collapsed": false
   },
   "outputs": [],
   "source": [
    "t0_alien_species_checklist = alien_species_checklist.loc[alien_species_checklist[\"datasetName\"].str.contains(\"t0\"), :]"
   ]
  },
  {
   "cell_type": "code",
   "execution_count": 19,
   "metadata": {
    "collapsed": false
   },
   "outputs": [
    {
     "data": {
      "text/html": [
       "<div>\n",
       "<table border=\"1\" class=\"dataframe\">\n",
       "  <thead>\n",
       "    <tr style=\"text-align: right;\">\n",
       "      <th></th>\n",
       "      <th>gbifapi_acceptedScientificName</th>\n",
       "      <th>gbifapi_acceptedKey</th>\n",
       "      <th>kingdom</th>\n",
       "      <th>datasetName</th>\n",
       "      <th>euConcernStatus</th>\n",
       "      <th>firstObservationYearBE</th>\n",
       "      <th>firstObservationYearFL</th>\n",
       "      <th>invasionStage</th>\n",
       "      <th>habitat</th>\n",
       "      <th>nativeRange</th>\n",
       "      <th>introductionPathway</th>\n",
       "      <th>presenceBE</th>\n",
       "      <th>presenceFL</th>\n",
       "      <th>presenceWA</th>\n",
       "      <th>presenceBR</th>\n",
       "      <th>gbifapi_scientificName</th>\n",
       "      <th>index</th>\n",
       "    </tr>\n",
       "  </thead>\n",
       "  <tbody>\n",
       "    <tr>\n",
       "      <th>11</th>\n",
       "      <td>Acer negundo L.</td>\n",
       "      <td>3189866</td>\n",
       "      <td>Plantae</td>\n",
       "      <td>harmonia | plants | t0</td>\n",
       "      <td>under consideration</td>\n",
       "      <td>1955</td>\n",
       "      <td>NaN</td>\n",
       "      <td>established | invasive</td>\n",
       "      <td>terrestrial | to be determined by experts</td>\n",
       "      <td>N. America</td>\n",
       "      <td>escape &gt; horticulture | escape &gt; to be determi...</td>\n",
       "      <td>present</td>\n",
       "      <td>present | to be determined by experts</td>\n",
       "      <td>present | to be determined by experts</td>\n",
       "      <td>present | to be determined by experts</td>\n",
       "      <td>Acer negundo L.</td>\n",
       "      <td>23 | 24 | 2498 | 9552</td>\n",
       "    </tr>\n",
       "    <tr>\n",
       "      <th>88</th>\n",
       "      <td>Alopochen aegyptiaca (Linnaeus, 1766)</td>\n",
       "      <td>2498252</td>\n",
       "      <td>Animalia</td>\n",
       "      <td>harmonia | t0</td>\n",
       "      <td>under consideration</td>\n",
       "      <td>1984</td>\n",
       "      <td>NaN</td>\n",
       "      <td>invasive</td>\n",
       "      <td>freshwater</td>\n",
       "      <td>Africa</td>\n",
       "      <td>escape &gt; pet/aquarium/terrarium species (inclu...</td>\n",
       "      <td>present</td>\n",
       "      <td>present | to be determined by experts</td>\n",
       "      <td>present | to be determined by experts</td>\n",
       "      <td>present | to be determined by experts</td>\n",
       "      <td>Alopochen aegyptiaca (Linnaeus, 1766)</td>\n",
       "      <td>30 | 9553</td>\n",
       "    </tr>\n",
       "    <tr>\n",
       "      <th>93</th>\n",
       "      <td>Alternanthera philoxeroides (Mart.) Griseb.</td>\n",
       "      <td>3084923</td>\n",
       "      <td>Plantae</td>\n",
       "      <td>t0</td>\n",
       "      <td>under consideration</td>\n",
       "      <td>NaN</td>\n",
       "      <td>NaN</td>\n",
       "      <td>NaN</td>\n",
       "      <td>NaN</td>\n",
       "      <td>NaN</td>\n",
       "      <td>NaN</td>\n",
       "      <td>absent</td>\n",
       "      <td>to be determined by experts</td>\n",
       "      <td>to be determined by experts</td>\n",
       "      <td>to be determined by experts</td>\n",
       "      <td>Alternanthera philoxeroides (Mart.) Griseb.</td>\n",
       "      <td>9554</td>\n",
       "    </tr>\n",
       "    <tr>\n",
       "      <th>133</th>\n",
       "      <td>Ameiurus melas (Rafinesque, 1820)</td>\n",
       "      <td>2340977</td>\n",
       "      <td>Animalia</td>\n",
       "      <td>t0</td>\n",
       "      <td>under consideration</td>\n",
       "      <td>NaN</td>\n",
       "      <td>NaN</td>\n",
       "      <td>NaN</td>\n",
       "      <td>NaN</td>\n",
       "      <td>NaN</td>\n",
       "      <td>NaN</td>\n",
       "      <td>absent</td>\n",
       "      <td>to be determined by experts</td>\n",
       "      <td>to be determined by experts</td>\n",
       "      <td>to be determined by experts</td>\n",
       "      <td>Ameiurus melas (Rafinesque, 1820)</td>\n",
       "      <td>9555</td>\n",
       "    </tr>\n",
       "    <tr>\n",
       "      <th>225</th>\n",
       "      <td>Asclepias syriaca L.</td>\n",
       "      <td>3170247</td>\n",
       "      <td>Plantae</td>\n",
       "      <td>plants | t0</td>\n",
       "      <td>under consideration</td>\n",
       "      <td>1987</td>\n",
       "      <td>NaN</td>\n",
       "      <td>unknown</td>\n",
       "      <td>to be determined by experts</td>\n",
       "      <td>N. America</td>\n",
       "      <td>escape &gt; horticulture</td>\n",
       "      <td>present</td>\n",
       "      <td>present | to be determined by experts</td>\n",
       "      <td>absent | to be determined by experts</td>\n",
       "      <td>present | to be determined by experts</td>\n",
       "      <td>Asclepias syriaca L.</td>\n",
       "      <td>431 | 9556</td>\n",
       "    </tr>\n",
       "  </tbody>\n",
       "</table>\n",
       "</div>"
      ],
      "text/plain": [
       "                  gbifapi_acceptedScientificName  gbifapi_acceptedKey  \\\n",
       "11                               Acer negundo L.              3189866   \n",
       "88         Alopochen aegyptiaca (Linnaeus, 1766)              2498252   \n",
       "93   Alternanthera philoxeroides (Mart.) Griseb.              3084923   \n",
       "133            Ameiurus melas (Rafinesque, 1820)              2340977   \n",
       "225                         Asclepias syriaca L.              3170247   \n",
       "\n",
       "      kingdom             datasetName      euConcernStatus  \\\n",
       "11    Plantae  harmonia | plants | t0  under consideration   \n",
       "88   Animalia           harmonia | t0  under consideration   \n",
       "93    Plantae                      t0  under consideration   \n",
       "133  Animalia                      t0  under consideration   \n",
       "225   Plantae             plants | t0  under consideration   \n",
       "\n",
       "    firstObservationYearBE firstObservationYearFL           invasionStage  \\\n",
       "11                    1955                    NaN  established | invasive   \n",
       "88                    1984                    NaN                invasive   \n",
       "93                     NaN                    NaN                     NaN   \n",
       "133                    NaN                    NaN                     NaN   \n",
       "225                   1987                    NaN                 unknown   \n",
       "\n",
       "                                       habitat nativeRange  \\\n",
       "11   terrestrial | to be determined by experts  N. America   \n",
       "88                                  freshwater      Africa   \n",
       "93                                         NaN         NaN   \n",
       "133                                        NaN         NaN   \n",
       "225                to be determined by experts  N. America   \n",
       "\n",
       "                                   introductionPathway presenceBE  \\\n",
       "11   escape > horticulture | escape > to be determi...    present   \n",
       "88   escape > pet/aquarium/terrarium species (inclu...    present   \n",
       "93                                                 NaN     absent   \n",
       "133                                                NaN     absent   \n",
       "225                              escape > horticulture    present   \n",
       "\n",
       "                                presenceFL  \\\n",
       "11   present | to be determined by experts   \n",
       "88   present | to be determined by experts   \n",
       "93             to be determined by experts   \n",
       "133            to be determined by experts   \n",
       "225  present | to be determined by experts   \n",
       "\n",
       "                                presenceWA  \\\n",
       "11   present | to be determined by experts   \n",
       "88   present | to be determined by experts   \n",
       "93             to be determined by experts   \n",
       "133            to be determined by experts   \n",
       "225   absent | to be determined by experts   \n",
       "\n",
       "                                presenceBR  \\\n",
       "11   present | to be determined by experts   \n",
       "88   present | to be determined by experts   \n",
       "93             to be determined by experts   \n",
       "133            to be determined by experts   \n",
       "225  present | to be determined by experts   \n",
       "\n",
       "                          gbifapi_scientificName                  index  \n",
       "11                               Acer negundo L.  23 | 24 | 2498 | 9552  \n",
       "88         Alopochen aegyptiaca (Linnaeus, 1766)              30 | 9553  \n",
       "93   Alternanthera philoxeroides (Mart.) Griseb.                   9554  \n",
       "133            Ameiurus melas (Rafinesque, 1820)                   9555  \n",
       "225                         Asclepias syriaca L.             431 | 9556  "
      ]
     },
     "execution_count": 19,
     "metadata": {},
     "output_type": "execute_result"
    }
   ],
   "source": [
    "t0_alien_species_checklist.head()"
   ]
  },
  {
   "cell_type": "code",
   "execution_count": 23,
   "metadata": {
    "collapsed": false
   },
   "outputs": [
    {
     "data": {
      "text/plain": [
       "147"
      ]
     },
     "execution_count": 23,
     "metadata": {},
     "output_type": "execute_result"
    }
   ],
   "source": [
    "len(t0_alien_species_checklist)"
   ]
  },
  {
   "cell_type": "markdown",
   "metadata": {},
   "source": [
    "### Derivation of the nameserver identifiers corresponding to alien species"
   ]
  },
  {
   "cell_type": "markdown",
   "metadata": {},
   "source": [
    "What we want, is a list of `gbifapi_acceptedKey` from the t0 set of invasive species and check for each acceptedKey the corresponding identifiers of the nameserver. "
   ]
  },
  {
   "cell_type": "code",
   "execution_count": 33,
   "metadata": {
    "collapsed": false
   },
   "outputs": [
    {
     "data": {
      "text/plain": [
       "INBO_identifier    object\n",
       "acceptedKey         int64\n",
       "dtype: object"
      ]
     },
     "execution_count": 33,
     "metadata": {},
     "output_type": "execute_result"
    }
   ],
   "source": [
    "recorder_matched_verified[[\"INBO_identifier\", \"acceptedKey\"]].dtypes"
   ]
  },
  {
   "cell_type": "code",
   "execution_count": 38,
   "metadata": {
    "collapsed": false
   },
   "outputs": [],
   "source": [
    "nameserver_identifiers_for_t0 = pd.merge(t0_alien_species_checklist[[\"gbifapi_acceptedScientificName\", \"gbifapi_acceptedKey\"]], \n",
    "                                         recorder_matched_verified[[\"INBO_identifier\", \"acceptedKey\"]], \n",
    "                                         how='left', \n",
    "                                         left_on=\"gbifapi_acceptedKey\", \n",
    "                                         right_on=\"acceptedKey\")"
   ]
  },
  {
   "cell_type": "code",
   "execution_count": 43,
   "metadata": {
    "collapsed": false
   },
   "outputs": [],
   "source": [
    "nameserver_identifiers_for_t0 = nameserver_identifiers_for_t0.drop(\"acceptedKey\", axis=1)"
   ]
  },
  {
   "cell_type": "code",
   "execution_count": 47,
   "metadata": {
    "collapsed": false
   },
   "outputs": [
    {
     "data": {
      "text/html": [
       "<div>\n",
       "<table border=\"1\" class=\"dataframe\">\n",
       "  <thead>\n",
       "    <tr style=\"text-align: right;\">\n",
       "      <th></th>\n",
       "      <th>gbifapi_acceptedScientificName</th>\n",
       "      <th>gbifapi_acceptedKey</th>\n",
       "      <th>INBO_identifier</th>\n",
       "    </tr>\n",
       "  </thead>\n",
       "  <tbody>\n",
       "    <tr>\n",
       "      <th>0</th>\n",
       "      <td>Acer negundo L.</td>\n",
       "      <td>3189866</td>\n",
       "      <td>NBNSYS0000014604</td>\n",
       "    </tr>\n",
       "    <tr>\n",
       "      <th>1</th>\n",
       "      <td>Alopochen aegyptiaca (Linnaeus, 1766)</td>\n",
       "      <td>2498252</td>\n",
       "      <td>NaN</td>\n",
       "    </tr>\n",
       "    <tr>\n",
       "      <th>2</th>\n",
       "      <td>Alternanthera philoxeroides (Mart.) Griseb.</td>\n",
       "      <td>3084923</td>\n",
       "      <td>NaN</td>\n",
       "    </tr>\n",
       "    <tr>\n",
       "      <th>3</th>\n",
       "      <td>Ameiurus melas (Rafinesque, 1820)</td>\n",
       "      <td>2340977</td>\n",
       "      <td>NHMSYS0000544615</td>\n",
       "    </tr>\n",
       "    <tr>\n",
       "      <th>4</th>\n",
       "      <td>Asclepias syriaca L.</td>\n",
       "      <td>3170247</td>\n",
       "      <td>INBSYS0000005932</td>\n",
       "    </tr>\n",
       "  </tbody>\n",
       "</table>\n",
       "</div>"
      ],
      "text/plain": [
       "                gbifapi_acceptedScientificName  gbifapi_acceptedKey  \\\n",
       "0                              Acer negundo L.              3189866   \n",
       "1        Alopochen aegyptiaca (Linnaeus, 1766)              2498252   \n",
       "2  Alternanthera philoxeroides (Mart.) Griseb.              3084923   \n",
       "3            Ameiurus melas (Rafinesque, 1820)              2340977   \n",
       "4                         Asclepias syriaca L.              3170247   \n",
       "\n",
       "    INBO_identifier  \n",
       "0  NBNSYS0000014604  \n",
       "1               NaN  \n",
       "2               NaN  \n",
       "3  NHMSYS0000544615  \n",
       "4  INBSYS0000005932  "
      ]
     },
     "execution_count": 47,
     "metadata": {},
     "output_type": "execute_result"
    }
   ],
   "source": [
    "nameserver_identifiers_for_t0.head()"
   ]
  },
  {
   "cell_type": "markdown",
   "metadata": {},
   "source": [
    "This is what will be needed to:\n",
    "* setup the query to get data out of recorder (INBO dbae)\n",
    "* provide datasets coming from recorder again with the corresponding `acceptedKey` of GBIF"
   ]
  },
  {
   "cell_type": "code",
   "execution_count": 55,
   "metadata": {
    "collapsed": true
   },
   "outputs": [],
   "source": [
    "nameserver_identifiers_for_t0.to_csv(\"../data/vocabularies/nameserver_species_identifiers_for_t0.tsv\", \n",
    "                                     index=False, sep='\\t', na_rep=\"\")"
   ]
  },
  {
   "cell_type": "markdown",
   "metadata": {},
   "source": [
    "### Create a query from the template by filling in the identifiers of the species and surveys"
   ]
  },
  {
   "cell_type": "code",
   "execution_count": 93,
   "metadata": {
    "collapsed": false
   },
   "outputs": [],
   "source": [
    "# Read the INBO_identifiers\n",
    "species = pd.read_csv(\"../data/vocabularies/nameserver_species_identifiers_for_t0.tsv\", delimiter=\"\\t\")\n",
    "identifier_string = \"','\".join(nameserver_identifiers_for_t0[\"INBO_identifier\"].dropna().tolist())\n",
    "identifier_string = \"'\" + identifier_string + \"'\""
   ]
  },
  {
   "cell_type": "code",
   "execution_count": 94,
   "metadata": {
    "collapsed": false
   },
   "outputs": [],
   "source": [
    "surveys = pd.read_csv(\"../data/vocabularies/nameserver_survey_identifiers_for_t0s.tsv\", delimiter=\"\\t\")\n",
    "survey_string = \",\".join(surveys[\"survey_id\"].dropna().tolist())"
   ]
  },
  {
   "cell_type": "code",
   "execution_count": 95,
   "metadata": {
    "collapsed": false
   },
   "outputs": [],
   "source": [
    "with open(\"../mapping/dwc-occurrence_template.sql\") as query:\n",
    "    template_query = query.read()"
   ]
  },
  {
   "cell_type": "code",
   "execution_count": 96,
   "metadata": {
    "collapsed": false
   },
   "outputs": [],
   "source": [
    "with open(\"../mapping/dwc-occurrence.sql\", \"w\") as query:\n",
    "    query.write(template_query.format(identifier_string, survey_string))"
   ]
  },
  {
   "cell_type": "markdown",
   "metadata": {},
   "source": [
    "DONE!"
   ]
  }
 ],
 "metadata": {
  "kernelspec": {
   "display_name": "Python 3",
   "language": "python",
   "name": "python3"
  },
  "language_info": {
   "codemirror_mode": {
    "name": "ipython",
    "version": 3
   },
   "file_extension": ".py",
   "mimetype": "text/x-python",
   "name": "python",
   "nbconvert_exporter": "python",
   "pygments_lexer": "ipython3",
   "version": "3.5.1"
  },
  "widgets": {
   "state": {},
   "version": "1.1.2"
  }
 },
 "nbformat": 4,
 "nbformat_minor": 0
}
