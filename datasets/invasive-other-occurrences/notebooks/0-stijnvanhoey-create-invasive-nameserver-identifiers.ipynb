{
 "cells": [
  {
   "cell_type": "markdown",
   "metadata": {},
   "source": [
    "# Filter T0 invasive species from the nameserver data"
   ]
  },
  {
   "cell_type": "code",
   "execution_count": 1,
   "metadata": {
    "collapsed": true
   },
   "outputs": [],
   "source": [
    "%matplotlib inline\n",
    "import numpy as np\n",
    "import pandas as pd\n",
    "import matplotlib.pyplot as plt"
   ]
  },
  {
   "cell_type": "code",
   "execution_count": 2,
   "metadata": {
    "collapsed": false
   },
   "outputs": [],
   "source": [
    "plt.style.use('seaborn-notebook')"
   ]
  },
  {
   "cell_type": "markdown",
   "metadata": {},
   "source": [
    "Making a subselection of the invasive species, as defined by the [t0-values in the aggregated checklist](https://github.com/inbo/alien-species-checklist/tree/master/data/processed), from the  verified set of matched names as defined by the [INBO nameserver](https://github.com/inbo/data-publication/tree/master/datasets/name-server/data/processed). As such, this subset defines the set of identifiers to query on the INBO database:"
   ]
  },
  {
   "cell_type": "markdown",
   "metadata": {},
   "source": [
    "## Get verified nameserver names"
   ]
  },
  {
   "cell_type": "markdown",
   "metadata": {},
   "source": [
    "Reading in the recorder verified names:"
   ]
  },
  {
   "cell_type": "code",
   "execution_count": 3,
   "metadata": {
    "collapsed": false
   },
   "outputs": [],
   "source": [
    "recorder_names = pd.read_csv('../../name-server/data/processed/verified-recommended-nameserver-names.tsv', delimiter='\\t')"
   ]
  },
  {
   "cell_type": "code",
   "execution_count": 4,
   "metadata": {
    "collapsed": false
   },
   "outputs": [
    {
     "data": {
      "text/html": [
       "<div>\n",
       "<table border=\"1\" class=\"dataframe\">\n",
       "  <thead>\n",
       "    <tr style=\"text-align: right;\">\n",
       "      <th></th>\n",
       "      <th>nbn_recommendedTaxonVersionKey</th>\n",
       "      <th>nameMatchValidation</th>\n",
       "      <th>nbn_scientificName</th>\n",
       "      <th>nbn_taxonGroup</th>\n",
       "      <th>nbn_kingdom</th>\n",
       "      <th>gbifapi_kingdom</th>\n",
       "      <th>gbifapi_usageKey</th>\n",
       "      <th>gbifapi_scientificName</th>\n",
       "      <th>gbifapi_canonicalName</th>\n",
       "      <th>gbifapi_status</th>\n",
       "      <th>gbifapi_rank</th>\n",
       "      <th>gbifapi_matchType</th>\n",
       "      <th>gbifapi_note</th>\n",
       "      <th>gbifapi_acceptedKey</th>\n",
       "      <th>gbifapi_acceptedScientificName</th>\n",
       "    </tr>\n",
       "  </thead>\n",
       "  <tbody>\n",
       "    <tr>\n",
       "      <th>0</th>\n",
       "      <td>NHMSYS0000456996</td>\n",
       "      <td>ok</td>\n",
       "      <td>Caylusea</td>\n",
       "      <td>bloemplant</td>\n",
       "      <td>Plantae</td>\n",
       "      <td>Plantae</td>\n",
       "      <td>7275943</td>\n",
       "      <td>Caylusea A. St.-Hil.</td>\n",
       "      <td>Caylusea</td>\n",
       "      <td>ACCEPTED</td>\n",
       "      <td>GENUS</td>\n",
       "      <td>EXACT</td>\n",
       "      <td>NaN</td>\n",
       "      <td>7275943</td>\n",
       "      <td>Caylusea A. St.-Hil.</td>\n",
       "    </tr>\n",
       "    <tr>\n",
       "      <th>1</th>\n",
       "      <td>NHMSYS0000900079</td>\n",
       "      <td>ok</td>\n",
       "      <td>Listrognathus mactator</td>\n",
       "      <td>insect - vliesvleugelige (Hymenoptera)</td>\n",
       "      <td>Animalia</td>\n",
       "      <td>Animalia</td>\n",
       "      <td>1306714</td>\n",
       "      <td>Listrognathus mactator (Thunberg, 1822)</td>\n",
       "      <td>Listrognathus mactator</td>\n",
       "      <td>ACCEPTED</td>\n",
       "      <td>SPECIES</td>\n",
       "      <td>EXACT</td>\n",
       "      <td>NaN</td>\n",
       "      <td>1306714</td>\n",
       "      <td>Listrognathus mactator (Thunberg, 1822)</td>\n",
       "    </tr>\n",
       "    <tr>\n",
       "      <th>2</th>\n",
       "      <td>NHMSYS0000356730</td>\n",
       "      <td>ok</td>\n",
       "      <td>Dinocheirus</td>\n",
       "      <td>pseudoschorpioen (Pseudoscorpiones)</td>\n",
       "      <td>Animalia</td>\n",
       "      <td>Animalia</td>\n",
       "      <td>2127154</td>\n",
       "      <td>Dinocheirus Chamberlin, 1929</td>\n",
       "      <td>Dinocheirus</td>\n",
       "      <td>ACCEPTED</td>\n",
       "      <td>GENUS</td>\n",
       "      <td>EXACT</td>\n",
       "      <td>NaN</td>\n",
       "      <td>2127154</td>\n",
       "      <td>Dinocheirus Chamberlin, 1929</td>\n",
       "    </tr>\n",
       "    <tr>\n",
       "      <th>3</th>\n",
       "      <td>NBNSYS0100000437</td>\n",
       "      <td>ok</td>\n",
       "      <td>Anurophorus satchelli</td>\n",
       "      <td>springstaart (Collembola)</td>\n",
       "      <td>Animalia</td>\n",
       "      <td>Animalia</td>\n",
       "      <td>5166810</td>\n",
       "      <td>Anurophorus satchelli Goto, 1956</td>\n",
       "      <td>Anurophorus satchelli</td>\n",
       "      <td>ACCEPTED</td>\n",
       "      <td>SPECIES</td>\n",
       "      <td>EXACT</td>\n",
       "      <td>NaN</td>\n",
       "      <td>5166810</td>\n",
       "      <td>Anurophorus satchelli Goto, 1956</td>\n",
       "    </tr>\n",
       "    <tr>\n",
       "      <th>4</th>\n",
       "      <td>NHMSYS0000309359</td>\n",
       "      <td>ok</td>\n",
       "      <td>Anthelia juratzkana</td>\n",
       "      <td>levermos</td>\n",
       "      <td>Plantae</td>\n",
       "      <td>Plantae</td>\n",
       "      <td>5710214</td>\n",
       "      <td>Anthelia juratzkana (Limpr.) Trevis.</td>\n",
       "      <td>Anthelia juratzkana</td>\n",
       "      <td>ACCEPTED</td>\n",
       "      <td>SPECIES</td>\n",
       "      <td>EXACT</td>\n",
       "      <td>NaN</td>\n",
       "      <td>5710214</td>\n",
       "      <td>Anthelia juratzkana (Limpr.) Trevis.</td>\n",
       "    </tr>\n",
       "  </tbody>\n",
       "</table>\n",
       "</div>"
      ],
      "text/plain": [
       "  nbn_recommendedTaxonVersionKey nameMatchValidation      nbn_scientificName  \\\n",
       "0               NHMSYS0000456996                  ok                Caylusea   \n",
       "1               NHMSYS0000900079                  ok  Listrognathus mactator   \n",
       "2               NHMSYS0000356730                  ok             Dinocheirus   \n",
       "3               NBNSYS0100000437                  ok   Anurophorus satchelli   \n",
       "4               NHMSYS0000309359                  ok     Anthelia juratzkana   \n",
       "\n",
       "                           nbn_taxonGroup nbn_kingdom gbifapi_kingdom  \\\n",
       "0                              bloemplant     Plantae         Plantae   \n",
       "1  insect - vliesvleugelige (Hymenoptera)    Animalia        Animalia   \n",
       "2     pseudoschorpioen (Pseudoscorpiones)    Animalia        Animalia   \n",
       "3               springstaart (Collembola)    Animalia        Animalia   \n",
       "4                                levermos     Plantae         Plantae   \n",
       "\n",
       "   gbifapi_usageKey                   gbifapi_scientificName  \\\n",
       "0           7275943                     Caylusea A. St.-Hil.   \n",
       "1           1306714  Listrognathus mactator (Thunberg, 1822)   \n",
       "2           2127154             Dinocheirus Chamberlin, 1929   \n",
       "3           5166810         Anurophorus satchelli Goto, 1956   \n",
       "4           5710214     Anthelia juratzkana (Limpr.) Trevis.   \n",
       "\n",
       "    gbifapi_canonicalName gbifapi_status gbifapi_rank gbifapi_matchType  \\\n",
       "0                Caylusea       ACCEPTED        GENUS             EXACT   \n",
       "1  Listrognathus mactator       ACCEPTED      SPECIES             EXACT   \n",
       "2             Dinocheirus       ACCEPTED        GENUS             EXACT   \n",
       "3   Anurophorus satchelli       ACCEPTED      SPECIES             EXACT   \n",
       "4     Anthelia juratzkana       ACCEPTED      SPECIES             EXACT   \n",
       "\n",
       "  gbifapi_note  gbifapi_acceptedKey           gbifapi_acceptedScientificName  \n",
       "0          NaN              7275943                     Caylusea A. St.-Hil.  \n",
       "1          NaN              1306714  Listrognathus mactator (Thunberg, 1822)  \n",
       "2          NaN              2127154             Dinocheirus Chamberlin, 1929  \n",
       "3          NaN              5166810         Anurophorus satchelli Goto, 1956  \n",
       "4          NaN              5710214     Anthelia juratzkana (Limpr.) Trevis.  "
      ]
     },
     "execution_count": 4,
     "metadata": {},
     "output_type": "execute_result"
    }
   ],
   "source": [
    "recorder_names.head()"
   ]
  },
  {
   "cell_type": "markdown",
   "metadata": {},
   "source": [
    "## Get t0 alien species checklist names"
   ]
  },
  {
   "cell_type": "markdown",
   "metadata": {},
   "source": [
    "Reading in the species checklist:"
   ]
  },
  {
   "cell_type": "code",
   "execution_count": 5,
   "metadata": {
    "collapsed": true
   },
   "outputs": [],
   "source": [
    "alien_species_checklist = pd.read_csv('https://raw.githubusercontent.com/inbo/alien-species-checklist/master/data/processed/aggregated-checklist.tsv', delimiter='\\t')"
   ]
  },
  {
   "cell_type": "code",
   "execution_count": 6,
   "metadata": {
    "collapsed": false
   },
   "outputs": [
    {
     "data": {
      "text/plain": [
       "array(['plants', 'wrims', 'harmonia | plants | t0', 'harmonia | plants',\n",
       "       'fishes', 'harmonia', 'harmonia | t0', 't0', 'fishes | harmonia',\n",
       "       'macroinvertebrates | wrims', 'plants | t0', 'macroinvertebrates',\n",
       "       'macroinvertebrates | t0 | wrims', 'fishes | wrims',\n",
       "       'fishes | harmonia | t0', 'fishes | harmonia | wrims',\n",
       "       'macroinvertebrates | t0',\n",
       "       'harmonia | macroinvertebrates | t0 | wrims', 't0 | wrims',\n",
       "       'harmonia | wrims', 'harmonia | plants | t0 | wrims'], dtype=object)"
      ]
     },
     "execution_count": 6,
     "metadata": {},
     "output_type": "execute_result"
    }
   ],
   "source": [
    "alien_species_checklist['datasetName'].unique()"
   ]
  },
  {
   "cell_type": "markdown",
   "metadata": {},
   "source": [
    "All rows for which the t0 is part of the `datasetName` should be taken into account:"
   ]
  },
  {
   "cell_type": "code",
   "execution_count": 7,
   "metadata": {
    "collapsed": false
   },
   "outputs": [],
   "source": [
    "t0_alien_species_checklist = alien_species_checklist.loc[alien_species_checklist['datasetName'].str.contains('t0'), :]"
   ]
  },
  {
   "cell_type": "code",
   "execution_count": 8,
   "metadata": {
    "collapsed": false
   },
   "outputs": [
    {
     "data": {
      "text/html": [
       "<div>\n",
       "<table border=\"1\" class=\"dataframe\">\n",
       "  <thead>\n",
       "    <tr style=\"text-align: right;\">\n",
       "      <th></th>\n",
       "      <th>gbifapi_acceptedScientificName</th>\n",
       "      <th>gbifapi_acceptedKey</th>\n",
       "      <th>kingdom</th>\n",
       "      <th>datasetName</th>\n",
       "      <th>euConcernStatus</th>\n",
       "      <th>firstObservationYearBE</th>\n",
       "      <th>firstObservationYearFL</th>\n",
       "      <th>invasionStage</th>\n",
       "      <th>habitat</th>\n",
       "      <th>nativeRange</th>\n",
       "      <th>introductionPathway</th>\n",
       "      <th>presenceBE</th>\n",
       "      <th>presenceFL</th>\n",
       "      <th>presenceWA</th>\n",
       "      <th>presenceBR</th>\n",
       "      <th>gbifapi_scientificName</th>\n",
       "      <th>index</th>\n",
       "    </tr>\n",
       "  </thead>\n",
       "  <tbody>\n",
       "    <tr>\n",
       "      <th>11</th>\n",
       "      <td>Acer negundo L.</td>\n",
       "      <td>3189866</td>\n",
       "      <td>Plantae</td>\n",
       "      <td>harmonia | plants | t0</td>\n",
       "      <td>under consideration</td>\n",
       "      <td>1955</td>\n",
       "      <td>NaN</td>\n",
       "      <td>established | invasive</td>\n",
       "      <td>terrestrial | to be determined by experts</td>\n",
       "      <td>N. America</td>\n",
       "      <td>escape &gt; horticulture | escape &gt; to be determi...</td>\n",
       "      <td>present</td>\n",
       "      <td>present | to be determined by experts</td>\n",
       "      <td>present | to be determined by experts</td>\n",
       "      <td>present | to be determined by experts</td>\n",
       "      <td>Acer negundo L.</td>\n",
       "      <td>23 | 24 | 2498 | 9552</td>\n",
       "    </tr>\n",
       "    <tr>\n",
       "      <th>88</th>\n",
       "      <td>Alopochen aegyptiaca (Linnaeus, 1766)</td>\n",
       "      <td>2498252</td>\n",
       "      <td>Animalia</td>\n",
       "      <td>harmonia | t0</td>\n",
       "      <td>under consideration</td>\n",
       "      <td>1984</td>\n",
       "      <td>NaN</td>\n",
       "      <td>invasive</td>\n",
       "      <td>freshwater</td>\n",
       "      <td>Africa</td>\n",
       "      <td>escape &gt; pet/aquarium/terrarium species (inclu...</td>\n",
       "      <td>present</td>\n",
       "      <td>present | to be determined by experts</td>\n",
       "      <td>present | to be determined by experts</td>\n",
       "      <td>present | to be determined by experts</td>\n",
       "      <td>Alopochen aegyptiaca (Linnaeus, 1766)</td>\n",
       "      <td>30 | 9553</td>\n",
       "    </tr>\n",
       "    <tr>\n",
       "      <th>93</th>\n",
       "      <td>Alternanthera philoxeroides (Mart.) Griseb.</td>\n",
       "      <td>3084923</td>\n",
       "      <td>Plantae</td>\n",
       "      <td>t0</td>\n",
       "      <td>under consideration</td>\n",
       "      <td>NaN</td>\n",
       "      <td>NaN</td>\n",
       "      <td>NaN</td>\n",
       "      <td>NaN</td>\n",
       "      <td>NaN</td>\n",
       "      <td>NaN</td>\n",
       "      <td>absent</td>\n",
       "      <td>to be determined by experts</td>\n",
       "      <td>to be determined by experts</td>\n",
       "      <td>to be determined by experts</td>\n",
       "      <td>Alternanthera philoxeroides (Mart.) Griseb.</td>\n",
       "      <td>9554</td>\n",
       "    </tr>\n",
       "    <tr>\n",
       "      <th>133</th>\n",
       "      <td>Ameiurus melas (Rafinesque, 1820)</td>\n",
       "      <td>2340977</td>\n",
       "      <td>Animalia</td>\n",
       "      <td>t0</td>\n",
       "      <td>under consideration</td>\n",
       "      <td>NaN</td>\n",
       "      <td>NaN</td>\n",
       "      <td>NaN</td>\n",
       "      <td>NaN</td>\n",
       "      <td>NaN</td>\n",
       "      <td>NaN</td>\n",
       "      <td>absent</td>\n",
       "      <td>to be determined by experts</td>\n",
       "      <td>to be determined by experts</td>\n",
       "      <td>to be determined by experts</td>\n",
       "      <td>Ameiurus melas (Rafinesque, 1820)</td>\n",
       "      <td>9555</td>\n",
       "    </tr>\n",
       "    <tr>\n",
       "      <th>225</th>\n",
       "      <td>Asclepias syriaca L.</td>\n",
       "      <td>3170247</td>\n",
       "      <td>Plantae</td>\n",
       "      <td>plants | t0</td>\n",
       "      <td>under consideration</td>\n",
       "      <td>1987</td>\n",
       "      <td>NaN</td>\n",
       "      <td>unknown</td>\n",
       "      <td>to be determined by experts</td>\n",
       "      <td>N. America</td>\n",
       "      <td>escape &gt; horticulture</td>\n",
       "      <td>present</td>\n",
       "      <td>present | to be determined by experts</td>\n",
       "      <td>absent | to be determined by experts</td>\n",
       "      <td>present | to be determined by experts</td>\n",
       "      <td>Asclepias syriaca L.</td>\n",
       "      <td>431 | 9556</td>\n",
       "    </tr>\n",
       "  </tbody>\n",
       "</table>\n",
       "</div>"
      ],
      "text/plain": [
       "                  gbifapi_acceptedScientificName  gbifapi_acceptedKey  \\\n",
       "11                               Acer negundo L.              3189866   \n",
       "88         Alopochen aegyptiaca (Linnaeus, 1766)              2498252   \n",
       "93   Alternanthera philoxeroides (Mart.) Griseb.              3084923   \n",
       "133            Ameiurus melas (Rafinesque, 1820)              2340977   \n",
       "225                         Asclepias syriaca L.              3170247   \n",
       "\n",
       "      kingdom             datasetName      euConcernStatus  \\\n",
       "11    Plantae  harmonia | plants | t0  under consideration   \n",
       "88   Animalia           harmonia | t0  under consideration   \n",
       "93    Plantae                      t0  under consideration   \n",
       "133  Animalia                      t0  under consideration   \n",
       "225   Plantae             plants | t0  under consideration   \n",
       "\n",
       "    firstObservationYearBE firstObservationYearFL           invasionStage  \\\n",
       "11                    1955                    NaN  established | invasive   \n",
       "88                    1984                    NaN                invasive   \n",
       "93                     NaN                    NaN                     NaN   \n",
       "133                    NaN                    NaN                     NaN   \n",
       "225                   1987                    NaN                 unknown   \n",
       "\n",
       "                                       habitat nativeRange  \\\n",
       "11   terrestrial | to be determined by experts  N. America   \n",
       "88                                  freshwater      Africa   \n",
       "93                                         NaN         NaN   \n",
       "133                                        NaN         NaN   \n",
       "225                to be determined by experts  N. America   \n",
       "\n",
       "                                   introductionPathway presenceBE  \\\n",
       "11   escape > horticulture | escape > to be determi...    present   \n",
       "88   escape > pet/aquarium/terrarium species (inclu...    present   \n",
       "93                                                 NaN     absent   \n",
       "133                                                NaN     absent   \n",
       "225                              escape > horticulture    present   \n",
       "\n",
       "                                presenceFL  \\\n",
       "11   present | to be determined by experts   \n",
       "88   present | to be determined by experts   \n",
       "93             to be determined by experts   \n",
       "133            to be determined by experts   \n",
       "225  present | to be determined by experts   \n",
       "\n",
       "                                presenceWA  \\\n",
       "11   present | to be determined by experts   \n",
       "88   present | to be determined by experts   \n",
       "93             to be determined by experts   \n",
       "133            to be determined by experts   \n",
       "225   absent | to be determined by experts   \n",
       "\n",
       "                                presenceBR  \\\n",
       "11   present | to be determined by experts   \n",
       "88   present | to be determined by experts   \n",
       "93             to be determined by experts   \n",
       "133            to be determined by experts   \n",
       "225  present | to be determined by experts   \n",
       "\n",
       "                          gbifapi_scientificName                  index  \n",
       "11                               Acer negundo L.  23 | 24 | 2498 | 9552  \n",
       "88         Alopochen aegyptiaca (Linnaeus, 1766)              30 | 9553  \n",
       "93   Alternanthera philoxeroides (Mart.) Griseb.                   9554  \n",
       "133            Ameiurus melas (Rafinesque, 1820)                   9555  \n",
       "225                         Asclepias syriaca L.             431 | 9556  "
      ]
     },
     "execution_count": 8,
     "metadata": {},
     "output_type": "execute_result"
    }
   ],
   "source": [
    "t0_alien_species_checklist.head()"
   ]
  },
  {
   "cell_type": "code",
   "execution_count": 9,
   "metadata": {
    "collapsed": false
   },
   "outputs": [
    {
     "data": {
      "text/plain": [
       "148"
      ]
     },
     "execution_count": 9,
     "metadata": {},
     "output_type": "execute_result"
    }
   ],
   "source": [
    "len(t0_alien_species_checklist)"
   ]
  },
  {
   "cell_type": "markdown",
   "metadata": {},
   "source": [
    "## Derive nameserver identifiers corresponding to alien species"
   ]
  },
  {
   "cell_type": "markdown",
   "metadata": {},
   "source": [
    "What we want, is a list of `gbifapi_acceptedKey` from the t0 set of invasive species and check for each acceptedKey the corresponding identifiers of the nameserver. "
   ]
  },
  {
   "cell_type": "code",
   "execution_count": 10,
   "metadata": {
    "collapsed": false
   },
   "outputs": [
    {
     "data": {
      "text/plain": [
       "nbn_recommendedTaxonVersionKey    object\n",
       "gbifapi_acceptedKey                int64\n",
       "dtype: object"
      ]
     },
     "execution_count": 10,
     "metadata": {},
     "output_type": "execute_result"
    }
   ],
   "source": [
    "recorder_names[['nbn_recommendedTaxonVersionKey', 'gbifapi_acceptedKey']].dtypes"
   ]
  },
  {
   "cell_type": "code",
   "execution_count": 11,
   "metadata": {
    "collapsed": false
   },
   "outputs": [],
   "source": [
    "nameserver_identifiers_for_t0 = pd.merge(t0_alien_species_checklist[['gbifapi_acceptedScientificName', 'gbifapi_acceptedKey']], \n",
    "                                         recorder_names[['nbn_recommendedTaxonVersionKey', 'gbifapi_acceptedKey']], \n",
    "                                         how='left', \n",
    "                                         left_on=\"gbifapi_acceptedKey\", \n",
    "                                         right_on=\"gbifapi_acceptedKey\")"
   ]
  },
  {
   "cell_type": "code",
   "execution_count": 12,
   "metadata": {
    "collapsed": false
   },
   "outputs": [
    {
     "data": {
      "text/html": [
       "<div>\n",
       "<table border=\"1\" class=\"dataframe\">\n",
       "  <thead>\n",
       "    <tr style=\"text-align: right;\">\n",
       "      <th></th>\n",
       "      <th>gbifapi_acceptedScientificName</th>\n",
       "      <th>gbifapi_acceptedKey</th>\n",
       "      <th>nbn_recommendedTaxonVersionKey</th>\n",
       "    </tr>\n",
       "  </thead>\n",
       "  <tbody>\n",
       "    <tr>\n",
       "      <th>0</th>\n",
       "      <td>Acer negundo L.</td>\n",
       "      <td>3189866</td>\n",
       "      <td>NBNSYS0000014604</td>\n",
       "    </tr>\n",
       "    <tr>\n",
       "      <th>1</th>\n",
       "      <td>Alopochen aegyptiaca (Linnaeus, 1766)</td>\n",
       "      <td>2498252</td>\n",
       "      <td>NHMSYS0001689380</td>\n",
       "    </tr>\n",
       "    <tr>\n",
       "      <th>2</th>\n",
       "      <td>Alternanthera philoxeroides (Mart.) Griseb.</td>\n",
       "      <td>3084923</td>\n",
       "      <td>NaN</td>\n",
       "    </tr>\n",
       "    <tr>\n",
       "      <th>3</th>\n",
       "      <td>Ameiurus melas (Rafinesque, 1820)</td>\n",
       "      <td>2340977</td>\n",
       "      <td>NHMSYS0000544615</td>\n",
       "    </tr>\n",
       "    <tr>\n",
       "      <th>4</th>\n",
       "      <td>Asclepias syriaca L.</td>\n",
       "      <td>3170247</td>\n",
       "      <td>INBSYS0000005932</td>\n",
       "    </tr>\n",
       "  </tbody>\n",
       "</table>\n",
       "</div>"
      ],
      "text/plain": [
       "                gbifapi_acceptedScientificName  gbifapi_acceptedKey  \\\n",
       "0                              Acer negundo L.              3189866   \n",
       "1        Alopochen aegyptiaca (Linnaeus, 1766)              2498252   \n",
       "2  Alternanthera philoxeroides (Mart.) Griseb.              3084923   \n",
       "3            Ameiurus melas (Rafinesque, 1820)              2340977   \n",
       "4                         Asclepias syriaca L.              3170247   \n",
       "\n",
       "  nbn_recommendedTaxonVersionKey  \n",
       "0               NBNSYS0000014604  \n",
       "1               NHMSYS0001689380  \n",
       "2                            NaN  \n",
       "3               NHMSYS0000544615  \n",
       "4               INBSYS0000005932  "
      ]
     },
     "execution_count": 12,
     "metadata": {},
     "output_type": "execute_result"
    }
   ],
   "source": [
    "nameserver_identifiers_for_t0.head()"
   ]
  },
  {
   "cell_type": "markdown",
   "metadata": {},
   "source": [
    "This is what will be needed to:\n",
    "* setup the query to get data out of recorder (INBO dbae)\n",
    "* provide datasets coming from recorder again with the corresponding `acceptedKey` of GBIF"
   ]
  },
  {
   "cell_type": "code",
   "execution_count": 13,
   "metadata": {
    "collapsed": true
   },
   "outputs": [],
   "source": [
    "nameserver_identifiers_for_t0.to_csv('../data/vocabularies/nameserver-species-identifiers-for-t0.tsv', \n",
    "                                     index=False, sep='\\t', na_rep='')"
   ]
  },
  {
   "cell_type": "markdown",
   "metadata": {},
   "source": [
    "## Create a query from the template by filling in the identifiers of the species and surveys"
   ]
  },
  {
   "cell_type": "code",
   "execution_count": 14,
   "metadata": {
    "collapsed": false
   },
   "outputs": [],
   "source": [
    "# Read the INBO_identifiers\n",
    "species = pd.read_csv('../data/vocabularies/nameserver-species-identifiers-for-t0.tsv', delimiter='\\t')\n",
    "identifier_string = \"','\".join(nameserver_identifiers_for_t0['nbn_recommendedTaxonVersionKey'].dropna().tolist())\n",
    "identifier_string = \"'\" + identifier_string + \"'\""
   ]
  },
  {
   "cell_type": "code",
   "execution_count": 15,
   "metadata": {
    "collapsed": false
   },
   "outputs": [],
   "source": [
    "surveys = pd.read_csv('../data/vocabularies/nameserver-survey-identifiers-for-t0s.tsv', delimiter='\\t')\n",
    "survey_string = ','.join(surveys['survey_id'].dropna().tolist())"
   ]
  },
  {
   "cell_type": "code",
   "execution_count": 16,
   "metadata": {
    "collapsed": false
   },
   "outputs": [],
   "source": [
    "with open('../mapping/dwc-occurrence-template.sql') as query:\n",
    "    template_query = query.read()"
   ]
  },
  {
   "cell_type": "code",
   "execution_count": 17,
   "metadata": {
    "collapsed": false
   },
   "outputs": [],
   "source": [
    "with open('../mapping/dwc-occurrence.sql', 'w') as query:\n",
    "    query.write(template_query.format(identifier_string, survey_string))"
   ]
  },
  {
   "cell_type": "markdown",
   "metadata": {},
   "source": [
    "DONE!"
   ]
  }
 ],
 "metadata": {
  "kernelspec": {
   "display_name": "Python 3",
   "language": "python",
   "name": "python3"
  },
  "language_info": {
   "codemirror_mode": {
    "name": "ipython",
    "version": 3
   },
   "file_extension": ".py",
   "mimetype": "text/x-python",
   "name": "python",
   "nbconvert_exporter": "python",
   "pygments_lexer": "ipython3",
   "version": "3.5.1"
  },
  "widgets": {
   "state": {},
   "version": "1.1.2"
  }
 },
 "nbformat": 4,
 "nbformat_minor": 0
}
