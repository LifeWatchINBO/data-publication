{
 "cells": [
  {
   "cell_type": "code",
   "execution_count": 19,
   "metadata": {
    "collapsed": true
   },
   "outputs": [],
   "source": [
    "import json\n",
    "import requests\n",
    "\n",
    "import pandas as pd"
   ]
  },
  {
   "cell_type": "code",
   "execution_count": 20,
   "metadata": {
    "collapsed": false
   },
   "outputs": [],
   "source": [
    "from gbif_species_name_match import (extract_gbif_species_names_info, \n",
    "                                     extract_species_information,\n",
    "                                    extract_gbif_accepted_key)"
   ]
  },
  {
   "cell_type": "code",
   "execution_count": 32,
   "metadata": {
    "collapsed": false
   },
   "outputs": [],
   "source": [
    "speciesABV = pd.read_csv (\"soortenlijst-csv.csv\")"
   ]
  },
  {
   "cell_type": "code",
   "execution_count": 33,
   "metadata": {
    "collapsed": false
   },
   "outputs": [
    {
     "name": "stdout",
     "output_type": "stream",
     "text": [
      "Using only scientificName as name column for API request.\n"
     ]
    }
   ],
   "source": [
    "\n",
    "speciesMatch = extract_species_information(\"soortenlijst-csv.csv\", output=None, api_terms=\"all\")"
   ]
  },
  {
   "cell_type": "code",
   "execution_count": 34,
   "metadata": {
    "collapsed": false
   },
   "outputs": [
    {
     "data": {
      "text/html": [
       "<div>\n",
       "<table border=\"1\" class=\"dataframe\">\n",
       "  <thead>\n",
       "    <tr style=\"text-align: right;\">\n",
       "      <th></th>\n",
       "      <th>scientificName</th>\n",
       "      <th>genus</th>\n",
       "      <th>species</th>\n",
       "      <th>scientificName 3</th>\n",
       "      <th>gbifapi_acceptedKey</th>\n",
       "      <th>gbifapi_acceptedScientificName</th>\n",
       "      <th>gbifapi_canonicalName</th>\n",
       "      <th>gbifapi_class</th>\n",
       "      <th>gbifapi_classKey</th>\n",
       "      <th>gbifapi_confidence</th>\n",
       "      <th>...</th>\n",
       "      <th>gbifapi_orderKey</th>\n",
       "      <th>gbifapi_phylum</th>\n",
       "      <th>gbifapi_phylumKey</th>\n",
       "      <th>gbifapi_rank</th>\n",
       "      <th>gbifapi_scientificName</th>\n",
       "      <th>gbifapi_species</th>\n",
       "      <th>gbifapi_speciesKey</th>\n",
       "      <th>gbifapi_status</th>\n",
       "      <th>gbifapi_synonym</th>\n",
       "      <th>gbifapi_usageKey</th>\n",
       "    </tr>\n",
       "  </thead>\n",
       "  <tbody>\n",
       "    <tr>\n",
       "      <th>0</th>\n",
       "      <td>Accipiter gentilis</td>\n",
       "      <td>Accipiter</td>\n",
       "      <td>gentilis</td>\n",
       "      <td>NaN</td>\n",
       "      <td>2480589</td>\n",
       "      <td>Accipiter gentilis (Linnaeus, 1758)</td>\n",
       "      <td>Accipiter gentilis</td>\n",
       "      <td>Aves</td>\n",
       "      <td>212</td>\n",
       "      <td>99</td>\n",
       "      <td>...</td>\n",
       "      <td>7191147</td>\n",
       "      <td>Chordata</td>\n",
       "      <td>44</td>\n",
       "      <td>SPECIES</td>\n",
       "      <td>Accipiter gentilis (Linnaeus, 1758)</td>\n",
       "      <td>Accipiter gentilis</td>\n",
       "      <td>2480589</td>\n",
       "      <td>ACCEPTED</td>\n",
       "      <td>False</td>\n",
       "      <td>2480589</td>\n",
       "    </tr>\n",
       "    <tr>\n",
       "      <th>1</th>\n",
       "      <td>Accipiter nisus</td>\n",
       "      <td>Accipiter</td>\n",
       "      <td>nisus</td>\n",
       "      <td>NaN</td>\n",
       "      <td>2480637</td>\n",
       "      <td>Accipiter nisus (Linnaeus, 1758)</td>\n",
       "      <td>Accipiter nisus</td>\n",
       "      <td>Aves</td>\n",
       "      <td>212</td>\n",
       "      <td>99</td>\n",
       "      <td>...</td>\n",
       "      <td>7191147</td>\n",
       "      <td>Chordata</td>\n",
       "      <td>44</td>\n",
       "      <td>SPECIES</td>\n",
       "      <td>Accipiter nisus (Linnaeus, 1758)</td>\n",
       "      <td>Accipiter nisus</td>\n",
       "      <td>2480637</td>\n",
       "      <td>ACCEPTED</td>\n",
       "      <td>False</td>\n",
       "      <td>2480637</td>\n",
       "    </tr>\n",
       "    <tr>\n",
       "      <th>2</th>\n",
       "      <td>Acrocephalus palustris</td>\n",
       "      <td>Acrocephalus</td>\n",
       "      <td>palustris</td>\n",
       "      <td>NaN</td>\n",
       "      <td>2493136</td>\n",
       "      <td>Acrocephalus palustris (Bechstein, 1798)</td>\n",
       "      <td>Acrocephalus palustris</td>\n",
       "      <td>Aves</td>\n",
       "      <td>212</td>\n",
       "      <td>99</td>\n",
       "      <td>...</td>\n",
       "      <td>729</td>\n",
       "      <td>Chordata</td>\n",
       "      <td>44</td>\n",
       "      <td>SPECIES</td>\n",
       "      <td>Acrocephalus palustris (Bechstein, 1798)</td>\n",
       "      <td>Acrocephalus palustris</td>\n",
       "      <td>2493136</td>\n",
       "      <td>ACCEPTED</td>\n",
       "      <td>False</td>\n",
       "      <td>2493136</td>\n",
       "    </tr>\n",
       "    <tr>\n",
       "      <th>3</th>\n",
       "      <td>Acrocephalus schoenobaenus</td>\n",
       "      <td>Acrocephalus</td>\n",
       "      <td>schoenobaenus</td>\n",
       "      <td>NaN</td>\n",
       "      <td>2493129</td>\n",
       "      <td>Acrocephalus schoenobaenus (Linnaeus, 1758)</td>\n",
       "      <td>Acrocephalus schoenobaenus</td>\n",
       "      <td>Aves</td>\n",
       "      <td>212</td>\n",
       "      <td>99</td>\n",
       "      <td>...</td>\n",
       "      <td>729</td>\n",
       "      <td>Chordata</td>\n",
       "      <td>44</td>\n",
       "      <td>SPECIES</td>\n",
       "      <td>Acrocephalus schoenobaenus (Linnaeus, 1758)</td>\n",
       "      <td>Acrocephalus schoenobaenus</td>\n",
       "      <td>2493129</td>\n",
       "      <td>ACCEPTED</td>\n",
       "      <td>False</td>\n",
       "      <td>2493129</td>\n",
       "    </tr>\n",
       "    <tr>\n",
       "      <th>4</th>\n",
       "      <td>Acrocephalus scirpaceus</td>\n",
       "      <td>Acrocephalus</td>\n",
       "      <td>scirpaceus</td>\n",
       "      <td>NaN</td>\n",
       "      <td>2493118</td>\n",
       "      <td>Acrocephalus scirpaceus (Hermann, 1804)</td>\n",
       "      <td>Acrocephalus scirpaceus</td>\n",
       "      <td>Aves</td>\n",
       "      <td>212</td>\n",
       "      <td>99</td>\n",
       "      <td>...</td>\n",
       "      <td>729</td>\n",
       "      <td>Chordata</td>\n",
       "      <td>44</td>\n",
       "      <td>SPECIES</td>\n",
       "      <td>Acrocephalus scirpaceus (Hermann, 1804)</td>\n",
       "      <td>Acrocephalus scirpaceus</td>\n",
       "      <td>2493118</td>\n",
       "      <td>ACCEPTED</td>\n",
       "      <td>False</td>\n",
       "      <td>2493118</td>\n",
       "    </tr>\n",
       "  </tbody>\n",
       "</table>\n",
       "<p>5 rows × 28 columns</p>\n",
       "</div>"
      ],
      "text/plain": [
       "               scientificName         genus        species scientificName 3  \\\n",
       "0          Accipiter gentilis     Accipiter       gentilis              NaN   \n",
       "1             Accipiter nisus     Accipiter          nisus              NaN   \n",
       "2      Acrocephalus palustris  Acrocephalus      palustris              NaN   \n",
       "3  Acrocephalus schoenobaenus  Acrocephalus  schoenobaenus              NaN   \n",
       "4     Acrocephalus scirpaceus  Acrocephalus     scirpaceus              NaN   \n",
       "\n",
       "  gbifapi_acceptedKey               gbifapi_acceptedScientificName  \\\n",
       "0             2480589          Accipiter gentilis (Linnaeus, 1758)   \n",
       "1             2480637             Accipiter nisus (Linnaeus, 1758)   \n",
       "2             2493136     Acrocephalus palustris (Bechstein, 1798)   \n",
       "3             2493129  Acrocephalus schoenobaenus (Linnaeus, 1758)   \n",
       "4             2493118      Acrocephalus scirpaceus (Hermann, 1804)   \n",
       "\n",
       "        gbifapi_canonicalName gbifapi_class gbifapi_classKey  \\\n",
       "0          Accipiter gentilis          Aves              212   \n",
       "1             Accipiter nisus          Aves              212   \n",
       "2      Acrocephalus palustris          Aves              212   \n",
       "3  Acrocephalus schoenobaenus          Aves              212   \n",
       "4     Acrocephalus scirpaceus          Aves              212   \n",
       "\n",
       "  gbifapi_confidence       ...        gbifapi_orderKey gbifapi_phylum  \\\n",
       "0                 99       ...                 7191147       Chordata   \n",
       "1                 99       ...                 7191147       Chordata   \n",
       "2                 99       ...                     729       Chordata   \n",
       "3                 99       ...                     729       Chordata   \n",
       "4                 99       ...                     729       Chordata   \n",
       "\n",
       "  gbifapi_phylumKey gbifapi_rank                       gbifapi_scientificName  \\\n",
       "0                44      SPECIES          Accipiter gentilis (Linnaeus, 1758)   \n",
       "1                44      SPECIES             Accipiter nisus (Linnaeus, 1758)   \n",
       "2                44      SPECIES     Acrocephalus palustris (Bechstein, 1798)   \n",
       "3                44      SPECIES  Acrocephalus schoenobaenus (Linnaeus, 1758)   \n",
       "4                44      SPECIES      Acrocephalus scirpaceus (Hermann, 1804)   \n",
       "\n",
       "              gbifapi_species gbifapi_speciesKey gbifapi_status  \\\n",
       "0          Accipiter gentilis            2480589       ACCEPTED   \n",
       "1             Accipiter nisus            2480637       ACCEPTED   \n",
       "2      Acrocephalus palustris            2493136       ACCEPTED   \n",
       "3  Acrocephalus schoenobaenus            2493129       ACCEPTED   \n",
       "4     Acrocephalus scirpaceus            2493118       ACCEPTED   \n",
       "\n",
       "  gbifapi_synonym gbifapi_usageKey  \n",
       "0           False          2480589  \n",
       "1           False          2480637  \n",
       "2           False          2493136  \n",
       "3           False          2493129  \n",
       "4           False          2493118  \n",
       "\n",
       "[5 rows x 28 columns]"
      ]
     },
     "execution_count": 34,
     "metadata": {},
     "output_type": "execute_result"
    }
   ],
   "source": [
    "speciesMatch.head()"
   ]
  },
  {
   "cell_type": "code",
   "execution_count": 35,
   "metadata": {
    "collapsed": true
   },
   "outputs": [],
   "source": [
    "speciesMatch.to_csv(\"speciesMatchABV.csv\", index=False)\n"
   ]
  },
  {
   "cell_type": "code",
   "execution_count": null,
   "metadata": {
    "collapsed": true
   },
   "outputs": [],
   "source": []
  }
 ],
 "metadata": {
  "kernelspec": {
   "display_name": "Python 3",
   "language": "python",
   "name": "python3"
  },
  "language_info": {
   "codemirror_mode": {
    "name": "ipython",
    "version": 3
   },
   "file_extension": ".py",
   "mimetype": "text/x-python",
   "name": "python",
   "nbconvert_exporter": "python",
   "pygments_lexer": "ipython3",
   "version": "3.6.0"
  }
 },
 "nbformat": 4,
 "nbformat_minor": 2
}
